{
 "cells": [
  {
   "cell_type": "markdown",
   "id": "af03f6d0",
   "metadata": {
    "papermill": {
     "duration": 0.046988,
     "end_time": "2021-09-02T16:40:55.162052",
     "exception": false,
     "start_time": "2021-09-02T16:40:55.115064",
     "status": "completed"
    },
    "tags": []
   },
   "source": [
    "<a href=\"datacamp.com/workspacecompetition\" target=\"_blank\">![banner](banner.png)</a>\n",
    "\n",
    "# Loan Data\n",
    "\n",
    "Ready to put your coding skills to the test? Join us for our Workspace Competition.  \n",
    "For more information, visit [datacamp.com/workspacecompetition](https://datacamp.com/workspacecompetition) "
   ]
  },
  {
   "cell_type": "markdown",
   "id": "ef205990",
   "metadata": {
    "papermill": {
     "duration": 0.042375,
     "end_time": "2021-09-02T16:40:55.251473",
     "exception": false,
     "start_time": "2021-09-02T16:40:55.209098",
     "status": "completed"
    },
    "tags": []
   },
   "source": [
    "## Context\n",
    "This dataset ([source](https://www.kaggle.com/itssuru/loan-data)) consists of data from almost 10,000 borrowers that took loans - with some paid back and others still in progress. It was extracted from lendingclub.com which is an organization that connects borrowers with investors. We've included a few suggested questions at the end of this template to help you get started."
   ]
  },
  {
   "cell_type": "code",
   "execution_count": 1,
   "id": "37742c4e",
   "metadata": {
    "execution": {
     "iopub.execute_input": "2021-09-02T16:40:55.343815Z",
     "iopub.status.busy": "2021-09-02T16:40:55.341935Z",
     "iopub.status.idle": "2021-09-02T16:41:08.625298Z",
     "shell.execute_reply": "2021-09-02T16:41:08.624564Z",
     "shell.execute_reply.started": "2021-09-02T14:39:05.266767Z"
    },
    "papermill": {
     "duration": 13.330793,
     "end_time": "2021-09-02T16:41:08.625479",
     "exception": false,
     "start_time": "2021-09-02T16:40:55.294686",
     "status": "completed"
    },
    "tags": []
   },
   "outputs": [
    {
     "name": "stdout",
     "output_type": "stream",
     "text": [
      "Collecting empiricaldist\r\n",
      "  Downloading empiricaldist-0.6.2.tar.gz (9.5 kB)\r\n",
      "Building wheels for collected packages: empiricaldist\r\n",
      "  Building wheel for empiricaldist (setup.py) ... \u001b[?25l-\b \b\\\b \bdone\r\n",
      "\u001b[?25h  Created wheel for empiricaldist: filename=empiricaldist-0.6.2-py3-none-any.whl size=10733 sha256=084d112d6a26e99bba488ef7f3039a46fed3c4ec28e3585db50292c49c7fea3f\r\n",
      "  Stored in directory: /root/.cache/pip/wheels/34/22/5f/9ba9db604d08670e283b2e04551dd407f44cf889fdb9617ce5\r\n",
      "Successfully built empiricaldist\r\n",
      "Installing collected packages: empiricaldist\r\n",
      "Successfully installed empiricaldist-0.6.2\r\n",
      "\u001b[33mWARNING: Running pip as root will break packages and permissions. You should install packages reliably by using venv: https://pip.pypa.io/warnings/venv\u001b[0m\r\n"
     ]
    }
   ],
   "source": [
    "# Load packages\n",
    "import numpy as np \n",
    "import pandas as pd \n",
    "\n",
    "#import visualization libraries\n",
    "import matplotlib.pyplot as plt\n",
    "import seaborn as sns\n",
    "\n",
    "#to create Pmf and Cdf\n",
    "!pip install empiricaldist \n",
    "from empiricaldist import Pmf\n",
    "from empiricaldist import Cdf\n",
    "\n",
    "#To use linear regression between variables\n",
    "from scipy.stats import linregress"
   ]
  },
  {
   "cell_type": "markdown",
   "id": "095f40da",
   "metadata": {
    "papermill": {
     "duration": 0.044865,
     "end_time": "2021-09-02T16:41:08.716944",
     "exception": false,
     "start_time": "2021-09-02T16:41:08.672079",
     "status": "completed"
    },
    "tags": []
   },
   "source": [
    "## Load your data"
   ]
  },
  {
   "cell_type": "code",
   "execution_count": 2,
   "id": "23eb0d92",
   "metadata": {
    "execution": {
     "iopub.execute_input": "2021-09-02T16:41:08.811915Z",
     "iopub.status.busy": "2021-09-02T16:41:08.811194Z",
     "iopub.status.idle": "2021-09-02T16:41:08.824825Z",
     "shell.execute_reply": "2021-09-02T16:41:08.825400Z",
     "shell.execute_reply.started": "2021-09-02T14:39:17.190368Z"
    },
    "papermill": {
     "duration": 0.064186,
     "end_time": "2021-09-02T16:41:08.825601",
     "exception": false,
     "start_time": "2021-09-02T16:41:08.761415",
     "status": "completed"
    },
    "tags": []
   },
   "outputs": [
    {
     "name": "stdout",
     "output_type": "stream",
     "text": [
      "/kaggle/input/loan-data-analysis-datacamp-workspace/loan_data.csv\n",
      "/kaggle/input/loan-data-analysis-datacamp-workspace/variable_explanation.csv\n"
     ]
    }
   ],
   "source": [
    "#For Kaggle usage only\n",
    "import os\n",
    "#Print out the file paths\n",
    "for dirname, _, filenames in os.walk('/kaggle/input'):\n",
    "    for filename in filenames:\n",
    "        print(os.path.join(dirname, filename))"
   ]
  },
  {
   "cell_type": "code",
   "execution_count": 3,
   "id": "5f9b99f5",
   "metadata": {
    "execution": {
     "iopub.execute_input": "2021-09-02T16:41:08.926286Z",
     "iopub.status.busy": "2021-09-02T16:41:08.925495Z",
     "iopub.status.idle": "2021-09-02T16:41:09.009011Z",
     "shell.execute_reply": "2021-09-02T16:41:09.008343Z",
     "shell.execute_reply.started": "2021-09-02T14:39:17.207296Z"
    },
    "papermill": {
     "duration": 0.136029,
     "end_time": "2021-09-02T16:41:09.009161",
     "exception": false,
     "start_time": "2021-09-02T16:41:08.873132",
     "status": "completed"
    },
    "tags": []
   },
   "outputs": [
    {
     "name": "stdout",
     "output_type": "stream",
     "text": [
      "Number of rows/records: 9578\n",
      "Number of columns/variables: 14\n"
     ]
    },
    {
     "data": {
      "text/html": [
       "<div>\n",
       "<style scoped>\n",
       "    .dataframe tbody tr th:only-of-type {\n",
       "        vertical-align: middle;\n",
       "    }\n",
       "\n",
       "    .dataframe tbody tr th {\n",
       "        vertical-align: top;\n",
       "    }\n",
       "\n",
       "    .dataframe thead th {\n",
       "        text-align: right;\n",
       "    }\n",
       "</style>\n",
       "<table border=\"1\" class=\"dataframe\">\n",
       "  <thead>\n",
       "    <tr style=\"text-align: right;\">\n",
       "      <th></th>\n",
       "      <th>credit_policy</th>\n",
       "      <th>purpose</th>\n",
       "      <th>int_rate</th>\n",
       "      <th>installment</th>\n",
       "      <th>log_annual_inc</th>\n",
       "      <th>dti</th>\n",
       "      <th>fico</th>\n",
       "      <th>days_with_cr_line</th>\n",
       "      <th>revol_bal</th>\n",
       "      <th>revol_util</th>\n",
       "      <th>inq_last_6mths</th>\n",
       "      <th>delinq_2yrs</th>\n",
       "      <th>pub_rec</th>\n",
       "      <th>not_fully_paid</th>\n",
       "    </tr>\n",
       "  </thead>\n",
       "  <tbody>\n",
       "    <tr>\n",
       "      <th>0</th>\n",
       "      <td>1</td>\n",
       "      <td>debt_consolidation</td>\n",
       "      <td>0.1189</td>\n",
       "      <td>829.10</td>\n",
       "      <td>11.350407</td>\n",
       "      <td>19.48</td>\n",
       "      <td>737</td>\n",
       "      <td>5639.958333</td>\n",
       "      <td>28854</td>\n",
       "      <td>52.1</td>\n",
       "      <td>0</td>\n",
       "      <td>0</td>\n",
       "      <td>0</td>\n",
       "      <td>0</td>\n",
       "    </tr>\n",
       "    <tr>\n",
       "      <th>1</th>\n",
       "      <td>1</td>\n",
       "      <td>credit_card</td>\n",
       "      <td>0.1071</td>\n",
       "      <td>228.22</td>\n",
       "      <td>11.082143</td>\n",
       "      <td>14.29</td>\n",
       "      <td>707</td>\n",
       "      <td>2760.000000</td>\n",
       "      <td>33623</td>\n",
       "      <td>76.7</td>\n",
       "      <td>0</td>\n",
       "      <td>0</td>\n",
       "      <td>0</td>\n",
       "      <td>0</td>\n",
       "    </tr>\n",
       "    <tr>\n",
       "      <th>2</th>\n",
       "      <td>1</td>\n",
       "      <td>debt_consolidation</td>\n",
       "      <td>0.1357</td>\n",
       "      <td>366.86</td>\n",
       "      <td>10.373491</td>\n",
       "      <td>11.63</td>\n",
       "      <td>682</td>\n",
       "      <td>4710.000000</td>\n",
       "      <td>3511</td>\n",
       "      <td>25.6</td>\n",
       "      <td>1</td>\n",
       "      <td>0</td>\n",
       "      <td>0</td>\n",
       "      <td>0</td>\n",
       "    </tr>\n",
       "    <tr>\n",
       "      <th>3</th>\n",
       "      <td>1</td>\n",
       "      <td>debt_consolidation</td>\n",
       "      <td>0.1008</td>\n",
       "      <td>162.34</td>\n",
       "      <td>11.350407</td>\n",
       "      <td>8.10</td>\n",
       "      <td>712</td>\n",
       "      <td>2699.958333</td>\n",
       "      <td>33667</td>\n",
       "      <td>73.2</td>\n",
       "      <td>1</td>\n",
       "      <td>0</td>\n",
       "      <td>0</td>\n",
       "      <td>0</td>\n",
       "    </tr>\n",
       "    <tr>\n",
       "      <th>4</th>\n",
       "      <td>1</td>\n",
       "      <td>credit_card</td>\n",
       "      <td>0.1426</td>\n",
       "      <td>102.92</td>\n",
       "      <td>11.299732</td>\n",
       "      <td>14.97</td>\n",
       "      <td>667</td>\n",
       "      <td>4066.000000</td>\n",
       "      <td>4740</td>\n",
       "      <td>39.5</td>\n",
       "      <td>0</td>\n",
       "      <td>1</td>\n",
       "      <td>0</td>\n",
       "      <td>0</td>\n",
       "    </tr>\n",
       "  </tbody>\n",
       "</table>\n",
       "</div>"
      ],
      "text/plain": [
       "   credit_policy             purpose  int_rate  installment  log_annual_inc  \\\n",
       "0              1  debt_consolidation    0.1189       829.10       11.350407   \n",
       "1              1         credit_card    0.1071       228.22       11.082143   \n",
       "2              1  debt_consolidation    0.1357       366.86       10.373491   \n",
       "3              1  debt_consolidation    0.1008       162.34       11.350407   \n",
       "4              1         credit_card    0.1426       102.92       11.299732   \n",
       "\n",
       "     dti  fico  days_with_cr_line  revol_bal  revol_util  inq_last_6mths  \\\n",
       "0  19.48   737        5639.958333      28854        52.1               0   \n",
       "1  14.29   707        2760.000000      33623        76.7               0   \n",
       "2  11.63   682        4710.000000       3511        25.6               1   \n",
       "3   8.10   712        2699.958333      33667        73.2               1   \n",
       "4  14.97   667        4066.000000       4740        39.5               0   \n",
       "\n",
       "   delinq_2yrs  pub_rec  not_fully_paid  \n",
       "0            0        0               0  \n",
       "1            0        0               0  \n",
       "2            0        0               0  \n",
       "3            0        0               0  \n",
       "4            1        0               0  "
      ]
     },
     "execution_count": 3,
     "metadata": {},
     "output_type": "execute_result"
    }
   ],
   "source": [
    "#Loading file from Kaggle\n",
    "df = pd.read_csv('/kaggle/input/loan-data-analysis-datacamp-workspace/loan_data.csv', index_col=None)\n",
    "\n",
    "# Load data from the csv file\n",
    "# df = pd.read_csv('loan_data.csv', index_col=None)\n",
    "\n",
    "# Change the dots in the column names to underscores\n",
    "df.columns = [c.replace(\".\", \"_\") for c in df.columns]\n",
    "print(f\"Number of rows/records: {df.shape[0]}\")\n",
    "print(f\"Number of columns/variables: {df.shape[1]}\")\n",
    "df.head()"
   ]
  },
  {
   "cell_type": "markdown",
   "id": "e81aafa7",
   "metadata": {
    "papermill": {
     "duration": 0.046515,
     "end_time": "2021-09-02T16:41:09.101923",
     "exception": false,
     "start_time": "2021-09-02T16:41:09.055408",
     "status": "completed"
    },
    "tags": []
   },
   "source": [
    "## Understand your variables"
   ]
  },
  {
   "cell_type": "code",
   "execution_count": 4,
   "id": "9597c9e5",
   "metadata": {
    "execution": {
     "iopub.execute_input": "2021-09-02T16:41:09.208118Z",
     "iopub.status.busy": "2021-09-02T16:41:09.205845Z",
     "iopub.status.idle": "2021-09-02T16:41:09.320983Z",
     "shell.execute_reply": "2021-09-02T16:41:09.321493Z",
     "shell.execute_reply.started": "2021-09-02T14:39:17.287682Z"
    },
    "papermill": {
     "duration": 0.171093,
     "end_time": "2021-09-02T16:41:09.321685",
     "exception": false,
     "start_time": "2021-09-02T16:41:09.150592",
     "status": "completed"
    },
    "tags": []
   },
   "outputs": [
    {
     "data": {
      "text/html": [
       "<div>\n",
       "<style scoped>\n",
       "    .dataframe tbody tr th:only-of-type {\n",
       "        vertical-align: middle;\n",
       "    }\n",
       "\n",
       "    .dataframe tbody tr th {\n",
       "        vertical-align: top;\n",
       "    }\n",
       "\n",
       "    .dataframe thead th {\n",
       "        text-align: right;\n",
       "    }\n",
       "</style>\n",
       "<table border=\"1\" class=\"dataframe\">\n",
       "  <thead>\n",
       "    <tr style=\"text-align: right;\">\n",
       "      <th></th>\n",
       "      <th>Number of unique values</th>\n",
       "      <th>Values</th>\n",
       "      <th>Explanation</th>\n",
       "    </tr>\n",
       "    <tr>\n",
       "      <th>Variable</th>\n",
       "      <th></th>\n",
       "      <th></th>\n",
       "      <th></th>\n",
       "    </tr>\n",
       "  </thead>\n",
       "  <tbody>\n",
       "    <tr>\n",
       "      <th>credit_policy</th>\n",
       "      <td>2</td>\n",
       "      <td>[1, 0]</td>\n",
       "      <td>1 if the customer meets the credit underwritin...</td>\n",
       "    </tr>\n",
       "    <tr>\n",
       "      <th>purpose</th>\n",
       "      <td>7</td>\n",
       "      <td>[debt_consolidation, credit_card, all_other, h...</td>\n",
       "      <td>The purpose of the loan.</td>\n",
       "    </tr>\n",
       "    <tr>\n",
       "      <th>int_rate</th>\n",
       "      <td>249</td>\n",
       "      <td>[0.1189, 0.1071, 0.1357, 0.1008, 0.1426, 0.078...</td>\n",
       "      <td>The interest rate of the loan (more risky borr...</td>\n",
       "    </tr>\n",
       "    <tr>\n",
       "      <th>installment</th>\n",
       "      <td>4788</td>\n",
       "      <td>[829.1, 228.22, 366.86, 162.34, 102.92, 125.13...</td>\n",
       "      <td>The monthly installments owed by the borrower ...</td>\n",
       "    </tr>\n",
       "    <tr>\n",
       "      <th>log_annual_inc</th>\n",
       "      <td>1987</td>\n",
       "      <td>[11.35040654, 11.08214255, 10.37349118, 11.299...</td>\n",
       "      <td>The natural log of the self-reported annual in...</td>\n",
       "    </tr>\n",
       "    <tr>\n",
       "      <th>dti</th>\n",
       "      <td>2529</td>\n",
       "      <td>[19.48, 14.29, 11.63, 8.1, 14.97, 16.98, 4.0, ...</td>\n",
       "      <td>The debt-to-income ratio of the borrower (amou...</td>\n",
       "    </tr>\n",
       "    <tr>\n",
       "      <th>fico</th>\n",
       "      <td>44</td>\n",
       "      <td>[737, 707, 682, 712, 667, 727, 722, 677, 662, ...</td>\n",
       "      <td>The FICO credit score of the borrower.</td>\n",
       "    </tr>\n",
       "    <tr>\n",
       "      <th>days_with_cr_line</th>\n",
       "      <td>2687</td>\n",
       "      <td>[5639.958333, 2760.0, 4710.0, 2699.958333, 406...</td>\n",
       "      <td>The number of days the borrower has had a cred...</td>\n",
       "    </tr>\n",
       "    <tr>\n",
       "      <th>revol_bal</th>\n",
       "      <td>7869</td>\n",
       "      <td>[28854, 33623, 3511, 33667, 4740, 50807, 3839,...</td>\n",
       "      <td>The borrower's revolving balance (amount unpai...</td>\n",
       "    </tr>\n",
       "    <tr>\n",
       "      <th>revol_util</th>\n",
       "      <td>1035</td>\n",
       "      <td>[52.1, 76.7, 25.6, 73.2, 39.5, 51.0, 76.8, 68....</td>\n",
       "      <td>The borrower's revolving line utilization rate...</td>\n",
       "    </tr>\n",
       "    <tr>\n",
       "      <th>inq_last_6mths</th>\n",
       "      <td>28</td>\n",
       "      <td>[0, 1, 2, 3, 4, 5, 6, 8, 7, 33, 9, 18, 14, 15,...</td>\n",
       "      <td>The borrower's number of inquiries by creditor...</td>\n",
       "    </tr>\n",
       "    <tr>\n",
       "      <th>delinq_2yrs</th>\n",
       "      <td>11</td>\n",
       "      <td>[0, 1, 2, 4, 3, 5, 6, 13, 7, 8, 11]</td>\n",
       "      <td>The number of times the borrower had been 30+ ...</td>\n",
       "    </tr>\n",
       "    <tr>\n",
       "      <th>pub_rec</th>\n",
       "      <td>6</td>\n",
       "      <td>[0, 1, 2, 3, 4, 5]</td>\n",
       "      <td>The borrower's number of derogatory public rec...</td>\n",
       "    </tr>\n",
       "    <tr>\n",
       "      <th>not_fully_paid</th>\n",
       "      <td>2</td>\n",
       "      <td>[0, 1]</td>\n",
       "      <td>1 if the loan is not fully paid; 0 otherwise.</td>\n",
       "    </tr>\n",
       "  </tbody>\n",
       "</table>\n",
       "</div>"
      ],
      "text/plain": [
       "                  Number of unique values  \\\n",
       "Variable                                    \n",
       "credit_policy                           2   \n",
       "purpose                                 7   \n",
       "int_rate                              249   \n",
       "installment                          4788   \n",
       "log_annual_inc                       1987   \n",
       "dti                                  2529   \n",
       "fico                                   44   \n",
       "days_with_cr_line                    2687   \n",
       "revol_bal                            7869   \n",
       "revol_util                           1035   \n",
       "inq_last_6mths                         28   \n",
       "delinq_2yrs                            11   \n",
       "pub_rec                                 6   \n",
       "not_fully_paid                          2   \n",
       "\n",
       "                                                              Values  \\\n",
       "Variable                                                               \n",
       "credit_policy                                                 [1, 0]   \n",
       "purpose            [debt_consolidation, credit_card, all_other, h...   \n",
       "int_rate           [0.1189, 0.1071, 0.1357, 0.1008, 0.1426, 0.078...   \n",
       "installment        [829.1, 228.22, 366.86, 162.34, 102.92, 125.13...   \n",
       "log_annual_inc     [11.35040654, 11.08214255, 10.37349118, 11.299...   \n",
       "dti                [19.48, 14.29, 11.63, 8.1, 14.97, 16.98, 4.0, ...   \n",
       "fico               [737, 707, 682, 712, 667, 727, 722, 677, 662, ...   \n",
       "days_with_cr_line  [5639.958333, 2760.0, 4710.0, 2699.958333, 406...   \n",
       "revol_bal          [28854, 33623, 3511, 33667, 4740, 50807, 3839,...   \n",
       "revol_util         [52.1, 76.7, 25.6, 73.2, 39.5, 51.0, 76.8, 68....   \n",
       "inq_last_6mths     [0, 1, 2, 3, 4, 5, 6, 8, 7, 33, 9, 18, 14, 15,...   \n",
       "delinq_2yrs                      [0, 1, 2, 4, 3, 5, 6, 13, 7, 8, 11]   \n",
       "pub_rec                                           [0, 1, 2, 3, 4, 5]   \n",
       "not_fully_paid                                                [0, 1]   \n",
       "\n",
       "                                                         Explanation  \n",
       "Variable                                                              \n",
       "credit_policy      1 if the customer meets the credit underwritin...  \n",
       "purpose                                     The purpose of the loan.  \n",
       "int_rate           The interest rate of the loan (more risky borr...  \n",
       "installment        The monthly installments owed by the borrower ...  \n",
       "log_annual_inc     The natural log of the self-reported annual in...  \n",
       "dti                The debt-to-income ratio of the borrower (amou...  \n",
       "fico                          The FICO credit score of the borrower.  \n",
       "days_with_cr_line  The number of days the borrower has had a cred...  \n",
       "revol_bal          The borrower's revolving balance (amount unpai...  \n",
       "revol_util         The borrower's revolving line utilization rate...  \n",
       "inq_last_6mths     The borrower's number of inquiries by creditor...  \n",
       "delinq_2yrs        The number of times the borrower had been 30+ ...  \n",
       "pub_rec            The borrower's number of derogatory public rec...  \n",
       "not_fully_paid         1 if the loan is not fully paid; 0 otherwise.  "
      ]
     },
     "execution_count": 4,
     "metadata": {},
     "output_type": "execute_result"
    }
   ],
   "source": [
    "# Understand your variables\n",
    "variables = pd.DataFrame(columns=['Variable','Number of unique values','Values'])\n",
    "\n",
    "for i, var in enumerate(df.columns):\n",
    "    variables.loc[i] = [var, df[var].nunique(), df[var].unique().tolist()]\n",
    "    \n",
    "#Loading file from Kaggle\n",
    "var_dict = pd.read_csv('/kaggle/input/loan-data-analysis-datacamp-workspace/variable_explanation.csv', index_col=0) \n",
    "\n",
    "# Join with the variables dataframe\n",
    "# var_dict = pd.read_csv('variable_explanation.csv', index_col=0)\n",
    "variables.set_index('Variable').join(var_dict)"
   ]
  },
  {
   "cell_type": "markdown",
   "id": "21f79fef",
   "metadata": {
    "papermill": {
     "duration": 0.047318,
     "end_time": "2021-09-02T16:41:09.416954",
     "exception": false,
     "start_time": "2021-09-02T16:41:09.369636",
     "status": "completed"
    },
    "tags": []
   },
   "source": [
    "Now you can start to explore this dataset with the chance to win incredible prices! Can't think of where to start? Try your hand at these suggestions:\n",
    "\n",
    "- Extract useful insights and visualize them in the most interesting way possible.\n",
    "- Find out how long it takes for users to pay back their loan.\n",
    "- Build a model that can predict the probability a user will be able to pay back their loan within a certain period.\n",
    "- Find out what kind of people take a loan for what purposes."
   ]
  },
  {
   "cell_type": "code",
   "execution_count": 5,
   "id": "801a3d99",
   "metadata": {
    "execution": {
     "iopub.execute_input": "2021-09-02T16:41:09.518262Z",
     "iopub.status.busy": "2021-09-02T16:41:09.517585Z",
     "iopub.status.idle": "2021-09-02T16:41:09.525153Z",
     "shell.execute_reply": "2021-09-02T16:41:09.525710Z",
     "shell.execute_reply.started": "2021-09-02T14:39:17.393063Z"
    },
    "papermill": {
     "duration": 0.061962,
     "end_time": "2021-09-02T16:41:09.525902",
     "exception": false,
     "start_time": "2021-09-02T16:41:09.463940",
     "status": "completed"
    },
    "tags": []
   },
   "outputs": [
    {
     "name": "stdout",
     "output_type": "stream",
     "text": [
      "credit_policy : ['1 if the customer meets the credit underwriting criteria; 0 otherwise.']\n",
      "purpose : ['The purpose of the loan.']\n",
      "int_rate : ['The interest rate of the loan (more risky borrowers are assigned higher interest rates).']\n",
      "installment : ['The monthly installments owed by the borrower if the loan is funded.']\n",
      "log_annual_inc : ['The natural log of the self-reported annual income of the borrower.']\n",
      "dti : ['The debt-to-income ratio of the borrower (amount of debt divided by annual income).']\n",
      "fico : ['The FICO credit score of the borrower.']\n",
      "days_with_cr_line : ['The number of days the borrower has had a credit line.']\n",
      "revol_bal : [\"The borrower's revolving balance (amount unpaid at the end of the credit card billing cycle).\"]\n",
      "revol_util : [\"The borrower's revolving line utilization rate (the amount of the credit line used relative to total credit available).\"]\n",
      "inq_last_6mths : [\"The borrower's number of inquiries by creditors in the last 6 months.\"]\n",
      "delinq_2yrs : ['The number of times the borrower had been 30+ days past due on a payment in the past 2 years.']\n",
      "pub_rec : [\"The borrower's number of derogatory public records.\"]\n",
      "not_fully_paid : ['1 if the loan is not fully paid; 0 otherwise.']\n"
     ]
    }
   ],
   "source": [
    "#See the full descriptions of each of the variable\n",
    "#Iterator for var_dict's values to be used in printing\n",
    "var_description = (item for item in var_dict.values)\n",
    "for i in range(len(variables['Variable'])):\n",
    "    print(variables['Variable'][i],':', next(var_description))"
   ]
  },
  {
   "cell_type": "markdown",
   "id": "c201e6fc",
   "metadata": {
    "papermill": {
     "duration": 0.047844,
     "end_time": "2021-09-02T16:41:09.621917",
     "exception": false,
     "start_time": "2021-09-02T16:41:09.574073",
     "status": "completed"
    },
    "tags": []
   },
   "source": [
    "### Judging Criteria\n",
    "| CATEGORY | WEIGHTAGE | DETAILS                                                              |\n",
    "|:---------|:----------|:---------------------------------------------------------------------|\n",
    "| **Analysis** | 30%       | <ul><li>Documentation on the goal and what was included in the analysis</li><li>How the question was approached</li><li>Visualisation tools and techniques utilized</li></ul>       |\n",
    "| **Results**  | 30%       | <ul><li>How the results derived related to the problem chosen</li><li>The ability to trigger potential further analysis</li></ul> |\n",
    "| **Creativity** | 40% | <ul><li>How \"out of the box\" the analysis conducted is</li><li>Whether the publication is properly motivated and adds value</li></ul> |"
   ]
  },
  {
   "cell_type": "markdown",
   "id": "6843658d",
   "metadata": {
    "papermill": {
     "duration": 0.051741,
     "end_time": "2021-09-02T16:41:09.723341",
     "exception": false,
     "start_time": "2021-09-02T16:41:09.671600",
     "status": "completed"
    },
    "tags": []
   },
   "source": [
    "# **Exploratory Data Analysis**"
   ]
  },
  {
   "cell_type": "markdown",
   "id": "54dab8c0",
   "metadata": {
    "papermill": {
     "duration": 0.047589,
     "end_time": "2021-09-02T16:41:09.818380",
     "exception": false,
     "start_time": "2021-09-02T16:41:09.770791",
     "status": "completed"
    },
    "tags": []
   },
   "source": [
    "We'll begin with some basic descriptive statistics below to understand more about each variable"
   ]
  },
  {
   "cell_type": "code",
   "execution_count": 6,
   "id": "0ff15b18",
   "metadata": {
    "execution": {
     "iopub.execute_input": "2021-09-02T16:41:09.928371Z",
     "iopub.status.busy": "2021-09-02T16:41:09.924444Z",
     "iopub.status.idle": "2021-09-02T16:41:09.980072Z",
     "shell.execute_reply": "2021-09-02T16:41:09.979442Z",
     "shell.execute_reply.started": "2021-09-02T14:39:17.404693Z"
    },
    "papermill": {
     "duration": 0.111402,
     "end_time": "2021-09-02T16:41:09.980240",
     "exception": false,
     "start_time": "2021-09-02T16:41:09.868838",
     "status": "completed"
    },
    "tags": []
   },
   "outputs": [
    {
     "data": {
      "text/html": [
       "<div>\n",
       "<style scoped>\n",
       "    .dataframe tbody tr th:only-of-type {\n",
       "        vertical-align: middle;\n",
       "    }\n",
       "\n",
       "    .dataframe tbody tr th {\n",
       "        vertical-align: top;\n",
       "    }\n",
       "\n",
       "    .dataframe thead th {\n",
       "        text-align: right;\n",
       "    }\n",
       "</style>\n",
       "<table border=\"1\" class=\"dataframe\">\n",
       "  <thead>\n",
       "    <tr style=\"text-align: right;\">\n",
       "      <th></th>\n",
       "      <th>credit_policy</th>\n",
       "      <th>int_rate</th>\n",
       "      <th>installment</th>\n",
       "      <th>log_annual_inc</th>\n",
       "      <th>dti</th>\n",
       "      <th>fico</th>\n",
       "      <th>days_with_cr_line</th>\n",
       "      <th>revol_bal</th>\n",
       "      <th>revol_util</th>\n",
       "      <th>inq_last_6mths</th>\n",
       "      <th>delinq_2yrs</th>\n",
       "      <th>pub_rec</th>\n",
       "      <th>not_fully_paid</th>\n",
       "    </tr>\n",
       "  </thead>\n",
       "  <tbody>\n",
       "    <tr>\n",
       "      <th>count</th>\n",
       "      <td>9578.000000</td>\n",
       "      <td>9578.000000</td>\n",
       "      <td>9578.000000</td>\n",
       "      <td>9578.000000</td>\n",
       "      <td>9578.000000</td>\n",
       "      <td>9578.000000</td>\n",
       "      <td>9578.000000</td>\n",
       "      <td>9.578000e+03</td>\n",
       "      <td>9578.000000</td>\n",
       "      <td>9578.000000</td>\n",
       "      <td>9578.000000</td>\n",
       "      <td>9578.000000</td>\n",
       "      <td>9578.000000</td>\n",
       "    </tr>\n",
       "    <tr>\n",
       "      <th>mean</th>\n",
       "      <td>0.804970</td>\n",
       "      <td>0.122640</td>\n",
       "      <td>319.089413</td>\n",
       "      <td>10.932117</td>\n",
       "      <td>12.606679</td>\n",
       "      <td>710.846314</td>\n",
       "      <td>4560.767197</td>\n",
       "      <td>1.691396e+04</td>\n",
       "      <td>46.799236</td>\n",
       "      <td>1.577469</td>\n",
       "      <td>0.163708</td>\n",
       "      <td>0.062122</td>\n",
       "      <td>0.160054</td>\n",
       "    </tr>\n",
       "    <tr>\n",
       "      <th>std</th>\n",
       "      <td>0.396245</td>\n",
       "      <td>0.026847</td>\n",
       "      <td>207.071301</td>\n",
       "      <td>0.614813</td>\n",
       "      <td>6.883970</td>\n",
       "      <td>37.970537</td>\n",
       "      <td>2496.930377</td>\n",
       "      <td>3.375619e+04</td>\n",
       "      <td>29.014417</td>\n",
       "      <td>2.200245</td>\n",
       "      <td>0.546215</td>\n",
       "      <td>0.262126</td>\n",
       "      <td>0.366676</td>\n",
       "    </tr>\n",
       "    <tr>\n",
       "      <th>min</th>\n",
       "      <td>0.000000</td>\n",
       "      <td>0.060000</td>\n",
       "      <td>15.670000</td>\n",
       "      <td>7.547502</td>\n",
       "      <td>0.000000</td>\n",
       "      <td>612.000000</td>\n",
       "      <td>178.958333</td>\n",
       "      <td>0.000000e+00</td>\n",
       "      <td>0.000000</td>\n",
       "      <td>0.000000</td>\n",
       "      <td>0.000000</td>\n",
       "      <td>0.000000</td>\n",
       "      <td>0.000000</td>\n",
       "    </tr>\n",
       "    <tr>\n",
       "      <th>25%</th>\n",
       "      <td>1.000000</td>\n",
       "      <td>0.103900</td>\n",
       "      <td>163.770000</td>\n",
       "      <td>10.558414</td>\n",
       "      <td>7.212500</td>\n",
       "      <td>682.000000</td>\n",
       "      <td>2820.000000</td>\n",
       "      <td>3.187000e+03</td>\n",
       "      <td>22.600000</td>\n",
       "      <td>0.000000</td>\n",
       "      <td>0.000000</td>\n",
       "      <td>0.000000</td>\n",
       "      <td>0.000000</td>\n",
       "    </tr>\n",
       "    <tr>\n",
       "      <th>50%</th>\n",
       "      <td>1.000000</td>\n",
       "      <td>0.122100</td>\n",
       "      <td>268.950000</td>\n",
       "      <td>10.928884</td>\n",
       "      <td>12.665000</td>\n",
       "      <td>707.000000</td>\n",
       "      <td>4139.958333</td>\n",
       "      <td>8.596000e+03</td>\n",
       "      <td>46.300000</td>\n",
       "      <td>1.000000</td>\n",
       "      <td>0.000000</td>\n",
       "      <td>0.000000</td>\n",
       "      <td>0.000000</td>\n",
       "    </tr>\n",
       "    <tr>\n",
       "      <th>75%</th>\n",
       "      <td>1.000000</td>\n",
       "      <td>0.140700</td>\n",
       "      <td>432.762500</td>\n",
       "      <td>11.291293</td>\n",
       "      <td>17.950000</td>\n",
       "      <td>737.000000</td>\n",
       "      <td>5730.000000</td>\n",
       "      <td>1.824950e+04</td>\n",
       "      <td>70.900000</td>\n",
       "      <td>2.000000</td>\n",
       "      <td>0.000000</td>\n",
       "      <td>0.000000</td>\n",
       "      <td>0.000000</td>\n",
       "    </tr>\n",
       "    <tr>\n",
       "      <th>max</th>\n",
       "      <td>1.000000</td>\n",
       "      <td>0.216400</td>\n",
       "      <td>940.140000</td>\n",
       "      <td>14.528354</td>\n",
       "      <td>29.960000</td>\n",
       "      <td>827.000000</td>\n",
       "      <td>17639.958330</td>\n",
       "      <td>1.207359e+06</td>\n",
       "      <td>119.000000</td>\n",
       "      <td>33.000000</td>\n",
       "      <td>13.000000</td>\n",
       "      <td>5.000000</td>\n",
       "      <td>1.000000</td>\n",
       "    </tr>\n",
       "  </tbody>\n",
       "</table>\n",
       "</div>"
      ],
      "text/plain": [
       "       credit_policy     int_rate  installment  log_annual_inc          dti  \\\n",
       "count    9578.000000  9578.000000  9578.000000     9578.000000  9578.000000   \n",
       "mean        0.804970     0.122640   319.089413       10.932117    12.606679   \n",
       "std         0.396245     0.026847   207.071301        0.614813     6.883970   \n",
       "min         0.000000     0.060000    15.670000        7.547502     0.000000   \n",
       "25%         1.000000     0.103900   163.770000       10.558414     7.212500   \n",
       "50%         1.000000     0.122100   268.950000       10.928884    12.665000   \n",
       "75%         1.000000     0.140700   432.762500       11.291293    17.950000   \n",
       "max         1.000000     0.216400   940.140000       14.528354    29.960000   \n",
       "\n",
       "              fico  days_with_cr_line     revol_bal   revol_util  \\\n",
       "count  9578.000000        9578.000000  9.578000e+03  9578.000000   \n",
       "mean    710.846314        4560.767197  1.691396e+04    46.799236   \n",
       "std      37.970537        2496.930377  3.375619e+04    29.014417   \n",
       "min     612.000000         178.958333  0.000000e+00     0.000000   \n",
       "25%     682.000000        2820.000000  3.187000e+03    22.600000   \n",
       "50%     707.000000        4139.958333  8.596000e+03    46.300000   \n",
       "75%     737.000000        5730.000000  1.824950e+04    70.900000   \n",
       "max     827.000000       17639.958330  1.207359e+06   119.000000   \n",
       "\n",
       "       inq_last_6mths  delinq_2yrs      pub_rec  not_fully_paid  \n",
       "count     9578.000000  9578.000000  9578.000000     9578.000000  \n",
       "mean         1.577469     0.163708     0.062122        0.160054  \n",
       "std          2.200245     0.546215     0.262126        0.366676  \n",
       "min          0.000000     0.000000     0.000000        0.000000  \n",
       "25%          0.000000     0.000000     0.000000        0.000000  \n",
       "50%          1.000000     0.000000     0.000000        0.000000  \n",
       "75%          2.000000     0.000000     0.000000        0.000000  \n",
       "max         33.000000    13.000000     5.000000        1.000000  "
      ]
     },
     "execution_count": 6,
     "metadata": {},
     "output_type": "execute_result"
    }
   ],
   "source": [
    "#See the important stats of each variable in the dataset\n",
    "df.describe()"
   ]
  },
  {
   "cell_type": "code",
   "execution_count": 7,
   "id": "703f0873",
   "metadata": {
    "execution": {
     "iopub.execute_input": "2021-09-02T16:41:10.099092Z",
     "iopub.status.busy": "2021-09-02T16:41:10.087979Z",
     "iopub.status.idle": "2021-09-02T16:41:10.103782Z",
     "shell.execute_reply": "2021-09-02T16:41:10.103158Z",
     "shell.execute_reply.started": "2021-09-02T14:39:17.462652Z"
    },
    "papermill": {
     "duration": 0.073829,
     "end_time": "2021-09-02T16:41:10.103934",
     "exception": false,
     "start_time": "2021-09-02T16:41:10.030105",
     "status": "completed"
    },
    "tags": []
   },
   "outputs": [
    {
     "name": "stdout",
     "output_type": "stream",
     "text": [
      "<class 'pandas.core.frame.DataFrame'>\n",
      "RangeIndex: 9578 entries, 0 to 9577\n",
      "Data columns (total 14 columns):\n",
      " #   Column             Non-Null Count  Dtype  \n",
      "---  ------             --------------  -----  \n",
      " 0   credit_policy      9578 non-null   int64  \n",
      " 1   purpose            9578 non-null   object \n",
      " 2   int_rate           9578 non-null   float64\n",
      " 3   installment        9578 non-null   float64\n",
      " 4   log_annual_inc     9578 non-null   float64\n",
      " 5   dti                9578 non-null   float64\n",
      " 6   fico               9578 non-null   int64  \n",
      " 7   days_with_cr_line  9578 non-null   float64\n",
      " 8   revol_bal          9578 non-null   int64  \n",
      " 9   revol_util         9578 non-null   float64\n",
      " 10  inq_last_6mths     9578 non-null   int64  \n",
      " 11  delinq_2yrs        9578 non-null   int64  \n",
      " 12  pub_rec            9578 non-null   int64  \n",
      " 13  not_fully_paid     9578 non-null   int64  \n",
      "dtypes: float64(6), int64(7), object(1)\n",
      "memory usage: 1.0+ MB\n"
     ]
    }
   ],
   "source": [
    "#Check the variable types and whether there're any missing values\n",
    "df.info()"
   ]
  },
  {
   "cell_type": "markdown",
   "id": "e6c96cb7",
   "metadata": {
    "papermill": {
     "duration": 0.052156,
     "end_time": "2021-09-02T16:41:10.206856",
     "exception": false,
     "start_time": "2021-09-02T16:41:10.154700",
     "status": "completed"
    },
    "tags": []
   },
   "source": [
    "As we can see, there's no missing data in the dataset above, which will make the job of filling missing\n",
    "values easier. "
   ]
  },
  {
   "cell_type": "code",
   "execution_count": 8,
   "id": "7d27f209",
   "metadata": {
    "execution": {
     "iopub.execute_input": "2021-09-02T16:41:10.331386Z",
     "iopub.status.busy": "2021-09-02T16:41:10.330554Z",
     "iopub.status.idle": "2021-09-02T16:41:10.510675Z",
     "shell.execute_reply": "2021-09-02T16:41:10.510011Z",
     "shell.execute_reply.started": "2021-09-02T14:39:17.483882Z"
    },
    "papermill": {
     "duration": 0.254074,
     "end_time": "2021-09-02T16:41:10.510826",
     "exception": false,
     "start_time": "2021-09-02T16:41:10.256752",
     "status": "completed"
    },
    "tags": []
   },
   "outputs": [
    {
     "data": {
      "image/png": "[encoded data removed]",
      "text/plain": [
       "<Figure size 432x288 with 1 Axes>"
      ]
     },
     "metadata": {},
     "output_type": "display_data"
    }
   ],
   "source": [
    "sns.set()  #Set to the default style of seaborn\n",
    "#See the distribution of people who qualify for credit underwriting criteria\n",
    "fig , ax = plt.subplots()\n",
    "plt.hist(x = df['credit_policy'], bins = 2)\n",
    "plt.title(\"Distribution of credit underwriting criteria\")\n",
    "plt.ylabel('Number of people')\n",
    "ax.set_xticks((0.25, 0.75))\n",
    "ax.set_xticklabels(['Do not meet criteria','Meet criteria'])\n",
    "plt.show()"
   ]
  },
  {
   "cell_type": "markdown",
   "id": "7b8b820e",
   "metadata": {
    "papermill": {
     "duration": 0.05155,
     "end_time": "2021-09-02T16:41:10.612553",
     "exception": false,
     "start_time": "2021-09-02T16:41:10.561003",
     "status": "completed"
    },
    "tags": []
   },
   "source": [
    "We can see that **there're almost 4 times the number of people** who meet underwriting criteria compared to those who don't."
   ]
  },
  {
   "cell_type": "code",
   "execution_count": 9,
   "id": "cdfb323d",
   "metadata": {
    "execution": {
     "iopub.execute_input": "2021-09-02T16:41:10.742775Z",
     "iopub.status.busy": "2021-09-02T16:41:10.738120Z",
     "iopub.status.idle": "2021-09-02T16:41:10.954880Z",
     "shell.execute_reply": "2021-09-02T16:41:10.954270Z",
     "shell.execute_reply.started": "2021-09-02T14:39:17.656822Z"
    },
    "papermill": {
     "duration": 0.293455,
     "end_time": "2021-09-02T16:41:10.955024",
     "exception": false,
     "start_time": "2021-09-02T16:41:10.661569",
     "status": "completed"
    },
    "tags": []
   },
   "outputs": [
    {
     "data": {
      "image/png": "[encoded data removed]",
      "text/plain": [
       "<Figure size 432x288 with 1 Axes>"
      ]
     },
     "metadata": {},
     "output_type": "display_data"
    }
   ],
   "source": [
    "fig,ax = plt.subplots()\n",
    "plt.bar(x = df['purpose'].unique(), height = df['purpose'].value_counts()) #default will sort from highest\n",
    "plt.title(\"Purpose of the loan by frequency\")\n",
    "plt.ylabel('Frequency')\n",
    "ax.set_ylim(0, 4500)\n",
    "# Add the values on top of the x axis\n",
    "values = df['purpose'].value_counts()\n",
    "for hor, ver in enumerate(values):\n",
    "    #hor is horizontal coordinate, ver is vertical coordinate\n",
    "    ax.text(hor - 0.25, ver+ver*0.05, s = str(ver), color = 'red')\n",
    "plt.xticks(x = df['purpose'].unique(), rotation=45) #Rotate X ticks by 45 degrees\n",
    "plt.yticks()\n",
    "plt.show()"
   ]
  },
  {
   "cell_type": "code",
   "execution_count": 10,
   "id": "1f3e8771",
   "metadata": {
    "execution": {
     "iopub.execute_input": "2021-09-02T16:41:11.072177Z",
     "iopub.status.busy": "2021-09-02T16:41:11.071136Z",
     "iopub.status.idle": "2021-09-02T16:41:11.356670Z",
     "shell.execute_reply": "2021-09-02T16:41:11.355832Z",
     "shell.execute_reply.started": "2021-09-02T14:39:17.876831Z"
    },
    "papermill": {
     "duration": 0.350694,
     "end_time": "2021-09-02T16:41:11.356830",
     "exception": false,
     "start_time": "2021-09-02T16:41:11.006136",
     "status": "completed"
    },
    "tags": []
   },
   "outputs": [
    {
     "data": {
      "image/png": "[encoded data removed]",
      "text/plain": [
       "<Figure size 720x504 with 1 Axes>"
      ]
     },
     "metadata": {},
     "output_type": "display_data"
    }
   ],
   "source": [
    "#We'll visualize this with seaborn to see which category has the most number of people who have not paid back their loan\n",
    "plt.figure(figsize = (10, 7))\n",
    "sns.countplot(x = 'purpose', hue ='not_fully_paid', data=df, palette = 'Set2')\n",
    "plt.show()"
   ]
  },
  {
   "cell_type": "markdown",
   "id": "8f6c1863",
   "metadata": {
    "papermill": {
     "duration": 0.053165,
     "end_time": "2021-09-02T16:41:11.466661",
     "exception": false,
     "start_time": "2021-09-02T16:41:11.413496",
     "status": "completed"
    },
    "tags": []
   },
   "source": [
    "Debt consolidation category has the highest number of unpaid loans, at over 500 people. "
   ]
  },
  {
   "cell_type": "markdown",
   "id": "30409011",
   "metadata": {
    "papermill": {
     "duration": 0.051942,
     "end_time": "2021-09-02T16:41:11.571178",
     "exception": false,
     "start_time": "2021-09-02T16:41:11.519236",
     "status": "completed"
    },
    "tags": []
   },
   "source": [
    "Next we'll see the percentage of people who are most likely to not pay back based on their FICO score. We'll use the image below as guideline to divide into different categories.\n",
    "1. 300 - 560: very bad\n",
    "2. 560 - 650: bad\n",
    "3. 650 - 700: fair\n",
    "4. 700 - 750: good\n",
    "5. 750 - 850: excellent \n",
    "![](https://d187qskirji7ti.cloudfront.net/news/wp-content/uploads/2014/04/Credit-Score-Factors.jpg)"
   ]
  },
  {
   "cell_type": "code",
   "execution_count": 11,
   "id": "bc6a9708",
   "metadata": {
    "execution": {
     "iopub.execute_input": "2021-09-02T16:41:11.684641Z",
     "iopub.status.busy": "2021-09-02T16:41:11.683873Z",
     "iopub.status.idle": "2021-09-02T16:41:11.888715Z",
     "shell.execute_reply": "2021-09-02T16:41:11.887798Z",
     "shell.execute_reply.started": "2021-09-02T14:39:18.136081Z"
    },
    "papermill": {
     "duration": 0.265207,
     "end_time": "2021-09-02T16:41:11.888901",
     "exception": false,
     "start_time": "2021-09-02T16:41:11.623694",
     "status": "completed"
    },
    "tags": []
   },
   "outputs": [
    {
     "data": {
      "image/png": "[encoded data removed]",
      "text/plain": [
       "<Figure size 432x288 with 1 Axes>"
      ]
     },
     "metadata": {},
     "output_type": "display_data"
    },
    {
     "name": "stdout",
     "output_type": "stream",
     "text": [
      "Fair         3990\n",
      "Good         3687\n",
      "Excellent    1670\n",
      "Bad           231\n",
      "Very bad        0\n",
      "Name: fico, dtype: int64\n"
     ]
    }
   ],
   "source": [
    "plt.suptitle('Distribution of people by fico score')\n",
    "pd.cut(df['fico'], bins = [300,560,650,700,750,850],\n",
    "        labels =['Very bad','Bad','Fair','Good','Excellent']).hist()\n",
    "plt.show()\n",
    "df_fico = pd.cut(df['fico'], bins = [300,560,650,700,750,850],\n",
    "        labels =['Very bad','Bad','Fair','Good','Excellent'])\n",
    "print(df_fico.value_counts())"
   ]
  },
  {
   "cell_type": "markdown",
   "id": "c8a8f9a5",
   "metadata": {
    "papermill": {
     "duration": 0.05884,
     "end_time": "2021-09-02T16:41:12.002237",
     "exception": false,
     "start_time": "2021-09-02T16:41:11.943397",
     "status": "completed"
    },
    "tags": []
   },
   "source": [
    "We can see that there're no people with \"very bad\" credit scores. There're over 5200 people, or more than 50% of dataset with scores of good or excellent. "
   ]
  },
  {
   "cell_type": "code",
   "execution_count": 12,
   "id": "7db85971",
   "metadata": {
    "execution": {
     "iopub.execute_input": "2021-09-02T16:41:12.120499Z",
     "iopub.status.busy": "2021-09-02T16:41:12.117219Z",
     "iopub.status.idle": "2021-09-02T16:41:12.414104Z",
     "shell.execute_reply": "2021-09-02T16:41:12.413321Z",
     "shell.execute_reply.started": "2021-09-02T14:39:18.325158Z"
    },
    "papermill": {
     "duration": 0.359306,
     "end_time": "2021-09-02T16:41:12.414300",
     "exception": false,
     "start_time": "2021-09-02T16:41:12.054994",
     "status": "completed"
    },
    "tags": []
   },
   "outputs": [
    {
     "data": {
      "image/png": "[encoded data removed]",
      "text/plain": [
       "<Figure size 720x432 with 1 Axes>"
      ]
     },
     "metadata": {},
     "output_type": "display_data"
    },
    {
     "name": "stdout",
     "output_type": "stream",
     "text": [
      "Number of people with good (700) or above credit score but do not meet credit policy is: 549\n"
     ]
    }
   ],
   "source": [
    "#Alternative way to visualize this with credit policy variable\n",
    "plt.figure(figsize = (10,6))\n",
    "plt.suptitle('Distribution of people by fico score and their credit')\n",
    "df[df['credit_policy'] == 1]['fico'].hist(bins = 15,alpha = 0.4, color = 'green',\n",
    "                                          label ='Meet credit policy')\n",
    "df[df['credit_policy'] == 0]['fico'].hist(bins = 15,alpha = 0.3, color = 'red',\n",
    "                                          label ='Do not meet credit policy')\n",
    "plt.legend()\n",
    "plt.show()\n",
    "print(\"Number of people with good (700) or above credit score but do not meet credit policy is: \" + \n",
    "      str(df[(df['credit_policy']==0) & (df['fico']>=700)]['credit_policy'].count()))"
   ]
  },
  {
   "cell_type": "markdown",
   "id": "f8ea895a",
   "metadata": {
    "papermill": {
     "duration": 0.053381,
     "end_time": "2021-09-02T16:41:12.523746",
     "exception": false,
     "start_time": "2021-09-02T16:41:12.470365",
     "status": "completed"
    },
    "tags": []
   },
   "source": [
    "According to graph above, it's surprising to see that there's quite some number of people who do not meet underwriting credit criteria, but have \"good\" or even \"excellent\" scores. Next we'll look at the relationship between these variables: interest rate, credit policy, not_fully_paid, and fico score."
   ]
  },
  {
   "cell_type": "code",
   "execution_count": 13,
   "id": "58019a7e",
   "metadata": {
    "execution": {
     "iopub.execute_input": "2021-09-02T16:41:12.641264Z",
     "iopub.status.busy": "2021-09-02T16:41:12.639102Z",
     "iopub.status.idle": "2021-09-02T16:41:14.762668Z",
     "shell.execute_reply": "2021-09-02T16:41:14.763154Z",
     "shell.execute_reply.started": "2021-09-02T14:39:18.600490Z"
    },
    "papermill": {
     "duration": 2.18576,
     "end_time": "2021-09-02T16:41:14.763330",
     "exception": false,
     "start_time": "2021-09-02T16:41:12.577570",
     "status": "completed"
    },
    "tags": []
   },
   "outputs": [
    {
     "data": {
      "image/png": "[encoded data removed]",
      "text/plain": [
       "<Figure size 804.425x360 with 2 Axes>"
      ]
     },
     "metadata": {},
     "output_type": "display_data"
    }
   ],
   "source": [
    "sns.lmplot(x = 'int_rate', y = 'fico', hue = 'credit_policy', col ='not_fully_paid', data=df, palette = 'RdBu')\n",
    "plt.show()"
   ]
  },
  {
   "cell_type": "markdown",
   "id": "231e5b63",
   "metadata": {
    "papermill": {
     "duration": 0.057861,
     "end_time": "2021-09-02T16:41:14.878290",
     "exception": false,
     "start_time": "2021-09-02T16:41:14.820429",
     "status": "completed"
    },
    "tags": []
   },
   "source": [
    "People who meet credit policy tend to have lower interest rate and have higher fico score. In both plots, int_rate and fico score have negative linear relationship as indicated by the lines. "
   ]
  },
  {
   "cell_type": "code",
   "execution_count": 14,
   "id": "876eb85c",
   "metadata": {
    "execution": {
     "iopub.execute_input": "2021-09-02T16:41:15.003730Z",
     "iopub.status.busy": "2021-09-02T16:41:15.002958Z",
     "iopub.status.idle": "2021-09-02T16:41:15.819452Z",
     "shell.execute_reply": "2021-09-02T16:41:15.818819Z",
     "shell.execute_reply.started": "2021-09-02T14:39:20.504629Z"
    },
    "papermill": {
     "duration": 0.883916,
     "end_time": "2021-09-02T16:41:15.819605",
     "exception": false,
     "start_time": "2021-09-02T16:41:14.935689",
     "status": "completed"
    },
    "tags": []
   },
   "outputs": [
    {
     "name": "stdout",
     "output_type": "stream",
     "text": [
      "LinregressResult(slope=-20.825127728201096, intercept=714.5047151170082, rvalue=-0.1392222227576963, pvalue=4.1498864099328595e-36, stderr=1.65165685201014, intercept_stderr=0.4322476079799651)\n",
      "LinregressResult(slope=-18.564866369710458, intercept=699.5238625517022, rvalue=-0.16095043912966228, pvalue=2.3276223660800518e-10, stderr=2.9094621621382752, intercept_stderr=0.8917084500453969)\n"
     ]
    },
    {
     "data": {
      "image/png": "[encoded data removed]",
      "text/plain": [
       "<Figure size 452.3x360 with 1 Axes>"
      ]
     },
     "metadata": {},
     "output_type": "display_data"
    }
   ],
   "source": [
    "df_nfp_0 = df[df['not_fully_paid'] == 0]\n",
    "df_nfp_1 = df[df['not_fully_paid'] == 1]\n",
    "pub_rec_fico0 = linregress(df_nfp_0['pub_rec'], df_nfp_0['fico'])\n",
    "pub_rec_fico1 = linregress(df_nfp_1['pub_rec'], df_nfp_1['fico'])\n",
    "print(pub_rec_fico0)\n",
    "print(pub_rec_fico1)\n",
    "fx_pub_rec_0 = df_nfp_0['pub_rec']\n",
    "fx_pub_rec_1 = df_nfp_1['pub_rec']\n",
    "fy_fico_0 = pub_rec_fico0.intercept + fx_pub_rec_0 * pub_rec_fico0.slope\n",
    "fy_fico_1 = pub_rec_fico1.intercept + fx_pub_rec_1 * pub_rec_fico1.slope\n",
    "sns.catplot(x = 'pub_rec', y = 'fico', hue = 'not_fully_paid', data=df)\n",
    "plt.plot(fx_pub_rec_0, fy_fico_0, '-')\n",
    "plt.plot(fx_pub_rec_1, fy_fico_1, '-')\n",
    "plt.show()"
   ]
  },
  {
   "cell_type": "markdown",
   "id": "13943b22",
   "metadata": {
    "papermill": {
     "duration": 0.061388,
     "end_time": "2021-09-02T16:41:15.942603",
     "exception": false,
     "start_time": "2021-09-02T16:41:15.881215",
     "status": "completed"
    },
    "tags": []
   },
   "source": [
    "There's a strong correlation between having 0 public record and having fully paid. Also, if people have a public record or more, then it's very likely that their FICO score will be below 750. We also see that for every public record the person has, he/she will get -20 or -18 points deducted from their FICO score, depending on whether they have paid their loan in full. People who have not paid yet only have bad public records up to 2 times. "
   ]
  },
  {
   "cell_type": "code",
   "execution_count": 15,
   "id": "bc9e4954",
   "metadata": {
    "execution": {
     "iopub.execute_input": "2021-09-02T16:41:16.070193Z",
     "iopub.status.busy": "2021-09-02T16:41:16.069511Z",
     "iopub.status.idle": "2021-09-02T16:41:16.103301Z",
     "shell.execute_reply": "2021-09-02T16:41:16.102662Z",
     "shell.execute_reply.started": "2021-09-02T14:39:21.094960Z"
    },
    "papermill": {
     "duration": 0.100418,
     "end_time": "2021-09-02T16:41:16.103440",
     "exception": false,
     "start_time": "2021-09-02T16:41:16.003022",
     "status": "completed"
    },
    "tags": []
   },
   "outputs": [
    {
     "data": {
      "text/html": [
       "<div>\n",
       "<style scoped>\n",
       "    .dataframe tbody tr th:only-of-type {\n",
       "        vertical-align: middle;\n",
       "    }\n",
       "\n",
       "    .dataframe tbody tr th {\n",
       "        vertical-align: top;\n",
       "    }\n",
       "\n",
       "    .dataframe thead th {\n",
       "        text-align: right;\n",
       "    }\n",
       "</style>\n",
       "<table border=\"1\" class=\"dataframe\">\n",
       "  <thead>\n",
       "    <tr style=\"text-align: right;\">\n",
       "      <th></th>\n",
       "      <th>count</th>\n",
       "      <th>mean</th>\n",
       "      <th>std</th>\n",
       "      <th>min</th>\n",
       "      <th>25%</th>\n",
       "      <th>50%</th>\n",
       "      <th>75%</th>\n",
       "      <th>max</th>\n",
       "    </tr>\n",
       "    <tr>\n",
       "      <th>pub_rec</th>\n",
       "      <th></th>\n",
       "      <th></th>\n",
       "      <th></th>\n",
       "      <th></th>\n",
       "      <th></th>\n",
       "      <th></th>\n",
       "      <th></th>\n",
       "      <th></th>\n",
       "    </tr>\n",
       "  </thead>\n",
       "  <tbody>\n",
       "    <tr>\n",
       "      <th>0</th>\n",
       "      <td>9019.0</td>\n",
       "      <td>0.154673</td>\n",
       "      <td>0.361613</td>\n",
       "      <td>0.0</td>\n",
       "      <td>0.0</td>\n",
       "      <td>0.0</td>\n",
       "      <td>0.0</td>\n",
       "      <td>1.0</td>\n",
       "    </tr>\n",
       "    <tr>\n",
       "      <th>1</th>\n",
       "      <td>533.0</td>\n",
       "      <td>0.255159</td>\n",
       "      <td>0.436360</td>\n",
       "      <td>0.0</td>\n",
       "      <td>0.0</td>\n",
       "      <td>0.0</td>\n",
       "      <td>1.0</td>\n",
       "      <td>1.0</td>\n",
       "    </tr>\n",
       "    <tr>\n",
       "      <th>2</th>\n",
       "      <td>19.0</td>\n",
       "      <td>0.105263</td>\n",
       "      <td>0.315302</td>\n",
       "      <td>0.0</td>\n",
       "      <td>0.0</td>\n",
       "      <td>0.0</td>\n",
       "      <td>0.0</td>\n",
       "      <td>1.0</td>\n",
       "    </tr>\n",
       "    <tr>\n",
       "      <th>3</th>\n",
       "      <td>5.0</td>\n",
       "      <td>0.000000</td>\n",
       "      <td>0.000000</td>\n",
       "      <td>0.0</td>\n",
       "      <td>0.0</td>\n",
       "      <td>0.0</td>\n",
       "      <td>0.0</td>\n",
       "      <td>0.0</td>\n",
       "    </tr>\n",
       "    <tr>\n",
       "      <th>4</th>\n",
       "      <td>1.0</td>\n",
       "      <td>0.000000</td>\n",
       "      <td>NaN</td>\n",
       "      <td>0.0</td>\n",
       "      <td>0.0</td>\n",
       "      <td>0.0</td>\n",
       "      <td>0.0</td>\n",
       "      <td>0.0</td>\n",
       "    </tr>\n",
       "    <tr>\n",
       "      <th>5</th>\n",
       "      <td>1.0</td>\n",
       "      <td>0.000000</td>\n",
       "      <td>NaN</td>\n",
       "      <td>0.0</td>\n",
       "      <td>0.0</td>\n",
       "      <td>0.0</td>\n",
       "      <td>0.0</td>\n",
       "      <td>0.0</td>\n",
       "    </tr>\n",
       "  </tbody>\n",
       "</table>\n",
       "</div>"
      ],
      "text/plain": [
       "          count      mean       std  min  25%  50%  75%  max\n",
       "pub_rec                                                     \n",
       "0        9019.0  0.154673  0.361613  0.0  0.0  0.0  0.0  1.0\n",
       "1         533.0  0.255159  0.436360  0.0  0.0  0.0  1.0  1.0\n",
       "2          19.0  0.105263  0.315302  0.0  0.0  0.0  0.0  1.0\n",
       "3           5.0  0.000000  0.000000  0.0  0.0  0.0  0.0  0.0\n",
       "4           1.0  0.000000       NaN  0.0  0.0  0.0  0.0  0.0\n",
       "5           1.0  0.000000       NaN  0.0  0.0  0.0  0.0  0.0"
      ]
     },
     "execution_count": 15,
     "metadata": {},
     "output_type": "execute_result"
    }
   ],
   "source": [
    "df.groupby(['pub_rec'])['not_fully_paid'].describe()"
   ]
  },
  {
   "cell_type": "code",
   "execution_count": 16,
   "id": "173a9d66",
   "metadata": {
    "execution": {
     "iopub.execute_input": "2021-09-02T16:41:16.233655Z",
     "iopub.status.busy": "2021-09-02T16:41:16.232598Z",
     "iopub.status.idle": "2021-09-02T16:41:16.772081Z",
     "shell.execute_reply": "2021-09-02T16:41:16.773032Z",
     "shell.execute_reply.started": "2021-09-02T14:39:21.128026Z"
    },
    "papermill": {
     "duration": 0.609632,
     "end_time": "2021-09-02T16:41:16.773309",
     "exception": false,
     "start_time": "2021-09-02T16:41:16.163677",
     "status": "completed"
    },
    "tags": []
   },
   "outputs": [
    {
     "data": {
      "image/png": "[encoded data removed]",
      "text/plain": [
       "<Figure size 720x576 with 2 Axes>"
      ]
     },
     "metadata": {},
     "output_type": "display_data"
    }
   ],
   "source": [
    "# Create correlation matrix and graph it\n",
    "corr = df.corr()\n",
    "#To cover half away the correlation matrix\n",
    "mask = np.zeros_like(corr)\n",
    "mask[np.triu_indices_from(mask)] = True\n",
    "with sns.axes_style('white'):\n",
    "    fig, ax = plt.subplots(figsize = (10,8))\n",
    "    ax = sns.heatmap(corr, mask = mask, vmax = 1, square = True)\n",
    "plt.show()"
   ]
  },
  {
   "cell_type": "markdown",
   "id": "0bf0a30b",
   "metadata": {
    "papermill": {
     "duration": 0.064284,
     "end_time": "2021-09-02T16:41:16.913218",
     "exception": false,
     "start_time": "2021-09-02T16:41:16.848934",
     "status": "completed"
    },
    "tags": []
   },
   "source": [
    "From the correlation matrix, we can infer a few things: \n",
    "- There's a strong negative correlation between fico score and interest rate, that is they move in opposite direction. This makes sense because if someone has poor credit score, their interest will be higher and vice versa. We'll graph this below.\n",
    "- There's a strong negative correlation between number of inquiry in the past 6 months and credit policy. As people make more credit inquiries, they'll be less likely to meet underwriting credit criteria. \n",
    "- Strong negative correlation between revolving utility (the amount of credit used over the total credit line available) and fico. For people who overspends their credit limit, this will have negative impact on their fico score. \n",
    "- Moderate positive correlation between natural log of annual income & installment. As people earn more money annually, they will also have a bigger monthly payment (installment) since they have more disposable income to spend. \n",
    "- Interest rate & revolving utility has moderate positive correlation. As people utilizes more of their available credit line, the interest rate for them will go up.\n",
    "- Dti (debt-to-income ratio) and revolving utility has mild positive correlation. As people own more debt, it also means that they're utilizing more of their own available credit line. \n",
    "- Log annual income has mild positive correlation with days with credit line (how long they have had a credit line). "
   ]
  },
  {
   "cell_type": "code",
   "execution_count": 17,
   "id": "bccff133",
   "metadata": {
    "execution": {
     "iopub.execute_input": "2021-09-02T16:41:17.072397Z",
     "iopub.status.busy": "2021-09-02T16:41:17.071260Z",
     "iopub.status.idle": "2021-09-02T16:41:17.763775Z",
     "shell.execute_reply": "2021-09-02T16:41:17.764233Z",
     "shell.execute_reply.started": "2021-09-02T14:39:21.451466Z"
    },
    "papermill": {
     "duration": 0.787877,
     "end_time": "2021-09-02T16:41:17.764427",
     "exception": false,
     "start_time": "2021-09-02T16:41:16.976550",
     "status": "completed"
    },
    "tags": []
   },
   "outputs": [
    {
     "data": {
      "image/png": "[encoded data removed]",
      "text/plain": [
       "<Figure size 432x432 with 3 Axes>"
      ]
     },
     "metadata": {},
     "output_type": "display_data"
    }
   ],
   "source": [
    "sns.jointplot(x ='fico', y = 'int_rate', data =df)\n",
    "plt.show()"
   ]
  },
  {
   "cell_type": "markdown",
   "id": "3a82b6cb",
   "metadata": {
    "papermill": {
     "duration": 0.062745,
     "end_time": "2021-09-02T16:41:17.891685",
     "exception": false,
     "start_time": "2021-09-02T16:41:17.828940",
     "status": "completed"
    },
    "tags": []
   },
   "source": [
    "From the graph on top, we can see that interest rate will drop as fico score gets better."
   ]
  },
  {
   "cell_type": "code",
   "execution_count": 18,
   "id": "a1e23a5a",
   "metadata": {
    "execution": {
     "iopub.execute_input": "2021-09-02T16:41:18.026114Z",
     "iopub.status.busy": "2021-09-02T16:41:18.024767Z",
     "iopub.status.idle": "2021-09-02T16:41:18.720552Z",
     "shell.execute_reply": "2021-09-02T16:41:18.719958Z",
     "shell.execute_reply.started": "2021-09-02T14:39:21.946913Z"
    },
    "papermill": {
     "duration": 0.763672,
     "end_time": "2021-09-02T16:41:18.720710",
     "exception": false,
     "start_time": "2021-09-02T16:41:17.957038",
     "status": "completed"
    },
    "tags": []
   },
   "outputs": [
    {
     "data": {
      "image/png": "[encoded data removed]",
      "text/plain": [
       "<Figure size 432x288 with 1 Axes>"
      ]
     },
     "metadata": {},
     "output_type": "display_data"
    },
    {
     "data": {
      "image/png": "[encoded data removed]",
      "text/plain": [
       "<Figure size 432x288 with 1 Axes>"
      ]
     },
     "metadata": {},
     "output_type": "display_data"
    },
    {
     "data": {
      "image/png": "[encoded data removed]",
      "text/plain": [
       "<Figure size 432x288 with 1 Axes>"
      ]
     },
     "metadata": {},
     "output_type": "display_data"
    },
    {
     "data": {
      "image/png": "[encoded data removed]",
      "text/plain": [
       "<Figure size 432x288 with 1 Axes>"
      ]
     },
     "metadata": {},
     "output_type": "display_data"
    },
    {
     "data": {
      "image/png": "[encoded data removed]",
      "text/plain": [
       "<Figure size 432x288 with 1 Axes>"
      ]
     },
     "metadata": {},
     "output_type": "display_data"
    },
    {
     "data": {
      "image/png": "[encoded data removed]",
      "text/plain": [
       "<Figure size 432x288 with 1 Axes>"
      ]
     },
     "metadata": {},
     "output_type": "display_data"
    }
   ],
   "source": [
    "#Select continous variables (float)\n",
    "cont_var = [c for c in df.columns if df[c].dtype == 'float']\n",
    "\n",
    "#Graph continuous variables to see the distribution\n",
    "for i in cont_var:\n",
    "    sns.boxplot(y = i, palette = 'rainbow', data = df)\n",
    "    plt.show()"
   ]
  },
  {
   "cell_type": "markdown",
   "id": "5ea8f9ac",
   "metadata": {
    "papermill": {
     "duration": 0.068391,
     "end_time": "2021-09-02T16:41:18.856258",
     "exception": false,
     "start_time": "2021-09-02T16:41:18.787867",
     "status": "completed"
    },
    "tags": []
   },
   "source": [
    "Next we'll answer the question of when the loan will be paid off assuming that a monthly installment is being made. We'll create a new column for this. Then we'll use pivot table to see what types of loans will take the longest to pay off. "
   ]
  },
  {
   "cell_type": "code",
   "execution_count": 19,
   "id": "d9be3e25",
   "metadata": {
    "execution": {
     "iopub.execute_input": "2021-09-02T16:41:19.013241Z",
     "iopub.status.busy": "2021-09-02T16:41:19.012184Z",
     "iopub.status.idle": "2021-09-02T16:41:19.045882Z",
     "shell.execute_reply": "2021-09-02T16:41:19.046421Z",
     "shell.execute_reply.started": "2021-09-02T14:39:22.597446Z"
    },
    "papermill": {
     "duration": 0.121733,
     "end_time": "2021-09-02T16:41:19.046979",
     "exception": false,
     "start_time": "2021-09-02T16:41:18.925246",
     "status": "completed"
    },
    "tags": []
   },
   "outputs": [
    {
     "data": {
      "text/html": [
       "<div>\n",
       "<style scoped>\n",
       "    .dataframe tbody tr th:only-of-type {\n",
       "        vertical-align: middle;\n",
       "    }\n",
       "\n",
       "    .dataframe tbody tr th {\n",
       "        vertical-align: top;\n",
       "    }\n",
       "\n",
       "    .dataframe thead th {\n",
       "        text-align: right;\n",
       "    }\n",
       "</style>\n",
       "<table border=\"1\" class=\"dataframe\">\n",
       "  <thead>\n",
       "    <tr style=\"text-align: right;\">\n",
       "      <th></th>\n",
       "      <th>time_to_paid_off_mths</th>\n",
       "    </tr>\n",
       "    <tr>\n",
       "      <th>purpose</th>\n",
       "      <th></th>\n",
       "    </tr>\n",
       "  </thead>\n",
       "  <tbody>\n",
       "    <tr>\n",
       "      <th>all_other</th>\n",
       "      <td>72.470874</td>\n",
       "    </tr>\n",
       "    <tr>\n",
       "      <th>credit_card</th>\n",
       "      <td>90.090695</td>\n",
       "    </tr>\n",
       "    <tr>\n",
       "      <th>debt_consolidation</th>\n",
       "      <td>56.338013</td>\n",
       "    </tr>\n",
       "    <tr>\n",
       "      <th>educational</th>\n",
       "      <td>71.684185</td>\n",
       "    </tr>\n",
       "    <tr>\n",
       "      <th>home_improvement</th>\n",
       "      <td>95.372521</td>\n",
       "    </tr>\n",
       "    <tr>\n",
       "      <th>major_purchase</th>\n",
       "      <td>42.882616</td>\n",
       "    </tr>\n",
       "    <tr>\n",
       "      <th>small_business</th>\n",
       "      <td>68.357813</td>\n",
       "    </tr>\n",
       "    <tr>\n",
       "      <th>Average across all purposes</th>\n",
       "      <td>67.987446</td>\n",
       "    </tr>\n",
       "  </tbody>\n",
       "</table>\n",
       "</div>"
      ],
      "text/plain": [
       "                             time_to_paid_off_mths\n",
       "purpose                                           \n",
       "all_other                                72.470874\n",
       "credit_card                              90.090695\n",
       "debt_consolidation                       56.338013\n",
       "educational                              71.684185\n",
       "home_improvement                         95.372521\n",
       "major_purchase                           42.882616\n",
       "small_business                           68.357813\n",
       "Average across all purposes              67.987446"
      ]
     },
     "execution_count": 19,
     "metadata": {},
     "output_type": "execute_result"
    }
   ],
   "source": [
    "df['time_to_paid_off_mths'] = df['revol_bal']/df['installment']\n",
    "pd.pivot_table(index = 'purpose', values = 'time_to_paid_off_mths', aggfunc = 'mean', margins = True, \n",
    "               margins_name = 'Average across all purposes', data = df)"
   ]
  },
  {
   "cell_type": "markdown",
   "id": "ca34aaeb",
   "metadata": {
    "papermill": {
     "duration": 0.070019,
     "end_time": "2021-09-02T16:41:19.193403",
     "exception": false,
     "start_time": "2021-09-02T16:41:19.123384",
     "status": "completed"
    },
    "tags": []
   },
   "source": [
    "Home improvement seems to take the longest to pay off, at 95 months on average. The category \"major_purchase\" has the shortest paid off time at 42 months."
   ]
  },
  {
   "cell_type": "code",
   "execution_count": 20,
   "id": "b2f09283",
   "metadata": {
    "execution": {
     "iopub.execute_input": "2021-09-02T16:41:19.337488Z",
     "iopub.status.busy": "2021-09-02T16:41:19.336814Z",
     "iopub.status.idle": "2021-09-02T16:41:19.356706Z",
     "shell.execute_reply": "2021-09-02T16:41:19.356016Z",
     "shell.execute_reply.started": "2021-09-02T14:39:22.629374Z"
    },
    "papermill": {
     "duration": 0.095519,
     "end_time": "2021-09-02T16:41:19.356850",
     "exception": false,
     "start_time": "2021-09-02T16:41:19.261331",
     "status": "completed"
    },
    "tags": []
   },
   "outputs": [
    {
     "data": {
      "text/html": [
       "<div>\n",
       "<style scoped>\n",
       "    .dataframe tbody tr th:only-of-type {\n",
       "        vertical-align: middle;\n",
       "    }\n",
       "\n",
       "    .dataframe tbody tr th {\n",
       "        vertical-align: top;\n",
       "    }\n",
       "\n",
       "    .dataframe thead th {\n",
       "        text-align: right;\n",
       "    }\n",
       "</style>\n",
       "<table border=\"1\" class=\"dataframe\">\n",
       "  <thead>\n",
       "    <tr style=\"text-align: right;\">\n",
       "      <th></th>\n",
       "      <th>delinq_2yrs</th>\n",
       "      <th>dti</th>\n",
       "      <th>log_annual_inc</th>\n",
       "    </tr>\n",
       "    <tr>\n",
       "      <th>purpose</th>\n",
       "      <th></th>\n",
       "      <th></th>\n",
       "      <th></th>\n",
       "    </tr>\n",
       "  </thead>\n",
       "  <tbody>\n",
       "    <tr>\n",
       "      <th>all_other</th>\n",
       "      <td>2331</td>\n",
       "      <td>11.079498</td>\n",
       "      <td>10.845313</td>\n",
       "    </tr>\n",
       "    <tr>\n",
       "      <th>credit_card</th>\n",
       "      <td>1262</td>\n",
       "      <td>14.099398</td>\n",
       "      <td>11.047230</td>\n",
       "    </tr>\n",
       "    <tr>\n",
       "      <th>debt_consolidation</th>\n",
       "      <td>3957</td>\n",
       "      <td>14.076462</td>\n",
       "      <td>10.912909</td>\n",
       "    </tr>\n",
       "    <tr>\n",
       "      <th>educational</th>\n",
       "      <td>343</td>\n",
       "      <td>11.344927</td>\n",
       "      <td>10.549956</td>\n",
       "    </tr>\n",
       "    <tr>\n",
       "      <th>home_improvement</th>\n",
       "      <td>629</td>\n",
       "      <td>10.197504</td>\n",
       "      <td>11.201979</td>\n",
       "    </tr>\n",
       "    <tr>\n",
       "      <th>major_purchase</th>\n",
       "      <td>437</td>\n",
       "      <td>10.159886</td>\n",
       "      <td>10.844895</td>\n",
       "    </tr>\n",
       "    <tr>\n",
       "      <th>small_business</th>\n",
       "      <td>619</td>\n",
       "      <td>10.793296</td>\n",
       "      <td>11.146216</td>\n",
       "    </tr>\n",
       "  </tbody>\n",
       "</table>\n",
       "</div>"
      ],
      "text/plain": [
       "                    delinq_2yrs        dti  log_annual_inc\n",
       "purpose                                                   \n",
       "all_other                  2331  11.079498       10.845313\n",
       "credit_card                1262  14.099398       11.047230\n",
       "debt_consolidation         3957  14.076462       10.912909\n",
       "educational                 343  11.344927       10.549956\n",
       "home_improvement            629  10.197504       11.201979\n",
       "major_purchase              437  10.159886       10.844895\n",
       "small_business              619  10.793296       11.146216"
      ]
     },
     "execution_count": 20,
     "metadata": {},
     "output_type": "execute_result"
    }
   ],
   "source": [
    "pd.pivot_table(index = 'purpose', values = ['log_annual_inc', 'dti', 'delinq_2yrs'], \n",
    "               aggfunc = {'log_annual_inc':np.mean,'dti':np.mean,\n",
    "                           'delinq_2yrs': 'count'             }, data = df)"
   ]
  },
  {
   "cell_type": "markdown",
   "id": "e403b938",
   "metadata": {
    "papermill": {
     "duration": 0.069596,
     "end_time": "2021-09-02T16:41:19.497718",
     "exception": false,
     "start_time": "2021-09-02T16:41:19.428122",
     "status": "completed"
    },
    "tags": []
   },
   "source": [
    "There's not much income variation across different purposes, but we can see that groups with the most number of delinquencies in the past 2 years are \"debt consolidation\" and \"all other\". Debt-to-income ratio is also high in the debt consolidation and credit card groups."
   ]
  },
  {
   "cell_type": "markdown",
   "id": "2b79d15d",
   "metadata": {
    "papermill": {
     "duration": 0.06871,
     "end_time": "2021-09-02T16:41:19.635223",
     "exception": false,
     "start_time": "2021-09-02T16:41:19.566513",
     "status": "completed"
    },
    "tags": []
   },
   "source": [
    "Since income is a log variable, we'll use a special KDE plot to see its distribution."
   ]
  },
  {
   "cell_type": "code",
   "execution_count": 21,
   "id": "495c0e8e",
   "metadata": {
    "execution": {
     "iopub.execute_input": "2021-09-02T16:41:19.782623Z",
     "iopub.status.busy": "2021-09-02T16:41:19.781859Z",
     "iopub.status.idle": "2021-09-02T16:41:20.227133Z",
     "shell.execute_reply": "2021-09-02T16:41:20.226504Z",
     "shell.execute_reply.started": "2021-09-02T14:39:22.656147Z"
    },
    "papermill": {
     "duration": 0.522899,
     "end_time": "2021-09-02T16:41:20.227315",
     "exception": false,
     "start_time": "2021-09-02T16:41:19.704416",
     "status": "completed"
    },
    "tags": []
   },
   "outputs": [
    {
     "data": {
      "image/png": "[encoded data removed]",
      "text/plain": [
       "<Figure size 432x288 with 1 Axes>"
      ]
     },
     "metadata": {},
     "output_type": "display_data"
    }
   ],
   "source": [
    "sns.kdeplot(df['log_annual_inc'], hue = df['not_fully_paid'])\n",
    "plt.show()"
   ]
  },
  {
   "cell_type": "markdown",
   "id": "6a01fd38",
   "metadata": {
    "papermill": {
     "duration": 0.074707,
     "end_time": "2021-09-02T16:41:20.372092",
     "exception": false,
     "start_time": "2021-09-02T16:41:20.297385",
     "status": "completed"
    },
    "tags": []
   },
   "source": [
    "It has a perfect normal distribution with mean at around 11. There're more people who have fully paid than people who have not fully paid. "
   ]
  },
  {
   "cell_type": "markdown",
   "id": "59006792",
   "metadata": {
    "papermill": {
     "duration": 0.06779,
     "end_time": "2021-09-02T16:41:20.509634",
     "exception": false,
     "start_time": "2021-09-02T16:41:20.441844",
     "status": "completed"
    },
    "tags": []
   },
   "source": [
    "We'll turn some variables into PMF functions to be able to more easily visualize them. Let's begin with delinq_2yrs"
   ]
  },
  {
   "cell_type": "code",
   "execution_count": 22,
   "id": "0f2e9f13",
   "metadata": {
    "execution": {
     "iopub.execute_input": "2021-09-02T16:41:20.684006Z",
     "iopub.status.busy": "2021-09-02T16:41:20.679733Z",
     "iopub.status.idle": "2021-09-02T16:41:20.880771Z",
     "shell.execute_reply": "2021-09-02T16:41:20.880225Z",
     "shell.execute_reply.started": "2021-09-02T14:39:23.114374Z"
    },
    "papermill": {
     "duration": 0.302632,
     "end_time": "2021-09-02T16:41:20.880918",
     "exception": false,
     "start_time": "2021-09-02T16:41:20.578286",
     "status": "completed"
    },
    "tags": []
   },
   "outputs": [
    {
     "data": {
      "image/png": "[encoded data removed]",
      "text/plain": [
       "<Figure size 432x288 with 1 Axes>"
      ]
     },
     "metadata": {},
     "output_type": "display_data"
    }
   ],
   "source": [
    "pmf_delinq = Pmf.from_seq(df['delinq_2yrs'], normalize = True)\n",
    "pmf_delinq.bar()\n",
    "plt.xlabel('Number of delinquencies in the past 2 years')\n",
    "plt.ylabel('Probability')\n",
    "plt.show()"
   ]
  },
  {
   "cell_type": "code",
   "execution_count": 23,
   "id": "e97e8c4c",
   "metadata": {
    "execution": {
     "iopub.execute_input": "2021-09-02T16:41:21.051718Z",
     "iopub.status.busy": "2021-09-02T16:41:21.027809Z",
     "iopub.status.idle": "2021-09-02T16:41:21.219060Z",
     "shell.execute_reply": "2021-09-02T16:41:21.219557Z",
     "shell.execute_reply.started": "2021-09-02T14:39:23.340559Z"
    },
    "papermill": {
     "duration": 0.267992,
     "end_time": "2021-09-02T16:41:21.219744",
     "exception": false,
     "start_time": "2021-09-02T16:41:20.951752",
     "status": "completed"
    },
    "tags": []
   },
   "outputs": [
    {
     "data": {
      "image/png": "[encoded data removed]",
      "text/plain": [
       "<Figure size 432x288 with 1 Axes>"
      ]
     },
     "metadata": {},
     "output_type": "display_data"
    }
   ],
   "source": [
    "pmf_pubrec = Pmf.from_seq(df['pub_rec'], normalize = True)\n",
    "pmf_pubrec.bar()\n",
    "plt.xlabel('Number of derogatory public records')\n",
    "plt.ylabel('Probability')\n",
    "plt.show()"
   ]
  },
  {
   "cell_type": "code",
   "execution_count": 24,
   "id": "ec8515ca",
   "metadata": {
    "execution": {
     "iopub.execute_input": "2021-09-02T16:41:21.364671Z",
     "iopub.status.busy": "2021-09-02T16:41:21.363910Z",
     "iopub.status.idle": "2021-09-02T16:41:21.617878Z",
     "shell.execute_reply": "2021-09-02T16:41:21.617180Z",
     "shell.execute_reply.started": "2021-09-02T14:39:23.528584Z"
    },
    "papermill": {
     "duration": 0.327191,
     "end_time": "2021-09-02T16:41:21.618024",
     "exception": false,
     "start_time": "2021-09-02T16:41:21.290833",
     "status": "completed"
    },
    "tags": []
   },
   "outputs": [
    {
     "data": {
      "image/png": "[encoded data removed]",
      "text/plain": [
       "<Figure size 432x288 with 1 Axes>"
      ]
     },
     "metadata": {},
     "output_type": "display_data"
    }
   ],
   "source": [
    "dti_0 = df[df['not_fully_paid'] == 0]['dti']\n",
    "dti_1 = df[df['not_fully_paid'] == 1]['dti']  \n",
    "cdf_dti_0 = Cdf.from_seq(dti_0, normalize = True)\n",
    "cdf_dti_1 = Cdf.from_seq(dti_1, normalize = True)\n",
    "cdf_dti_0.plot(label = \"Fully paid\")\n",
    "cdf_dti_1.plot(label = \"Not fully paid\")\n",
    "plt.legend()\n",
    "plt.xlabel('Debt-to-income ratio')\n",
    "plt.ylabel('CDF')\n",
    "plt.show()"
   ]
  },
  {
   "cell_type": "markdown",
   "id": "797fb8a1",
   "metadata": {
    "papermill": {
     "duration": 0.073164,
     "end_time": "2021-09-02T16:41:21.762943",
     "exception": false,
     "start_time": "2021-09-02T16:41:21.689779",
     "status": "completed"
    },
    "tags": []
   },
   "source": [
    "# **Preprocessing**"
   ]
  },
  {
   "cell_type": "markdown",
   "id": "5a2ebe4b",
   "metadata": {
    "papermill": {
     "duration": 0.074647,
     "end_time": "2021-09-02T16:41:21.913940",
     "exception": false,
     "start_time": "2021-09-02T16:41:21.839293",
     "status": "completed"
    },
    "tags": []
   },
   "source": [
    "Next we'll go into the preprocessing aspect for the variables. First we'll import the necessary libraries. "
   ]
  },
  {
   "cell_type": "code",
   "execution_count": 25,
   "id": "f4820150",
   "metadata": {
    "execution": {
     "iopub.execute_input": "2021-09-02T16:41:22.067160Z",
     "iopub.status.busy": "2021-09-02T16:41:22.066360Z",
     "iopub.status.idle": "2021-09-02T16:41:23.199576Z",
     "shell.execute_reply": "2021-09-02T16:41:23.198802Z",
     "shell.execute_reply.started": "2021-09-02T14:39:23.765048Z"
    },
    "papermill": {
     "duration": 1.212709,
     "end_time": "2021-09-02T16:41:23.199795",
     "exception": false,
     "start_time": "2021-09-02T16:41:21.987086",
     "status": "completed"
    },
    "tags": []
   },
   "outputs": [],
   "source": [
    "from sklearn.preprocessing import StandardScaler, MinMaxScaler, OrdinalEncoder, OneHotEncoder\n",
    "from sklearn.compose import ColumnTransformer\n",
    "from sklearn.pipeline import Pipeline\n",
    "import optuna\n",
    "from sklearn.linear_model import LogisticRegression \n",
    "from sklearn.model_selection import StratifiedKFold\n",
    "from sklearn.metrics import classification_report\n",
    "from sklearn.model_selection import train_test_split\n",
    "from sklearn.metrics import plot_confusion_matrix"
   ]
  },
  {
   "cell_type": "code",
   "execution_count": 26,
   "id": "2df75a6f",
   "metadata": {
    "execution": {
     "iopub.execute_input": "2021-09-02T16:41:23.355136Z",
     "iopub.status.busy": "2021-09-02T16:41:23.354079Z",
     "iopub.status.idle": "2021-09-02T16:41:23.361229Z",
     "shell.execute_reply": "2021-09-02T16:41:23.361716Z",
     "shell.execute_reply.started": "2021-09-02T14:39:24.737191Z"
    },
    "papermill": {
     "duration": 0.086877,
     "end_time": "2021-09-02T16:41:23.361896",
     "exception": false,
     "start_time": "2021-09-02T16:41:23.275019",
     "status": "completed"
    },
    "tags": []
   },
   "outputs": [],
   "source": [
    "#Use dummy encoding for purpose\n",
    "df_dummy = pd.get_dummies(df['purpose'], prefix = 'purpose', drop_first = True) #to avoid multicollinearity\n",
    "#Merging dataframes to get the dummy variables\n",
    "df = df.merge(df_dummy, left_index = True, right_index = True)"
   ]
  },
  {
   "cell_type": "code",
   "execution_count": 27,
   "id": "b765015b",
   "metadata": {
    "execution": {
     "iopub.execute_input": "2021-09-02T16:41:23.512596Z",
     "iopub.status.busy": "2021-09-02T16:41:23.511408Z",
     "iopub.status.idle": "2021-09-02T16:41:23.517282Z",
     "shell.execute_reply": "2021-09-02T16:41:23.517915Z",
     "shell.execute_reply.started": "2021-09-02T14:39:24.748978Z"
    },
    "papermill": {
     "duration": 0.084539,
     "end_time": "2021-09-02T16:41:23.518102",
     "exception": false,
     "start_time": "2021-09-02T16:41:23.433563",
     "status": "completed"
    },
    "tags": []
   },
   "outputs": [],
   "source": [
    "#Separate 'not_fully_paid' into the target for prediction\n",
    "y = df['not_fully_paid']\n",
    "#Drop the target and old categorical 'purpose' from dataframe\n",
    "X = df\n",
    "X.drop('purpose', axis='columns',inplace = True)\n",
    "X.drop('not_fully_paid', axis = 'columns', inplace = True)"
   ]
  },
  {
   "cell_type": "code",
   "execution_count": 28,
   "id": "fc1a1788",
   "metadata": {
    "execution": {
     "iopub.execute_input": "2021-09-02T16:41:23.667431Z",
     "iopub.status.busy": "2021-09-02T16:41:23.666229Z",
     "iopub.status.idle": "2021-09-02T16:41:23.677412Z",
     "shell.execute_reply": "2021-09-02T16:41:23.678026Z",
     "shell.execute_reply.started": "2021-09-02T14:39:24.768047Z"
    },
    "papermill": {
     "duration": 0.088458,
     "end_time": "2021-09-02T16:41:23.678251",
     "exception": false,
     "start_time": "2021-09-02T16:41:23.589793",
     "status": "completed"
    },
    "tags": []
   },
   "outputs": [],
   "source": [
    "#Cont var will be standardized\n",
    "cont_var = [c for c in df.columns if df[c].dtype == 'float']\n",
    "cont_var.remove('log_annual_inc')\n",
    "cont_var_exc_inc = cont_var\n",
    "\n",
    "int_var = [c for c in df.columns if df[c].dtype == 'int']\n",
    "int_var.remove('credit_policy')\n",
    "int_var_exc_credit_policy = int_var\n",
    "\n",
    "#Standardize the integer variables to improve accuracy except for log_annual_inc\n",
    "standardizeX = StandardScaler()\n",
    "\n",
    "# Initialize column transformer\n",
    "columnTrans = ColumnTransformer(transformers = [\n",
    "    ('cont',standardizeX,cont_var_exc_inc),\n",
    "    ],remainder='passthrough')"
   ]
  },
  {
   "cell_type": "markdown",
   "id": "8de03490",
   "metadata": {
    "papermill": {
     "duration": 0.072265,
     "end_time": "2021-09-02T16:41:23.821345",
     "exception": false,
     "start_time": "2021-09-02T16:41:23.749080",
     "status": "completed"
    },
    "tags": []
   },
   "source": [
    "# **Model Building**"
   ]
  },
  {
   "cell_type": "markdown",
   "id": "25b3a2d2",
   "metadata": {
    "papermill": {
     "duration": 0.072164,
     "end_time": "2021-09-02T16:41:23.967369",
     "exception": false,
     "start_time": "2021-09-02T16:41:23.895205",
     "status": "completed"
    },
    "tags": []
   },
   "source": [
    "First we'll use logistic regression to predict whether a person has fully paid yet or not. "
   ]
  },
  {
   "cell_type": "code",
   "execution_count": 29,
   "id": "2afd1efc",
   "metadata": {
    "execution": {
     "iopub.execute_input": "2021-09-02T16:41:24.124198Z",
     "iopub.status.busy": "2021-09-02T16:41:24.121794Z",
     "iopub.status.idle": "2021-09-02T16:44:19.754151Z",
     "shell.execute_reply": "2021-09-02T16:44:19.754956Z",
     "shell.execute_reply.started": "2021-09-02T15:45:05.422508Z"
    },
    "papermill": {
     "duration": 175.715643,
     "end_time": "2021-09-02T16:44:19.755213",
     "exception": false,
     "start_time": "2021-09-02T16:41:24.039570",
     "status": "completed"
    },
    "tags": []
   },
   "outputs": [
    {
     "name": "stdout",
     "output_type": "stream",
     "text": [
      "Accuracy score for 0th is: 0.8392484342379958\n",
      "Accuracy score for 1th is: 0.8402922755741128\n",
      "Accuracy score for 2th is: 0.8402922755741128\n",
      "Accuracy score for 3th is: 0.8402922755741128\n",
      "Accuracy score for 4th is: 0.8402922755741128\n",
      "Accuracy score for 5th is: 0.8402922755741128\n",
      "Accuracy score for 6th is: 0.8392484342379958\n",
      "Accuracy score for 7th is: 0.8392484342379958\n",
      "Accuracy score for 8th is: 0.8401253918495298\n",
      "Accuracy score for 9th is: 0.8401253918495298\n",
      "The average score across all 10 folds is 0.8399457464283611\n"
     ]
    }
   ],
   "source": [
    "#Plugged in with tuned parameters from Optuna 200 trials\n",
    "best_params = {'penalty': 'elasticnet',\n",
    " 'tol': 1.8611902624672273e-05,\n",
    " 'C': 55.166308273185024,\n",
    " 'solver': 'saga',\n",
    " 'max_iter': 6076,\n",
    " 'multi_class': 'auto',\n",
    " 'l1_ratio': 0.2500723485073292}\n",
    "model1 = LogisticRegression(random_state = 0,**best_params)\n",
    "\n",
    "#to hold results\n",
    "accuracy = []\n",
    "coef = np.zeros((1,19))\n",
    "intercept = np.zeros((1,1))\n",
    "\n",
    "#Establish stratified Kfold with 10 splits\n",
    "skf = StratifiedKFold(n_splits = 10, shuffle = True)\n",
    "\n",
    "for fold, (train_index,test_index) in enumerate(skf.split(X, y)):\n",
    "    X_train, X_test = X.iloc[train_index], X.iloc[test_index]\n",
    "    y_train, y_test = y.iloc[train_index], y.iloc[test_index]\n",
    "\n",
    "    #Standardize the continuous variables\n",
    "    X_train = columnTrans.fit_transform(X_train)\n",
    "    X_test = columnTrans.transform(X_test)\n",
    "\n",
    "    #Fiting the model\n",
    "    model1.fit(X_train, y_train)\n",
    "\n",
    "    #Make prediction\n",
    "    preds = model1.predict(X_test)\n",
    "\n",
    "    #Scoring the model\n",
    "    score = model1.score(X_test, y_test)\n",
    "    accuracy.append(score)\n",
    "    coef += model1.coef_\n",
    "    intercept += model1.intercept_\n",
    "    print(f'Accuracy score for {fold}th is: {score}')\n",
    "\n",
    "print(f'The average score across all 10 folds is {np.mean(accuracy)}')"
   ]
  },
  {
   "cell_type": "markdown",
   "id": "649d19f1",
   "metadata": {
    "papermill": {
     "duration": 0.073979,
     "end_time": "2021-09-02T16:44:19.906246",
     "exception": false,
     "start_time": "2021-09-02T16:44:19.832267",
     "status": "completed"
    },
    "tags": []
   },
   "source": [
    "We can see that this logistic regression model has an **average accuracy of 84%** across 10 folds in predicting who will be most likely to pay back the loan."
   ]
  },
  {
   "cell_type": "markdown",
   "id": "fc8dbbb6",
   "metadata": {
    "papermill": {
     "duration": 0.077287,
     "end_time": "2021-09-02T16:44:20.059783",
     "exception": false,
     "start_time": "2021-09-02T16:44:19.982496",
     "status": "completed"
    },
    "tags": []
   },
   "source": [
    "Then we'll analyze the relationship between X and y of each independent variables have on not_fully_paid"
   ]
  },
  {
   "cell_type": "code",
   "execution_count": 30,
   "id": "799274b5",
   "metadata": {
    "execution": {
     "iopub.execute_input": "2021-09-02T16:44:20.224425Z",
     "iopub.status.busy": "2021-09-02T16:44:20.223621Z",
     "iopub.status.idle": "2021-09-02T16:44:20.226352Z",
     "shell.execute_reply": "2021-09-02T16:44:20.225782Z",
     "shell.execute_reply.started": "2021-09-02T15:54:40.603174Z"
    },
    "papermill": {
     "duration": 0.087583,
     "end_time": "2021-09-02T16:44:20.226500",
     "exception": false,
     "start_time": "2021-09-02T16:44:20.138917",
     "status": "completed"
    },
    "tags": []
   },
   "outputs": [],
   "source": [
    "#Divide by the number of folds to get the average coefficients and intercept\n",
    "coef = coef/10\n",
    "intercept = intercept/10\n",
    "coef = coef[0]\n",
    "intercept = intercept[0]"
   ]
  },
  {
   "cell_type": "code",
   "execution_count": 31,
   "id": "b629ed02",
   "metadata": {
    "execution": {
     "iopub.execute_input": "2021-09-02T16:44:20.378026Z",
     "iopub.status.busy": "2021-09-02T16:44:20.377211Z",
     "iopub.status.idle": "2021-09-02T16:44:20.393951Z",
     "shell.execute_reply": "2021-09-02T16:44:20.393191Z",
     "shell.execute_reply.started": "2021-09-02T16:35:39.530393Z"
    },
    "papermill": {
     "duration": 0.09392,
     "end_time": "2021-09-02T16:44:20.394124",
     "exception": false,
     "start_time": "2021-09-02T16:44:20.300204",
     "status": "completed"
    },
    "tags": []
   },
   "outputs": [
    {
     "name": "stdout",
     "output_type": "stream",
     "text": [
      "The default person with 0 across all variables has a probability of having not fully paid equals to: [-3.20915944e-06]\n",
      "The bigger these variables below get, it means the more likely that the person has not fully paid\n",
      "{'credit_policy': 3.2285497722612332e-06,\n",
      " 'delinq_2yrs': 2.0791661022427126e-06,\n",
      " 'dti': 1.7772110564750868e-06,\n",
      " 'fico': 5.210949637390454e-07,\n",
      " 'inq_last_6mths': 3.1639314725732483e-06,\n",
      " 'installment': 9.194146753355389e-07,\n",
      " 'int_rate': 1.4096036764254213e-06,\n",
      " 'purpose_small_business': 2.768830708217152e-07,\n",
      " 'time_to_paid_off_mths': 5.406216222197649e-08}\n",
      "The bigger these variables below get, it means the more likely that the person has fully paid\n",
      "{'days_with_cr_line': -3.93211973536434e-06,\n",
      " 'log_annual_inc': -2.817882271760152e-07,\n",
      " 'pub_rec': -5.135161965479679e-07,\n",
      " 'purpose_credit_card': -7.516472149644913e-07,\n",
      " 'purpose_debt_consolidation': -1.5393519744107323e-06,\n",
      " 'purpose_educational': -3.3952477660372596e-08,\n",
      " 'purpose_home_improvement': -1.5659084069995884e-07,\n",
      " 'purpose_major_purchase': -2.8672427805861587e-07,\n",
      " 'revol_bal': -3.5306882571000614e-05,\n",
      " 'revol_util': -0.0023865851781228646}\n"
     ]
    }
   ],
   "source": [
    "import pprint #to print dictionary output nicely\n",
    "pos_coef_list = []\n",
    "neg_coef_list = []\n",
    "pos_coef = {} #for positive coefficients var\n",
    "neg_coef = {} #for negative coefficients var\n",
    "for i,c in enumerate(X.columns): \n",
    "    if coef[i] > 0:\n",
    "        pos_coef[c] = coef[i]\n",
    "        pos_coef_list.append(coef[i])\n",
    "    else:\n",
    "        neg_coef[c] = coef[i]\n",
    "        neg_coef_list.append(coef[i])\n",
    "print('The default person with 0 across all variables has a probability of having not fully paid equals to:', intercept)\n",
    "print('The bigger these variables below get, it means the more likely that the person has not fully paid')\n",
    "pprint.pprint(pos_coef)\n",
    "print(\"The bigger these variables below get, it means the more likely that the person has fully paid\")\n",
    "pprint.pprint(neg_coef)"
   ]
  },
  {
   "cell_type": "markdown",
   "id": "5cb7b922",
   "metadata": {
    "papermill": {
     "duration": 0.077182,
     "end_time": "2021-09-02T16:44:20.545968",
     "exception": false,
     "start_time": "2021-09-02T16:44:20.468786",
     "status": "completed"
    },
    "tags": []
   },
   "source": [
    "# **Hyperparameter tuning**"
   ]
  },
  {
   "cell_type": "markdown",
   "id": "f2f711e5",
   "metadata": {
    "papermill": {
     "duration": 0.074666,
     "end_time": "2021-09-02T16:44:20.694686",
     "exception": false,
     "start_time": "2021-09-02T16:44:20.620020",
     "status": "completed"
    },
    "tags": []
   },
   "source": [
    "This section below was only run a few times in order to get the optimized parameters for the logistic regression model."
   ]
  },
  {
   "cell_type": "code",
   "execution_count": 32,
   "id": "8690ace8",
   "metadata": {
    "execution": {
     "iopub.execute_input": "2021-09-02T16:44:20.854480Z",
     "iopub.status.busy": "2021-09-02T16:44:20.853503Z",
     "iopub.status.idle": "2021-09-02T16:44:20.857369Z",
     "shell.execute_reply": "2021-09-02T16:44:20.856472Z",
     "shell.execute_reply.started": "2021-09-02T14:39:24.793107Z"
    },
    "papermill": {
     "duration": 0.088996,
     "end_time": "2021-09-02T16:44:20.857574",
     "exception": false,
     "start_time": "2021-09-02T16:44:20.768578",
     "status": "completed"
    },
    "tags": []
   },
   "outputs": [],
   "source": [
    "#With Optuna for tuning\n",
    "accuracy = []\n",
    "def run(trial):\n",
    "    penalty = trial.suggest_categorical('penalty',['l1', 'l2', 'elasticnet', 'none'])\n",
    "    tol = trial.suggest_float('tol', 0.0000001, 0.0001, log = True)\n",
    "    C = trial.suggest_float('C', 1.0, 100)\n",
    "    solver = trial.suggest_categorical('solver', ['newton-cg', 'lbfgs', 'liblinear', 'sag', 'saga'])\n",
    "    max_iter = trial.suggest_int('max_iter', 100, 10000)\n",
    "    multi_class = trial.suggest_categorical('multi_class',[\"auto\", \"ovr\", \"multinomial\"])\n",
    "    l1_ratio = trial.suggest_float('l1_ratio', 0, 1)\n",
    "\n",
    "    #Standardize the continuous variables\n",
    "    # Using regular train_test split to work with Optuna\n",
    "    X_train, X_test, y_train, y_test = train_test_split(X, y, test_size = 0.2)\n",
    "    X_train = columnTrans.fit_transform(X_train)\n",
    "    X_test = columnTrans.transform(X_test)\n",
    "    model1 = LogisticRegression(penalty='l2', tol=0.0001, C=1.0, solver='lbfgs', \n",
    "                                max_iter=100, multi_class='auto', verbose=0, \n",
    "                            warm_start=False, n_jobs=-1, l1_ratio=None, random_state = 0)\n",
    "    #Fiting the model\n",
    "    model1.fit(X_train, y_train)\n",
    "\n",
    "    #Make prediction\n",
    "    preds = model1.predict(X_test)\n",
    "\n",
    "    #Scoring the model\n",
    "    score = model1.score(X_test, y_test)\n",
    "    accuracy.append(score)\n",
    "    print(f'Accuracy score is: {score}')\n",
    "    return score"
   ]
  },
  {
   "cell_type": "code",
   "execution_count": 33,
   "id": "e129e52e",
   "metadata": {
    "execution": {
     "iopub.execute_input": "2021-09-02T16:44:21.024296Z",
     "iopub.status.busy": "2021-09-02T16:44:21.017637Z",
     "iopub.status.idle": "2021-09-02T16:45:28.354402Z",
     "shell.execute_reply": "2021-09-02T16:45:28.355444Z"
    },
    "papermill": {
     "duration": 67.420752,
     "end_time": "2021-09-02T16:45:28.355754",
     "exception": false,
     "start_time": "2021-09-02T16:44:20.935002",
     "status": "completed"
    },
    "tags": []
   },
   "outputs": [
    {
     "name": "stdout",
     "output_type": "stream",
     "text": [
      "Accuracy score is: 0.848643006263048\n",
      "Accuracy score is: 0.8423799582463466\n",
      "Accuracy score is: 0.8423799582463466\n",
      "Accuracy score is: 0.8288100208768268\n",
      "Accuracy score is: 0.8418580375782881\n",
      "Accuracy score is: 0.8241127348643006\n",
      "Accuracy score is: 0.8408141962421712\n",
      "Accuracy score is: 0.8382045929018789\n",
      "Accuracy score is: 0.8345511482254697\n",
      "Accuracy score is: 0.8350730688935282\n",
      "Accuracy score is: 0.8460334029227558\n",
      "Accuracy score is: 0.8335073068893528\n",
      "Accuracy score is: 0.8204592901878914\n",
      "Accuracy score is: 0.8392484342379958\n",
      "Accuracy score is: 0.8329853862212944\n",
      "Accuracy score is: 0.843945720250522\n",
      "Accuracy score is: 0.8475991649269311\n",
      "Accuracy score is: 0.8408141962421712\n",
      "Accuracy score is: 0.8423799582463466\n",
      "Accuracy score is: 0.8413361169102297\n",
      "Accuracy score is: 0.8418580375782881\n",
      "Accuracy score is: 0.8324634655532359\n",
      "Accuracy score is: 0.8475991649269311\n",
      "Accuracy score is: 0.8444676409185804\n",
      "Accuracy score is: 0.843945720250522\n",
      "Accuracy score is: 0.8402922755741128\n",
      "Accuracy score is: 0.8402922755741128\n",
      "Accuracy score is: 0.8434237995824635\n",
      "Accuracy score is: 0.8475991649269311\n",
      "Accuracy score is: 0.8366388308977035\n",
      "Accuracy score is: 0.843945720250522\n",
      "Accuracy score is: 0.8496868475991649\n",
      "Accuracy score is: 0.8397703549060542\n",
      "Accuracy score is: 0.8496868475991649\n",
      "Accuracy score is: 0.8502087682672234\n",
      "Accuracy score is: 0.8538622129436325\n",
      "Accuracy score is: 0.8413361169102297\n",
      "Accuracy score is: 0.8392484342379958\n",
      "Accuracy score is: 0.848643006263048\n",
      "Accuracy score is: 0.824634655532359\n",
      "Accuracy score is: 0.8392484342379958\n",
      "Accuracy score is: 0.8397703549060542\n",
      "Accuracy score is: 0.8517745302713987\n",
      "Accuracy score is: 0.8392484342379958\n",
      "Accuracy score is: 0.8528183716075156\n",
      "Accuracy score is: 0.8549060542797495\n",
      "Accuracy score is: 0.8496868475991649\n",
      "Accuracy score is: 0.8408141962421712\n",
      "Accuracy score is: 0.848643006263048\n",
      "Accuracy score is: 0.8392484342379958\n",
      "Accuracy score is: 0.8470772442588727\n",
      "Accuracy score is: 0.8392484342379958\n",
      "Accuracy score is: 0.8434237995824635\n",
      "Accuracy score is: 0.8397703549060542\n",
      "Accuracy score is: 0.8491649269311065\n",
      "Accuracy score is: 0.8230688935281837\n",
      "Accuracy score is: 0.8522964509394572\n",
      "Accuracy score is: 0.8355949895615866\n",
      "Accuracy score is: 0.8413361169102297\n",
      "Accuracy score is: 0.8397703549060542\n",
      "Accuracy score is: 0.8350730688935282\n",
      "Accuracy score is: 0.8387265135699373\n",
      "Accuracy score is: 0.8329853862212944\n",
      "Accuracy score is: 0.8444676409185804\n",
      "Accuracy score is: 0.8402922755741128\n",
      "Accuracy score is: 0.831419624217119\n",
      "Accuracy score is: 0.8376826722338204\n",
      "Accuracy score is: 0.8282881002087683\n",
      "Accuracy score is: 0.8460334029227558\n",
      "Accuracy score is: 0.843945720250522\n",
      "Accuracy score is: 0.8350730688935282\n",
      "Accuracy score is: 0.8408141962421712\n",
      "Accuracy score is: 0.8392484342379958\n",
      "Accuracy score is: 0.8533402922755741\n",
      "Accuracy score is: 0.8366388308977035\n",
      "Accuracy score is: 0.8434237995824635\n",
      "Accuracy score is: 0.8444676409185804\n",
      "Accuracy score is: 0.8235908141962421\n",
      "Accuracy score is: 0.8262004175365344\n",
      "Accuracy score is: 0.831419624217119\n",
      "Accuracy score is: 0.8392484342379958\n",
      "Accuracy score is: 0.8335073068893528\n",
      "Accuracy score is: 0.8329853862212944\n",
      "Accuracy score is: 0.8303757828810021\n",
      "Accuracy score is: 0.837160751565762\n",
      "Accuracy score is: 0.8397703549060542\n",
      "Accuracy score is: 0.8340292275574113\n",
      "Accuracy score is: 0.8408141962421712\n",
      "Accuracy score is: 0.8413361169102297\n",
      "Accuracy score is: 0.8324634655532359\n",
      "Accuracy score is: 0.8288100208768268\n",
      "Accuracy score is: 0.8449895615866388\n",
      "Accuracy score is: 0.8397703549060542\n",
      "Accuracy score is: 0.8434237995824635\n",
      "Accuracy score is: 0.8397703549060542\n",
      "Accuracy score is: 0.8423799582463466\n",
      "Accuracy score is: 0.8340292275574113\n",
      "Accuracy score is: 0.8256784968684759\n",
      "Accuracy score is: 0.843945720250522\n",
      "Accuracy score is: 0.8335073068893528\n"
     ]
    }
   ],
   "source": [
    "#Suppress optuna output\n",
    "optuna.logging.set_verbosity(optuna.logging.WARNING)\n",
    "study = optuna.create_study(direction = 'maximize')\n",
    "study.optimize(run, n_trials = 100)"
   ]
  },
  {
   "cell_type": "code",
   "execution_count": 34,
   "id": "7f1965df",
   "metadata": {
    "execution": {
     "iopub.execute_input": "2021-09-02T16:45:28.627414Z",
     "iopub.status.busy": "2021-09-02T16:45:28.626479Z",
     "iopub.status.idle": "2021-09-02T16:45:28.630572Z",
     "shell.execute_reply": "2021-09-02T16:45:28.631088Z",
     "shell.execute_reply.started": "2021-09-02T14:46:47.909873Z"
    },
    "papermill": {
     "duration": 0.117632,
     "end_time": "2021-09-02T16:45:28.631271",
     "exception": false,
     "start_time": "2021-09-02T16:45:28.513639",
     "status": "completed"
    },
    "tags": []
   },
   "outputs": [
    {
     "data": {
      "text/plain": [
       "{'penalty': 'none',\n",
       " 'tol': 8.738581492155619e-07,\n",
       " 'C': 78.7865340189345,\n",
       " 'solver': 'sag',\n",
       " 'max_iter': 2503,\n",
       " 'multi_class': 'ovr',\n",
       " 'l1_ratio': 0.3027797431774766}"
      ]
     },
     "execution_count": 34,
     "metadata": {},
     "output_type": "execute_result"
    }
   ],
   "source": [
    "study.best_params"
   ]
  },
  {
   "cell_type": "markdown",
   "id": "fddccf5c",
   "metadata": {
    "papermill": {
     "duration": 0.106945,
     "end_time": "2021-09-02T16:45:28.849842",
     "exception": false,
     "start_time": "2021-09-02T16:45:28.742897",
     "status": "completed"
    },
    "tags": []
   },
   "source": []
  }
 ],
 "metadata": {
  "kernelspec": {
   "display_name": "Python 3",
   "language": "python",
   "name": "python3"
  },
  "language_info": {
   "codemirror_mode": {
    "name": "ipython",
    "version": 3
   },
   "file_extension": ".py",
   "mimetype": "text/x-python",
   "name": "python",
   "nbconvert_exporter": "python",
   "pygments_lexer": "ipython3",
   "version": "3.7.10"
  },
  "papermill": {
   "default_parameters": {},
   "duration": 283.941495,
   "end_time": "2021-09-02T16:45:30.530128",
   "environment_variables": {},
   "exception": null,
   "input_path": "__notebook__.ipynb",
   "output_path": "__notebook__.ipynb",
   "parameters": {},
   "start_time": "2021-09-02T16:40:46.588633",
   "version": "2.3.3"
  }
 },
 "nbformat": 4,
 "nbformat_minor": 5
}
