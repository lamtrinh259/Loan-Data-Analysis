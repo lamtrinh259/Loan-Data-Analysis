{
 "cells": [
  {
   "cell_type": "markdown",
   "id": "d90ddf19",
   "metadata": {
    "papermill": {
     "duration": 0.033279,
     "end_time": "2021-09-03T12:24:55.751228",
     "exception": false,
     "start_time": "2021-09-03T12:24:55.717949",
     "status": "completed"
    },
    "tags": []
   },
   "source": [
    "<a href=\"datacamp.com/workspacecompetition\" target=\"_blank\">![banner](banner.png)</a>\n",
    "\n",
    "# Loan Data\n",
    "\n",
    "Ready to put your coding skills to the test? Join us for our Workspace Competition.  \n",
    "For more information, visit [datacamp.com/workspacecompetition](https://datacamp.com/workspacecompetition) "
   ]
  },
  {
   "cell_type": "markdown",
   "id": "2f2b18c9",
   "metadata": {
    "papermill": {
     "duration": 0.031842,
     "end_time": "2021-09-03T12:24:55.815540",
     "exception": false,
     "start_time": "2021-09-03T12:24:55.783698",
     "status": "completed"
    },
    "tags": []
   },
   "source": [
    "## Context\n",
    "This dataset ([source](https://www.kaggle.com/itssuru/loan-data)) consists of data from almost 10,000 borrowers that took loans - with some paid back and others still in progress. It was extracted from lendingclub.com which is an organization that connects borrowers with investors. We've included a few suggested questions at the end of this template to help you get started."
   ]
  },
  {
   "cell_type": "code",
   "execution_count": 1,
   "id": "eccd6999",
   "metadata": {
    "execution": {
     "iopub.execute_input": "2021-09-03T12:24:55.885056Z",
     "iopub.status.busy": "2021-09-03T12:24:55.883993Z",
     "iopub.status.idle": "2021-09-03T12:25:07.434441Z",
     "shell.execute_reply": "2021-09-03T12:25:07.433789Z",
     "shell.execute_reply.started": "2021-09-03T11:40:25.956505Z"
    },
    "papermill": {
     "duration": 11.585548,
     "end_time": "2021-09-03T12:25:07.434628",
     "exception": false,
     "start_time": "2021-09-03T12:24:55.849080",
     "status": "completed"
    },
    "tags": []
   },
   "outputs": [
    {
     "name": "stdout",
     "output_type": "stream",
     "text": [
      "Collecting empiricaldist\r\n",
      "  Downloading empiricaldist-0.6.2.tar.gz (9.5 kB)\r\n",
      "Building wheels for collected packages: empiricaldist\r\n",
      "  Building wheel for empiricaldist (setup.py) ... \u001b[?25l-\b \b\\\b \bdone\r\n",
      "\u001b[?25h  Created wheel for empiricaldist: filename=empiricaldist-0.6.2-py3-none-any.whl size=10733 sha256=b0708b03cbb1bc35e1b458ffc5831c9fd9ac9c49a152479da81651d39f59d7ba\r\n",
      "  Stored in directory: /root/.cache/pip/wheels/34/22/5f/9ba9db604d08670e283b2e04551dd407f44cf889fdb9617ce5\r\n",
      "Successfully built empiricaldist\r\n",
      "Installing collected packages: empiricaldist\r\n",
      "Successfully installed empiricaldist-0.6.2\r\n",
      "\u001b[33mWARNING: Running pip as root will break packages and permissions. You should install packages reliably by using venv: https://pip.pypa.io/warnings/venv\u001b[0m\r\n"
     ]
    }
   ],
   "source": [
    "# Load packages\n",
    "import numpy as np \n",
    "import pandas as pd \n",
    "\n",
    "#import visualization libraries\n",
    "import matplotlib.pyplot as plt\n",
    "import seaborn as sns\n",
    "\n",
    "#to create Pmf and Cdf\n",
    "!pip install empiricaldist \n",
    "from empiricaldist import Pmf\n",
    "from empiricaldist import Cdf\n",
    "\n",
    "#To use linear regression between variables\n",
    "from scipy.stats import linregress"
   ]
  },
  {
   "cell_type": "markdown",
   "id": "ad579a2d",
   "metadata": {
    "papermill": {
     "duration": 0.034406,
     "end_time": "2021-09-03T12:25:07.504826",
     "exception": false,
     "start_time": "2021-09-03T12:25:07.470420",
     "status": "completed"
    },
    "tags": []
   },
   "source": [
    "## Load your data"
   ]
  },
  {
   "cell_type": "code",
   "execution_count": 2,
   "id": "2eb06aab",
   "metadata": {
    "execution": {
     "iopub.execute_input": "2021-09-03T12:25:07.579863Z",
     "iopub.status.busy": "2021-09-03T12:25:07.579178Z",
     "iopub.status.idle": "2021-09-03T12:25:07.596462Z",
     "shell.execute_reply": "2021-09-03T12:25:07.595863Z",
     "shell.execute_reply.started": "2021-09-03T11:40:38.757973Z"
    },
    "papermill": {
     "duration": 0.056894,
     "end_time": "2021-09-03T12:25:07.596604",
     "exception": false,
     "start_time": "2021-09-03T12:25:07.539710",
     "status": "completed"
    },
    "tags": []
   },
   "outputs": [
    {
     "name": "stdout",
     "output_type": "stream",
     "text": [
      "/kaggle/input/loan-data-analysis-datacamp-workspace/loan_data.csv\n",
      "/kaggle/input/loan-data-analysis-datacamp-workspace/variable_explanation.csv\n"
     ]
    }
   ],
   "source": [
    "#For Kaggle usage only\n",
    "import os\n",
    "#Print out the file paths\n",
    "for dirname, _, filenames in os.walk('/kaggle/input'):\n",
    "    for filename in filenames:\n",
    "        print(os.path.join(dirname, filename))"
   ]
  },
  {
   "cell_type": "code",
   "execution_count": 3,
   "id": "8f66e20b",
   "metadata": {
    "execution": {
     "iopub.execute_input": "2021-09-03T12:25:07.670596Z",
     "iopub.status.busy": "2021-09-03T12:25:07.670025Z",
     "iopub.status.idle": "2021-09-03T12:25:07.754921Z",
     "shell.execute_reply": "2021-09-03T12:25:07.755386Z",
     "shell.execute_reply.started": "2021-09-03T11:40:38.776812Z"
    },
    "papermill": {
     "duration": 0.124859,
     "end_time": "2021-09-03T12:25:07.755556",
     "exception": false,
     "start_time": "2021-09-03T12:25:07.630697",
     "status": "completed"
    },
    "tags": []
   },
   "outputs": [
    {
     "name": "stdout",
     "output_type": "stream",
     "text": [
      "Number of rows/records: 9578\n",
      "Number of columns/variables: 14\n"
     ]
    },
    {
     "data": {
      "text/html": [
       "<div>\n",
       "<style scoped>\n",
       "    .dataframe tbody tr th:only-of-type {\n",
       "        vertical-align: middle;\n",
       "    }\n",
       "\n",
       "    .dataframe tbody tr th {\n",
       "        vertical-align: top;\n",
       "    }\n",
       "\n",
       "    .dataframe thead th {\n",
       "        text-align: right;\n",
       "    }\n",
       "</style>\n",
       "<table border=\"1\" class=\"dataframe\">\n",
       "  <thead>\n",
       "    <tr style=\"text-align: right;\">\n",
       "      <th></th>\n",
       "      <th>credit_policy</th>\n",
       "      <th>purpose</th>\n",
       "      <th>int_rate</th>\n",
       "      <th>installment</th>\n",
       "      <th>log_annual_inc</th>\n",
       "      <th>dti</th>\n",
       "      <th>fico</th>\n",
       "      <th>days_with_cr_line</th>\n",
       "      <th>revol_bal</th>\n",
       "      <th>revol_util</th>\n",
       "      <th>inq_last_6mths</th>\n",
       "      <th>delinq_2yrs</th>\n",
       "      <th>pub_rec</th>\n",
       "      <th>not_fully_paid</th>\n",
       "    </tr>\n",
       "  </thead>\n",
       "  <tbody>\n",
       "    <tr>\n",
       "      <th>0</th>\n",
       "      <td>1</td>\n",
       "      <td>debt_consolidation</td>\n",
       "      <td>0.1189</td>\n",
       "      <td>829.10</td>\n",
       "      <td>11.350407</td>\n",
       "      <td>19.48</td>\n",
       "      <td>737</td>\n",
       "      <td>5639.958333</td>\n",
       "      <td>28854</td>\n",
       "      <td>52.1</td>\n",
       "      <td>0</td>\n",
       "      <td>0</td>\n",
       "      <td>0</td>\n",
       "      <td>0</td>\n",
       "    </tr>\n",
       "    <tr>\n",
       "      <th>1</th>\n",
       "      <td>1</td>\n",
       "      <td>credit_card</td>\n",
       "      <td>0.1071</td>\n",
       "      <td>228.22</td>\n",
       "      <td>11.082143</td>\n",
       "      <td>14.29</td>\n",
       "      <td>707</td>\n",
       "      <td>2760.000000</td>\n",
       "      <td>33623</td>\n",
       "      <td>76.7</td>\n",
       "      <td>0</td>\n",
       "      <td>0</td>\n",
       "      <td>0</td>\n",
       "      <td>0</td>\n",
       "    </tr>\n",
       "    <tr>\n",
       "      <th>2</th>\n",
       "      <td>1</td>\n",
       "      <td>debt_consolidation</td>\n",
       "      <td>0.1357</td>\n",
       "      <td>366.86</td>\n",
       "      <td>10.373491</td>\n",
       "      <td>11.63</td>\n",
       "      <td>682</td>\n",
       "      <td>4710.000000</td>\n",
       "      <td>3511</td>\n",
       "      <td>25.6</td>\n",
       "      <td>1</td>\n",
       "      <td>0</td>\n",
       "      <td>0</td>\n",
       "      <td>0</td>\n",
       "    </tr>\n",
       "    <tr>\n",
       "      <th>3</th>\n",
       "      <td>1</td>\n",
       "      <td>debt_consolidation</td>\n",
       "      <td>0.1008</td>\n",
       "      <td>162.34</td>\n",
       "      <td>11.350407</td>\n",
       "      <td>8.10</td>\n",
       "      <td>712</td>\n",
       "      <td>2699.958333</td>\n",
       "      <td>33667</td>\n",
       "      <td>73.2</td>\n",
       "      <td>1</td>\n",
       "      <td>0</td>\n",
       "      <td>0</td>\n",
       "      <td>0</td>\n",
       "    </tr>\n",
       "    <tr>\n",
       "      <th>4</th>\n",
       "      <td>1</td>\n",
       "      <td>credit_card</td>\n",
       "      <td>0.1426</td>\n",
       "      <td>102.92</td>\n",
       "      <td>11.299732</td>\n",
       "      <td>14.97</td>\n",
       "      <td>667</td>\n",
       "      <td>4066.000000</td>\n",
       "      <td>4740</td>\n",
       "      <td>39.5</td>\n",
       "      <td>0</td>\n",
       "      <td>1</td>\n",
       "      <td>0</td>\n",
       "      <td>0</td>\n",
       "    </tr>\n",
       "  </tbody>\n",
       "</table>\n",
       "</div>"
      ],
      "text/plain": [
       "   credit_policy             purpose  int_rate  installment  log_annual_inc  \\\n",
       "0              1  debt_consolidation    0.1189       829.10       11.350407   \n",
       "1              1         credit_card    0.1071       228.22       11.082143   \n",
       "2              1  debt_consolidation    0.1357       366.86       10.373491   \n",
       "3              1  debt_consolidation    0.1008       162.34       11.350407   \n",
       "4              1         credit_card    0.1426       102.92       11.299732   \n",
       "\n",
       "     dti  fico  days_with_cr_line  revol_bal  revol_util  inq_last_6mths  \\\n",
       "0  19.48   737        5639.958333      28854        52.1               0   \n",
       "1  14.29   707        2760.000000      33623        76.7               0   \n",
       "2  11.63   682        4710.000000       3511        25.6               1   \n",
       "3   8.10   712        2699.958333      33667        73.2               1   \n",
       "4  14.97   667        4066.000000       4740        39.5               0   \n",
       "\n",
       "   delinq_2yrs  pub_rec  not_fully_paid  \n",
       "0            0        0               0  \n",
       "1            0        0               0  \n",
       "2            0        0               0  \n",
       "3            0        0               0  \n",
       "4            1        0               0  "
      ]
     },
     "execution_count": 3,
     "metadata": {},
     "output_type": "execute_result"
    }
   ],
   "source": [
    "#Loading file from Kaggle\n",
    "df = pd.read_csv('/kaggle/input/loan-data-analysis-datacamp-workspace/loan_data.csv', index_col=None)\n",
    "\n",
    "# Load data from the csv file\n",
    "# df = pd.read_csv('loan_data.csv', index_col=None)\n",
    "\n",
    "# Change the dots in the column names to underscores\n",
    "df.columns = [c.replace(\".\", \"_\") for c in df.columns]\n",
    "print(f\"Number of rows/records: {df.shape[0]}\")\n",
    "print(f\"Number of columns/variables: {df.shape[1]}\")\n",
    "df.head()"
   ]
  },
  {
   "cell_type": "markdown",
   "id": "6135e5e0",
   "metadata": {
    "papermill": {
     "duration": 0.034685,
     "end_time": "2021-09-03T12:25:07.825444",
     "exception": false,
     "start_time": "2021-09-03T12:25:07.790759",
     "status": "completed"
    },
    "tags": []
   },
   "source": [
    "## Understand your variables"
   ]
  },
  {
   "cell_type": "code",
   "execution_count": 4,
   "id": "08310846",
   "metadata": {
    "execution": {
     "iopub.execute_input": "2021-09-03T12:25:07.906726Z",
     "iopub.status.busy": "2021-09-03T12:25:07.904860Z",
     "iopub.status.idle": "2021-09-03T12:25:08.001686Z",
     "shell.execute_reply": "2021-09-03T12:25:08.001070Z",
     "shell.execute_reply.started": "2021-09-03T11:40:38.862466Z"
    },
    "papermill": {
     "duration": 0.141861,
     "end_time": "2021-09-03T12:25:08.001830",
     "exception": false,
     "start_time": "2021-09-03T12:25:07.859969",
     "status": "completed"
    },
    "tags": []
   },
   "outputs": [
    {
     "data": {
      "text/html": [
       "<div>\n",
       "<style scoped>\n",
       "    .dataframe tbody tr th:only-of-type {\n",
       "        vertical-align: middle;\n",
       "    }\n",
       "\n",
       "    .dataframe tbody tr th {\n",
       "        vertical-align: top;\n",
       "    }\n",
       "\n",
       "    .dataframe thead th {\n",
       "        text-align: right;\n",
       "    }\n",
       "</style>\n",
       "<table border=\"1\" class=\"dataframe\">\n",
       "  <thead>\n",
       "    <tr style=\"text-align: right;\">\n",
       "      <th></th>\n",
       "      <th>Number of unique values</th>\n",
       "      <th>Values</th>\n",
       "      <th>Explanation</th>\n",
       "    </tr>\n",
       "    <tr>\n",
       "      <th>Variable</th>\n",
       "      <th></th>\n",
       "      <th></th>\n",
       "      <th></th>\n",
       "    </tr>\n",
       "  </thead>\n",
       "  <tbody>\n",
       "    <tr>\n",
       "      <th>credit_policy</th>\n",
       "      <td>2</td>\n",
       "      <td>[1, 0]</td>\n",
       "      <td>1 if the customer meets the credit underwritin...</td>\n",
       "    </tr>\n",
       "    <tr>\n",
       "      <th>purpose</th>\n",
       "      <td>7</td>\n",
       "      <td>[debt_consolidation, credit_card, all_other, h...</td>\n",
       "      <td>The purpose of the loan.</td>\n",
       "    </tr>\n",
       "    <tr>\n",
       "      <th>int_rate</th>\n",
       "      <td>249</td>\n",
       "      <td>[0.1189, 0.1071, 0.1357, 0.1008, 0.1426, 0.078...</td>\n",
       "      <td>The interest rate of the loan (more risky borr...</td>\n",
       "    </tr>\n",
       "    <tr>\n",
       "      <th>installment</th>\n",
       "      <td>4788</td>\n",
       "      <td>[829.1, 228.22, 366.86, 162.34, 102.92, 125.13...</td>\n",
       "      <td>The monthly installments owed by the borrower ...</td>\n",
       "    </tr>\n",
       "    <tr>\n",
       "      <th>log_annual_inc</th>\n",
       "      <td>1987</td>\n",
       "      <td>[11.35040654, 11.08214255, 10.37349118, 11.299...</td>\n",
       "      <td>The natural log of the self-reported annual in...</td>\n",
       "    </tr>\n",
       "    <tr>\n",
       "      <th>dti</th>\n",
       "      <td>2529</td>\n",
       "      <td>[19.48, 14.29, 11.63, 8.1, 14.97, 16.98, 4.0, ...</td>\n",
       "      <td>The debt-to-income ratio of the borrower (amou...</td>\n",
       "    </tr>\n",
       "    <tr>\n",
       "      <th>fico</th>\n",
       "      <td>44</td>\n",
       "      <td>[737, 707, 682, 712, 667, 727, 722, 677, 662, ...</td>\n",
       "      <td>The FICO credit score of the borrower.</td>\n",
       "    </tr>\n",
       "    <tr>\n",
       "      <th>days_with_cr_line</th>\n",
       "      <td>2687</td>\n",
       "      <td>[5639.958333, 2760.0, 4710.0, 2699.958333, 406...</td>\n",
       "      <td>The number of days the borrower has had a cred...</td>\n",
       "    </tr>\n",
       "    <tr>\n",
       "      <th>revol_bal</th>\n",
       "      <td>7869</td>\n",
       "      <td>[28854, 33623, 3511, 33667, 4740, 50807, 3839,...</td>\n",
       "      <td>The borrower's revolving balance (amount unpai...</td>\n",
       "    </tr>\n",
       "    <tr>\n",
       "      <th>revol_util</th>\n",
       "      <td>1035</td>\n",
       "      <td>[52.1, 76.7, 25.6, 73.2, 39.5, 51.0, 76.8, 68....</td>\n",
       "      <td>The borrower's revolving line utilization rate...</td>\n",
       "    </tr>\n",
       "    <tr>\n",
       "      <th>inq_last_6mths</th>\n",
       "      <td>28</td>\n",
       "      <td>[0, 1, 2, 3, 4, 5, 6, 8, 7, 33, 9, 18, 14, 15,...</td>\n",
       "      <td>The borrower's number of inquiries by creditor...</td>\n",
       "    </tr>\n",
       "    <tr>\n",
       "      <th>delinq_2yrs</th>\n",
       "      <td>11</td>\n",
       "      <td>[0, 1, 2, 4, 3, 5, 6, 13, 7, 8, 11]</td>\n",
       "      <td>The number of times the borrower had been 30+ ...</td>\n",
       "    </tr>\n",
       "    <tr>\n",
       "      <th>pub_rec</th>\n",
       "      <td>6</td>\n",
       "      <td>[0, 1, 2, 3, 4, 5]</td>\n",
       "      <td>The borrower's number of derogatory public rec...</td>\n",
       "    </tr>\n",
       "    <tr>\n",
       "      <th>not_fully_paid</th>\n",
       "      <td>2</td>\n",
       "      <td>[0, 1]</td>\n",
       "      <td>1 if the loan is not fully paid; 0 otherwise.</td>\n",
       "    </tr>\n",
       "  </tbody>\n",
       "</table>\n",
       "</div>"
      ],
      "text/plain": [
       "                  Number of unique values  \\\n",
       "Variable                                    \n",
       "credit_policy                           2   \n",
       "purpose                                 7   \n",
       "int_rate                              249   \n",
       "installment                          4788   \n",
       "log_annual_inc                       1987   \n",
       "dti                                  2529   \n",
       "fico                                   44   \n",
       "days_with_cr_line                    2687   \n",
       "revol_bal                            7869   \n",
       "revol_util                           1035   \n",
       "inq_last_6mths                         28   \n",
       "delinq_2yrs                            11   \n",
       "pub_rec                                 6   \n",
       "not_fully_paid                          2   \n",
       "\n",
       "                                                              Values  \\\n",
       "Variable                                                               \n",
       "credit_policy                                                 [1, 0]   \n",
       "purpose            [debt_consolidation, credit_card, all_other, h...   \n",
       "int_rate           [0.1189, 0.1071, 0.1357, 0.1008, 0.1426, 0.078...   \n",
       "installment        [829.1, 228.22, 366.86, 162.34, 102.92, 125.13...   \n",
       "log_annual_inc     [11.35040654, 11.08214255, 10.37349118, 11.299...   \n",
       "dti                [19.48, 14.29, 11.63, 8.1, 14.97, 16.98, 4.0, ...   \n",
       "fico               [737, 707, 682, 712, 667, 727, 722, 677, 662, ...   \n",
       "days_with_cr_line  [5639.958333, 2760.0, 4710.0, 2699.958333, 406...   \n",
       "revol_bal          [28854, 33623, 3511, 33667, 4740, 50807, 3839,...   \n",
       "revol_util         [52.1, 76.7, 25.6, 73.2, 39.5, 51.0, 76.8, 68....   \n",
       "inq_last_6mths     [0, 1, 2, 3, 4, 5, 6, 8, 7, 33, 9, 18, 14, 15,...   \n",
       "delinq_2yrs                      [0, 1, 2, 4, 3, 5, 6, 13, 7, 8, 11]   \n",
       "pub_rec                                           [0, 1, 2, 3, 4, 5]   \n",
       "not_fully_paid                                                [0, 1]   \n",
       "\n",
       "                                                         Explanation  \n",
       "Variable                                                              \n",
       "credit_policy      1 if the customer meets the credit underwritin...  \n",
       "purpose                                     The purpose of the loan.  \n",
       "int_rate           The interest rate of the loan (more risky borr...  \n",
       "installment        The monthly installments owed by the borrower ...  \n",
       "log_annual_inc     The natural log of the self-reported annual in...  \n",
       "dti                The debt-to-income ratio of the borrower (amou...  \n",
       "fico                          The FICO credit score of the borrower.  \n",
       "days_with_cr_line  The number of days the borrower has had a cred...  \n",
       "revol_bal          The borrower's revolving balance (amount unpai...  \n",
       "revol_util         The borrower's revolving line utilization rate...  \n",
       "inq_last_6mths     The borrower's number of inquiries by creditor...  \n",
       "delinq_2yrs        The number of times the borrower had been 30+ ...  \n",
       "pub_rec            The borrower's number of derogatory public rec...  \n",
       "not_fully_paid         1 if the loan is not fully paid; 0 otherwise.  "
      ]
     },
     "execution_count": 4,
     "metadata": {},
     "output_type": "execute_result"
    }
   ],
   "source": [
    "# Understand your variables\n",
    "variables = pd.DataFrame(columns=['Variable','Number of unique values','Values'])\n",
    "\n",
    "for i, var in enumerate(df.columns):\n",
    "    variables.loc[i] = [var, df[var].nunique(), df[var].unique().tolist()]\n",
    "    \n",
    "#Loading file from Kaggle\n",
    "var_dict = pd.read_csv('/kaggle/input/loan-data-analysis-datacamp-workspace/variable_explanation.csv', index_col=0) \n",
    "\n",
    "# Join with the variables dataframe\n",
    "# var_dict = pd.read_csv('variable_explanation.csv', index_col=0)\n",
    "variables.set_index('Variable').join(var_dict)"
   ]
  },
  {
   "cell_type": "markdown",
   "id": "0e300a03",
   "metadata": {
    "papermill": {
     "duration": 0.035221,
     "end_time": "2021-09-03T12:25:08.072786",
     "exception": false,
     "start_time": "2021-09-03T12:25:08.037565",
     "status": "completed"
    },
    "tags": []
   },
   "source": [
    "Now you can start to explore this dataset with the chance to win incredible prices! Can't think of where to start? Try your hand at these suggestions:\n",
    "\n",
    "- Extract useful insights and visualize them in the most interesting way possible.\n",
    "- Find out how long it takes for users to pay back their loan.\n",
    "- Build a model that can predict the probability a user will be able to pay back their loan within a certain period.\n",
    "- Find out what kind of people take a loan for what purposes."
   ]
  },
  {
   "cell_type": "code",
   "execution_count": 5,
   "id": "a79b4110",
   "metadata": {
    "execution": {
     "iopub.execute_input": "2021-09-03T12:25:08.150126Z",
     "iopub.status.busy": "2021-09-03T12:25:08.149554Z",
     "iopub.status.idle": "2021-09-03T12:25:08.160438Z",
     "shell.execute_reply": "2021-09-03T12:25:08.159950Z",
     "shell.execute_reply.started": "2021-09-03T11:40:38.979585Z"
    },
    "papermill": {
     "duration": 0.05206,
     "end_time": "2021-09-03T12:25:08.160581",
     "exception": false,
     "start_time": "2021-09-03T12:25:08.108521",
     "status": "completed"
    },
    "tags": []
   },
   "outputs": [
    {
     "name": "stdout",
     "output_type": "stream",
     "text": [
      "credit_policy : ['1 if the customer meets the credit underwriting criteria; 0 otherwise.']\n",
      "purpose : ['The purpose of the loan.']\n",
      "int_rate : ['The interest rate of the loan (more risky borrowers are assigned higher interest rates).']\n",
      "installment : ['The monthly installments owed by the borrower if the loan is funded.']\n",
      "log_annual_inc : ['The natural log of the self-reported annual income of the borrower.']\n",
      "dti : ['The debt-to-income ratio of the borrower (amount of debt divided by annual income).']\n",
      "fico : ['The FICO credit score of the borrower.']\n",
      "days_with_cr_line : ['The number of days the borrower has had a credit line.']\n",
      "revol_bal : [\"The borrower's revolving balance (amount unpaid at the end of the credit card billing cycle).\"]\n",
      "revol_util : [\"The borrower's revolving line utilization rate (the amount of the credit line used relative to total credit available).\"]\n",
      "inq_last_6mths : [\"The borrower's number of inquiries by creditors in the last 6 months.\"]\n",
      "delinq_2yrs : ['The number of times the borrower had been 30+ days past due on a payment in the past 2 years.']\n",
      "pub_rec : [\"The borrower's number of derogatory public records.\"]\n",
      "not_fully_paid : ['1 if the loan is not fully paid; 0 otherwise.']\n"
     ]
    }
   ],
   "source": [
    "#See the full descriptions of each of the variable\n",
    "#Iterator for var_dict's values to be used in printing\n",
    "var_description = (item for item in var_dict.values)\n",
    "for i in range(len(variables['Variable'])):\n",
    "    print(variables['Variable'][i],':', next(var_description))"
   ]
  },
  {
   "cell_type": "markdown",
   "id": "d5abe40d",
   "metadata": {
    "papermill": {
     "duration": 0.035803,
     "end_time": "2021-09-03T12:25:08.232749",
     "exception": false,
     "start_time": "2021-09-03T12:25:08.196946",
     "status": "completed"
    },
    "tags": []
   },
   "source": [
    "### Judging Criteria\n",
    "| CATEGORY | WEIGHTAGE | DETAILS                                                              |\n",
    "|:---------|:----------|:---------------------------------------------------------------------|\n",
    "| **Analysis** | 30%       | <ul><li>Documentation on the goal and what was included in the analysis</li><li>How the question was approached</li><li>Visualisation tools and techniques utilized</li></ul>       |\n",
    "| **Results**  | 30%       | <ul><li>How the results derived related to the problem chosen</li><li>The ability to trigger potential further analysis</li></ul> |\n",
    "| **Creativity** | 40% | <ul><li>How \"out of the box\" the analysis conducted is</li><li>Whether the publication is properly motivated and adds value</li></ul> |"
   ]
  },
  {
   "cell_type": "markdown",
   "id": "ed652471",
   "metadata": {
    "papermill": {
     "duration": 0.035515,
     "end_time": "2021-09-03T12:25:08.304042",
     "exception": false,
     "start_time": "2021-09-03T12:25:08.268527",
     "status": "completed"
    },
    "tags": []
   },
   "source": [
    "# **Exploratory Data Analysis**"
   ]
  },
  {
   "cell_type": "markdown",
   "id": "8af144db",
   "metadata": {
    "papermill": {
     "duration": 0.035854,
     "end_time": "2021-09-03T12:25:08.375407",
     "exception": false,
     "start_time": "2021-09-03T12:25:08.339553",
     "status": "completed"
    },
    "tags": []
   },
   "source": [
    "We'll begin with some basic descriptive statistics below to understand more about each variable"
   ]
  },
  {
   "cell_type": "code",
   "execution_count": 6,
   "id": "a445b2c9",
   "metadata": {
    "execution": {
     "iopub.execute_input": "2021-09-03T12:25:08.450890Z",
     "iopub.status.busy": "2021-09-03T12:25:08.450287Z",
     "iopub.status.idle": "2021-09-03T12:25:08.499300Z",
     "shell.execute_reply": "2021-09-03T12:25:08.498848Z",
     "shell.execute_reply.started": "2021-09-03T11:40:38.994389Z"
    },
    "papermill": {
     "duration": 0.088465,
     "end_time": "2021-09-03T12:25:08.499473",
     "exception": false,
     "start_time": "2021-09-03T12:25:08.411008",
     "status": "completed"
    },
    "tags": []
   },
   "outputs": [
    {
     "data": {
      "text/html": [
       "<div>\n",
       "<style scoped>\n",
       "    .dataframe tbody tr th:only-of-type {\n",
       "        vertical-align: middle;\n",
       "    }\n",
       "\n",
       "    .dataframe tbody tr th {\n",
       "        vertical-align: top;\n",
       "    }\n",
       "\n",
       "    .dataframe thead th {\n",
       "        text-align: right;\n",
       "    }\n",
       "</style>\n",
       "<table border=\"1\" class=\"dataframe\">\n",
       "  <thead>\n",
       "    <tr style=\"text-align: right;\">\n",
       "      <th></th>\n",
       "      <th>credit_policy</th>\n",
       "      <th>int_rate</th>\n",
       "      <th>installment</th>\n",
       "      <th>log_annual_inc</th>\n",
       "      <th>dti</th>\n",
       "      <th>fico</th>\n",
       "      <th>days_with_cr_line</th>\n",
       "      <th>revol_bal</th>\n",
       "      <th>revol_util</th>\n",
       "      <th>inq_last_6mths</th>\n",
       "      <th>delinq_2yrs</th>\n",
       "      <th>pub_rec</th>\n",
       "      <th>not_fully_paid</th>\n",
       "    </tr>\n",
       "  </thead>\n",
       "  <tbody>\n",
       "    <tr>\n",
       "      <th>count</th>\n",
       "      <td>9578.000000</td>\n",
       "      <td>9578.000000</td>\n",
       "      <td>9578.000000</td>\n",
       "      <td>9578.000000</td>\n",
       "      <td>9578.000000</td>\n",
       "      <td>9578.000000</td>\n",
       "      <td>9578.000000</td>\n",
       "      <td>9.578000e+03</td>\n",
       "      <td>9578.000000</td>\n",
       "      <td>9578.000000</td>\n",
       "      <td>9578.000000</td>\n",
       "      <td>9578.000000</td>\n",
       "      <td>9578.000000</td>\n",
       "    </tr>\n",
       "    <tr>\n",
       "      <th>mean</th>\n",
       "      <td>0.804970</td>\n",
       "      <td>0.122640</td>\n",
       "      <td>319.089413</td>\n",
       "      <td>10.932117</td>\n",
       "      <td>12.606679</td>\n",
       "      <td>710.846314</td>\n",
       "      <td>4560.767197</td>\n",
       "      <td>1.691396e+04</td>\n",
       "      <td>46.799236</td>\n",
       "      <td>1.577469</td>\n",
       "      <td>0.163708</td>\n",
       "      <td>0.062122</td>\n",
       "      <td>0.160054</td>\n",
       "    </tr>\n",
       "    <tr>\n",
       "      <th>std</th>\n",
       "      <td>0.396245</td>\n",
       "      <td>0.026847</td>\n",
       "      <td>207.071301</td>\n",
       "      <td>0.614813</td>\n",
       "      <td>6.883970</td>\n",
       "      <td>37.970537</td>\n",
       "      <td>2496.930377</td>\n",
       "      <td>3.375619e+04</td>\n",
       "      <td>29.014417</td>\n",
       "      <td>2.200245</td>\n",
       "      <td>0.546215</td>\n",
       "      <td>0.262126</td>\n",
       "      <td>0.366676</td>\n",
       "    </tr>\n",
       "    <tr>\n",
       "      <th>min</th>\n",
       "      <td>0.000000</td>\n",
       "      <td>0.060000</td>\n",
       "      <td>15.670000</td>\n",
       "      <td>7.547502</td>\n",
       "      <td>0.000000</td>\n",
       "      <td>612.000000</td>\n",
       "      <td>178.958333</td>\n",
       "      <td>0.000000e+00</td>\n",
       "      <td>0.000000</td>\n",
       "      <td>0.000000</td>\n",
       "      <td>0.000000</td>\n",
       "      <td>0.000000</td>\n",
       "      <td>0.000000</td>\n",
       "    </tr>\n",
       "    <tr>\n",
       "      <th>25%</th>\n",
       "      <td>1.000000</td>\n",
       "      <td>0.103900</td>\n",
       "      <td>163.770000</td>\n",
       "      <td>10.558414</td>\n",
       "      <td>7.212500</td>\n",
       "      <td>682.000000</td>\n",
       "      <td>2820.000000</td>\n",
       "      <td>3.187000e+03</td>\n",
       "      <td>22.600000</td>\n",
       "      <td>0.000000</td>\n",
       "      <td>0.000000</td>\n",
       "      <td>0.000000</td>\n",
       "      <td>0.000000</td>\n",
       "    </tr>\n",
       "    <tr>\n",
       "      <th>50%</th>\n",
       "      <td>1.000000</td>\n",
       "      <td>0.122100</td>\n",
       "      <td>268.950000</td>\n",
       "      <td>10.928884</td>\n",
       "      <td>12.665000</td>\n",
       "      <td>707.000000</td>\n",
       "      <td>4139.958333</td>\n",
       "      <td>8.596000e+03</td>\n",
       "      <td>46.300000</td>\n",
       "      <td>1.000000</td>\n",
       "      <td>0.000000</td>\n",
       "      <td>0.000000</td>\n",
       "      <td>0.000000</td>\n",
       "    </tr>\n",
       "    <tr>\n",
       "      <th>75%</th>\n",
       "      <td>1.000000</td>\n",
       "      <td>0.140700</td>\n",
       "      <td>432.762500</td>\n",
       "      <td>11.291293</td>\n",
       "      <td>17.950000</td>\n",
       "      <td>737.000000</td>\n",
       "      <td>5730.000000</td>\n",
       "      <td>1.824950e+04</td>\n",
       "      <td>70.900000</td>\n",
       "      <td>2.000000</td>\n",
       "      <td>0.000000</td>\n",
       "      <td>0.000000</td>\n",
       "      <td>0.000000</td>\n",
       "    </tr>\n",
       "    <tr>\n",
       "      <th>max</th>\n",
       "      <td>1.000000</td>\n",
       "      <td>0.216400</td>\n",
       "      <td>940.140000</td>\n",
       "      <td>14.528354</td>\n",
       "      <td>29.960000</td>\n",
       "      <td>827.000000</td>\n",
       "      <td>17639.958330</td>\n",
       "      <td>1.207359e+06</td>\n",
       "      <td>119.000000</td>\n",
       "      <td>33.000000</td>\n",
       "      <td>13.000000</td>\n",
       "      <td>5.000000</td>\n",
       "      <td>1.000000</td>\n",
       "    </tr>\n",
       "  </tbody>\n",
       "</table>\n",
       "</div>"
      ],
      "text/plain": [
       "       credit_policy     int_rate  installment  log_annual_inc          dti  \\\n",
       "count    9578.000000  9578.000000  9578.000000     9578.000000  9578.000000   \n",
       "mean        0.804970     0.122640   319.089413       10.932117    12.606679   \n",
       "std         0.396245     0.026847   207.071301        0.614813     6.883970   \n",
       "min         0.000000     0.060000    15.670000        7.547502     0.000000   \n",
       "25%         1.000000     0.103900   163.770000       10.558414     7.212500   \n",
       "50%         1.000000     0.122100   268.950000       10.928884    12.665000   \n",
       "75%         1.000000     0.140700   432.762500       11.291293    17.950000   \n",
       "max         1.000000     0.216400   940.140000       14.528354    29.960000   \n",
       "\n",
       "              fico  days_with_cr_line     revol_bal   revol_util  \\\n",
       "count  9578.000000        9578.000000  9.578000e+03  9578.000000   \n",
       "mean    710.846314        4560.767197  1.691396e+04    46.799236   \n",
       "std      37.970537        2496.930377  3.375619e+04    29.014417   \n",
       "min     612.000000         178.958333  0.000000e+00     0.000000   \n",
       "25%     682.000000        2820.000000  3.187000e+03    22.600000   \n",
       "50%     707.000000        4139.958333  8.596000e+03    46.300000   \n",
       "75%     737.000000        5730.000000  1.824950e+04    70.900000   \n",
       "max     827.000000       17639.958330  1.207359e+06   119.000000   \n",
       "\n",
       "       inq_last_6mths  delinq_2yrs      pub_rec  not_fully_paid  \n",
       "count     9578.000000  9578.000000  9578.000000     9578.000000  \n",
       "mean         1.577469     0.163708     0.062122        0.160054  \n",
       "std          2.200245     0.546215     0.262126        0.366676  \n",
       "min          0.000000     0.000000     0.000000        0.000000  \n",
       "25%          0.000000     0.000000     0.000000        0.000000  \n",
       "50%          1.000000     0.000000     0.000000        0.000000  \n",
       "75%          2.000000     0.000000     0.000000        0.000000  \n",
       "max         33.000000    13.000000     5.000000        1.000000  "
      ]
     },
     "execution_count": 6,
     "metadata": {},
     "output_type": "execute_result"
    }
   ],
   "source": [
    "#See the important stats of each variable in the dataset\n",
    "df.describe()"
   ]
  },
  {
   "cell_type": "code",
   "execution_count": 7,
   "id": "5e7bfac9",
   "metadata": {
    "execution": {
     "iopub.execute_input": "2021-09-03T12:25:08.579059Z",
     "iopub.status.busy": "2021-09-03T12:25:08.578300Z",
     "iopub.status.idle": "2021-09-03T12:25:08.591218Z",
     "shell.execute_reply": "2021-09-03T12:25:08.590629Z",
     "shell.execute_reply.started": "2021-09-03T11:40:39.064043Z"
    },
    "papermill": {
     "duration": 0.055297,
     "end_time": "2021-09-03T12:25:08.591360",
     "exception": false,
     "start_time": "2021-09-03T12:25:08.536063",
     "status": "completed"
    },
    "tags": []
   },
   "outputs": [
    {
     "name": "stdout",
     "output_type": "stream",
     "text": [
      "<class 'pandas.core.frame.DataFrame'>\n",
      "RangeIndex: 9578 entries, 0 to 9577\n",
      "Data columns (total 14 columns):\n",
      " #   Column             Non-Null Count  Dtype  \n",
      "---  ------             --------------  -----  \n",
      " 0   credit_policy      9578 non-null   int64  \n",
      " 1   purpose            9578 non-null   object \n",
      " 2   int_rate           9578 non-null   float64\n",
      " 3   installment        9578 non-null   float64\n",
      " 4   log_annual_inc     9578 non-null   float64\n",
      " 5   dti                9578 non-null   float64\n",
      " 6   fico               9578 non-null   int64  \n",
      " 7   days_with_cr_line  9578 non-null   float64\n",
      " 8   revol_bal          9578 non-null   int64  \n",
      " 9   revol_util         9578 non-null   float64\n",
      " 10  inq_last_6mths     9578 non-null   int64  \n",
      " 11  delinq_2yrs        9578 non-null   int64  \n",
      " 12  pub_rec            9578 non-null   int64  \n",
      " 13  not_fully_paid     9578 non-null   int64  \n",
      "dtypes: float64(6), int64(7), object(1)\n",
      "memory usage: 1.0+ MB\n"
     ]
    }
   ],
   "source": [
    "#Check the variable types and whether there're any missing values\n",
    "df.info()"
   ]
  },
  {
   "cell_type": "markdown",
   "id": "6d762a0c",
   "metadata": {
    "papermill": {
     "duration": 0.038161,
     "end_time": "2021-09-03T12:25:08.666713",
     "exception": false,
     "start_time": "2021-09-03T12:25:08.628552",
     "status": "completed"
    },
    "tags": []
   },
   "source": [
    "As we can see, there's no missing data in the dataset above, which will make the job of filling missing\n",
    "values easier. "
   ]
  },
  {
   "cell_type": "code",
   "execution_count": 8,
   "id": "bdfc4c36",
   "metadata": {
    "execution": {
     "iopub.execute_input": "2021-09-03T12:25:08.762327Z",
     "iopub.status.busy": "2021-09-03T12:25:08.761689Z",
     "iopub.status.idle": "2021-09-03T12:25:08.912838Z",
     "shell.execute_reply": "2021-09-03T12:25:08.912316Z",
     "shell.execute_reply.started": "2021-09-03T11:40:39.085797Z"
    },
    "papermill": {
     "duration": 0.209704,
     "end_time": "2021-09-03T12:25:08.912990",
     "exception": false,
     "start_time": "2021-09-03T12:25:08.703286",
     "status": "completed"
    },
    "tags": []
   },
   "outputs": [
    {
     "data": {
      "image/png": "[encoded data removed]",
      "text/plain": [
       "<Figure size 432x288 with 1 Axes>"
      ]
     },
     "metadata": {},
     "output_type": "display_data"
    }
   ],
   "source": [
    "sns.set()  #Set to the default style of seaborn\n",
    "#See the distribution of people who qualify for credit underwriting criteria\n",
    "fig , ax = plt.subplots()\n",
    "plt.hist(x = df['credit_policy'], bins = 2)\n",
    "plt.title(\"Distribution of credit underwriting criteria\")\n",
    "plt.ylabel('Number of people')\n",
    "ax.set_xticks((0.25, 0.75))\n",
    "ax.set_xticklabels(['Do not meet criteria','Meet criteria'])\n",
    "plt.show()"
   ]
  },
  {
   "cell_type": "markdown",
   "id": "048fc898",
   "metadata": {
    "papermill": {
     "duration": 0.037345,
     "end_time": "2021-09-03T12:25:08.988625",
     "exception": false,
     "start_time": "2021-09-03T12:25:08.951280",
     "status": "completed"
    },
    "tags": []
   },
   "source": [
    "We can see that **there're almost 4 times the number of people** who meet underwriting criteria compared to those who don't."
   ]
  },
  {
   "cell_type": "code",
   "execution_count": 9,
   "id": "e8550f40",
   "metadata": {
    "execution": {
     "iopub.execute_input": "2021-09-03T12:25:09.087914Z",
     "iopub.status.busy": "2021-09-03T12:25:09.083841Z",
     "iopub.status.idle": "2021-09-03T12:25:09.264158Z",
     "shell.execute_reply": "2021-09-03T12:25:09.263587Z",
     "shell.execute_reply.started": "2021-09-03T11:40:39.282256Z"
    },
    "papermill": {
     "duration": 0.238142,
     "end_time": "2021-09-03T12:25:09.264312",
     "exception": false,
     "start_time": "2021-09-03T12:25:09.026170",
     "status": "completed"
    },
    "tags": []
   },
   "outputs": [
    {
     "data": {
      "image/png": "[encoded data removed]",
      "text/plain": [
       "<Figure size 432x288 with 1 Axes>"
      ]
     },
     "metadata": {},
     "output_type": "display_data"
    }
   ],
   "source": [
    "fig,ax = plt.subplots()\n",
    "plt.bar(x = df['purpose'].unique(), height = df['purpose'].value_counts()) #default will sort from highest\n",
    "plt.title(\"Purpose of the loan by frequency\")\n",
    "plt.ylabel('Frequency')\n",
    "ax.set_ylim(0, 4500)\n",
    "# Add the values on top of the x axis\n",
    "values = df['purpose'].value_counts()\n",
    "for hor, ver in enumerate(values):\n",
    "    #hor is horizontal coordinate, ver is vertical coordinate\n",
    "    ax.text(hor - 0.25, ver+ver*0.05, s = str(ver), color = 'red')\n",
    "plt.xticks(x = df['purpose'].unique(), rotation=45) #Rotate X ticks by 45 degrees\n",
    "plt.yticks()\n",
    "plt.show()"
   ]
  },
  {
   "cell_type": "code",
   "execution_count": 10,
   "id": "c9c15eb9",
   "metadata": {
    "execution": {
     "iopub.execute_input": "2021-09-03T12:25:09.352027Z",
     "iopub.status.busy": "2021-09-03T12:25:09.351405Z",
     "iopub.status.idle": "2021-09-03T12:25:09.589145Z",
     "shell.execute_reply": "2021-09-03T12:25:09.588540Z",
     "shell.execute_reply.started": "2021-09-03T11:40:39.535761Z"
    },
    "papermill": {
     "duration": 0.28588,
     "end_time": "2021-09-03T12:25:09.589286",
     "exception": false,
     "start_time": "2021-09-03T12:25:09.303406",
     "status": "completed"
    },
    "tags": []
   },
   "outputs": [
    {
     "data": {
      "image/png": "[encoded data removed]",
      "text/plain": [
       "<Figure size 720x504 with 1 Axes>"
      ]
     },
     "metadata": {},
     "output_type": "display_data"
    }
   ],
   "source": [
    "#We'll visualize this with seaborn to see which category has the most number of people who have not paid back their loan\n",
    "plt.figure(figsize = (10, 7))\n",
    "sns.countplot(x = 'purpose', hue ='not_fully_paid', data=df, palette = 'Set2')\n",
    "plt.show()"
   ]
  },
  {
   "cell_type": "markdown",
   "id": "77d3ef4a",
   "metadata": {
    "papermill": {
     "duration": 0.046873,
     "end_time": "2021-09-03T12:25:09.675968",
     "exception": false,
     "start_time": "2021-09-03T12:25:09.629095",
     "status": "completed"
    },
    "tags": []
   },
   "source": [
    "Debt consolidation category has the highest number of unpaid loans, at over 500 people. "
   ]
  },
  {
   "cell_type": "markdown",
   "id": "bb156142",
   "metadata": {
    "papermill": {
     "duration": 0.048626,
     "end_time": "2021-09-03T12:25:09.783327",
     "exception": false,
     "start_time": "2021-09-03T12:25:09.734701",
     "status": "completed"
    },
    "tags": []
   },
   "source": [
    "Next we'll see the percentage of people who are most likely to not pay back based on their FICO score. We'll use the image below as guideline to divide into different categories.\n",
    "1. 300 - 560: very bad\n",
    "2. 560 - 650: bad\n",
    "3. 650 - 700: fair\n",
    "4. 700 - 750: good\n",
    "5. 750 - 850: excellent \n",
    "![](https://d187qskirji7ti.cloudfront.net/news/wp-content/uploads/2014/04/Credit-Score-Factors.jpg)"
   ]
  },
  {
   "cell_type": "code",
   "execution_count": 11,
   "id": "ad8cffc7",
   "metadata": {
    "execution": {
     "iopub.execute_input": "2021-09-03T12:25:09.870849Z",
     "iopub.status.busy": "2021-09-03T12:25:09.870222Z",
     "iopub.status.idle": "2021-09-03T12:25:10.047562Z",
     "shell.execute_reply": "2021-09-03T12:25:10.046788Z",
     "shell.execute_reply.started": "2021-09-03T11:40:39.852404Z"
    },
    "papermill": {
     "duration": 0.224106,
     "end_time": "2021-09-03T12:25:10.047758",
     "exception": false,
     "start_time": "2021-09-03T12:25:09.823652",
     "status": "completed"
    },
    "tags": []
   },
   "outputs": [
    {
     "data": {
      "image/png": "[encoded data removed]",
      "text/plain": [
       "<Figure size 432x288 with 1 Axes>"
      ]
     },
     "metadata": {},
     "output_type": "display_data"
    },
    {
     "name": "stdout",
     "output_type": "stream",
     "text": [
      "Fair         3990\n",
      "Good         3687\n",
      "Excellent    1670\n",
      "Bad           231\n",
      "Very bad        0\n",
      "Name: fico, dtype: int64\n"
     ]
    }
   ],
   "source": [
    "plt.suptitle('Distribution of people by fico score')\n",
    "pd.cut(df['fico'], bins = [300,560,650,700,750,850],\n",
    "        labels =['Very bad','Bad','Fair','Good','Excellent']).hist()\n",
    "plt.show()\n",
    "df_fico = pd.cut(df['fico'], bins = [300,560,650,700,750,850],\n",
    "        labels =['Very bad','Bad','Fair','Good','Excellent'])\n",
    "print(df_fico.value_counts())"
   ]
  },
  {
   "cell_type": "markdown",
   "id": "a9385a56",
   "metadata": {
    "papermill": {
     "duration": 0.042227,
     "end_time": "2021-09-03T12:25:10.131138",
     "exception": false,
     "start_time": "2021-09-03T12:25:10.088911",
     "status": "completed"
    },
    "tags": []
   },
   "source": [
    "We can see that there're no people with \"very bad\" credit scores. There're over 5200 people, or more than 50% of dataset with scores of good or excellent. "
   ]
  },
  {
   "cell_type": "code",
   "execution_count": 12,
   "id": "18afaf15",
   "metadata": {
    "execution": {
     "iopub.execute_input": "2021-09-03T12:25:10.220866Z",
     "iopub.status.busy": "2021-09-03T12:25:10.220244Z",
     "iopub.status.idle": "2021-09-03T12:25:10.462259Z",
     "shell.execute_reply": "2021-09-03T12:25:10.462741Z",
     "shell.execute_reply.started": "2021-09-03T11:40:40.069124Z"
    },
    "papermill": {
     "duration": 0.290954,
     "end_time": "2021-09-03T12:25:10.462920",
     "exception": false,
     "start_time": "2021-09-03T12:25:10.171966",
     "status": "completed"
    },
    "tags": []
   },
   "outputs": [
    {
     "data": {
      "image/png": "[encoded data removed]",
      "text/plain": [
       "<Figure size 720x432 with 1 Axes>"
      ]
     },
     "metadata": {},
     "output_type": "display_data"
    },
    {
     "name": "stdout",
     "output_type": "stream",
     "text": [
      "Number of people with good (700) or above credit score but do not meet credit policy is: 549\n"
     ]
    }
   ],
   "source": [
    "#Alternative way to visualize this with credit policy variable\n",
    "plt.figure(figsize = (10,6))\n",
    "plt.suptitle('Distribution of people by fico score and their credit')\n",
    "df[df['credit_policy'] == 1]['fico'].hist(bins = 15,alpha = 0.4, color = 'green',\n",
    "                                          label ='Meet credit policy')\n",
    "df[df['credit_policy'] == 0]['fico'].hist(bins = 15,alpha = 0.3, color = 'red',\n",
    "                                          label ='Do not meet credit policy')\n",
    "plt.legend()\n",
    "plt.show()\n",
    "print(\"Number of people with good (700) or above credit score but do not meet credit policy is: \" + \n",
    "      str(df[(df['credit_policy']==0) & (df['fico']>=700)]['credit_policy'].count()))"
   ]
  },
  {
   "cell_type": "markdown",
   "id": "610c24c8",
   "metadata": {
    "papermill": {
     "duration": 0.042184,
     "end_time": "2021-09-03T12:25:10.547317",
     "exception": false,
     "start_time": "2021-09-03T12:25:10.505133",
     "status": "completed"
    },
    "tags": []
   },
   "source": [
    "According to graph above, it's surprising to see that there's quite some number of people who do not meet underwriting credit criteria, but have \"good\" or even \"excellent\" scores. Next we'll look at the relationship between these variables: interest rate, credit policy, not_fully_paid, and fico score."
   ]
  },
  {
   "cell_type": "code",
   "execution_count": 13,
   "id": "ade7b25c",
   "metadata": {
    "execution": {
     "iopub.execute_input": "2021-09-03T12:25:10.640920Z",
     "iopub.status.busy": "2021-09-03T12:25:10.640188Z",
     "iopub.status.idle": "2021-09-03T12:25:12.523713Z",
     "shell.execute_reply": "2021-09-03T12:25:12.524157Z",
     "shell.execute_reply.started": "2021-09-03T11:40:40.390645Z"
    },
    "papermill": {
     "duration": 1.934137,
     "end_time": "2021-09-03T12:25:12.524363",
     "exception": false,
     "start_time": "2021-09-03T12:25:10.590226",
     "status": "completed"
    },
    "tags": []
   },
   "outputs": [
    {
     "data": {
      "image/png": "[encoded data removed]",
      "text/plain": [
       "<Figure size 804.425x360 with 2 Axes>"
      ]
     },
     "metadata": {},
     "output_type": "display_data"
    }
   ],
   "source": [
    "sns.lmplot(x = 'int_rate', y = 'fico', hue = 'credit_policy', col ='not_fully_paid', data=df, palette = 'RdBu')\n",
    "plt.show()"
   ]
  },
  {
   "cell_type": "markdown",
   "id": "b5e3145a",
   "metadata": {
    "papermill": {
     "duration": 0.047696,
     "end_time": "2021-09-03T12:25:12.619912",
     "exception": false,
     "start_time": "2021-09-03T12:25:12.572216",
     "status": "completed"
    },
    "tags": []
   },
   "source": [
    "People who meet credit policy tend to have lower interest rate and have higher fico score. In both plots, int_rate and fico score have negative linear relationship as indicated by the lines. "
   ]
  },
  {
   "cell_type": "code",
   "execution_count": 14,
   "id": "59d763c3",
   "metadata": {
    "execution": {
     "iopub.execute_input": "2021-09-03T12:25:12.722648Z",
     "iopub.status.busy": "2021-09-03T12:25:12.721626Z",
     "iopub.status.idle": "2021-09-03T12:25:13.421334Z",
     "shell.execute_reply": "2021-09-03T12:25:13.420775Z",
     "shell.execute_reply.started": "2021-09-03T11:40:42.742837Z"
    },
    "papermill": {
     "duration": 0.754254,
     "end_time": "2021-09-03T12:25:13.421482",
     "exception": false,
     "start_time": "2021-09-03T12:25:12.667228",
     "status": "completed"
    },
    "tags": []
   },
   "outputs": [
    {
     "name": "stdout",
     "output_type": "stream",
     "text": [
      "LinregressResult(slope=-20.825127728201096, intercept=714.5047151170082, rvalue=-0.1392222227576963, pvalue=4.1498864099328595e-36, stderr=1.65165685201014, intercept_stderr=0.4322476079799651)\n",
      "LinregressResult(slope=-18.564866369710458, intercept=699.5238625517022, rvalue=-0.16095043912966228, pvalue=2.3276223660800518e-10, stderr=2.9094621621382752, intercept_stderr=0.8917084500453969)\n"
     ]
    },
    {
     "data": {
      "image/png": "[encoded data removed]",
      "text/plain": [
       "<Figure size 452.3x360 with 1 Axes>"
      ]
     },
     "metadata": {},
     "output_type": "display_data"
    }
   ],
   "source": [
    "df_nfp_0 = df[df['not_fully_paid'] == 0]\n",
    "df_nfp_1 = df[df['not_fully_paid'] == 1]\n",
    "pub_rec_fico0 = linregress(df_nfp_0['pub_rec'], df_nfp_0['fico'])\n",
    "pub_rec_fico1 = linregress(df_nfp_1['pub_rec'], df_nfp_1['fico'])\n",
    "print(pub_rec_fico0)\n",
    "print(pub_rec_fico1)\n",
    "fx_pub_rec_0 = df_nfp_0['pub_rec']\n",
    "fx_pub_rec_1 = df_nfp_1['pub_rec']\n",
    "fy_fico_0 = pub_rec_fico0.intercept + fx_pub_rec_0 * pub_rec_fico0.slope\n",
    "fy_fico_1 = pub_rec_fico1.intercept + fx_pub_rec_1 * pub_rec_fico1.slope\n",
    "sns.catplot(x = 'pub_rec', y = 'fico', hue = 'not_fully_paid', data=df)\n",
    "plt.plot(fx_pub_rec_0, fy_fico_0, '-')\n",
    "plt.plot(fx_pub_rec_1, fy_fico_1, '-')\n",
    "plt.show()"
   ]
  },
  {
   "cell_type": "markdown",
   "id": "f9d277c8",
   "metadata": {
    "papermill": {
     "duration": 0.047871,
     "end_time": "2021-09-03T12:25:13.516610",
     "exception": false,
     "start_time": "2021-09-03T12:25:13.468739",
     "status": "completed"
    },
    "tags": []
   },
   "source": [
    "There's a strong correlation between having 0 public record and having fully paid. Also, if people have a public record or more, then it's very likely that their FICO score will be below 750. We also see that for every public record the person has, he/she will get -20 or -18 points deducted from their FICO score, depending on whether they have paid their loan in full. People who have not paid yet only have bad public records up to 2 times. "
   ]
  },
  {
   "cell_type": "code",
   "execution_count": 15,
   "id": "4a5019ed",
   "metadata": {
    "execution": {
     "iopub.execute_input": "2021-09-03T12:25:13.616794Z",
     "iopub.status.busy": "2021-09-03T12:25:13.615706Z",
     "iopub.status.idle": "2021-09-03T12:25:13.645215Z",
     "shell.execute_reply": "2021-09-03T12:25:13.645618Z",
     "shell.execute_reply.started": "2021-09-03T11:40:43.627654Z"
    },
    "papermill": {
     "duration": 0.082113,
     "end_time": "2021-09-03T12:25:13.645796",
     "exception": false,
     "start_time": "2021-09-03T12:25:13.563683",
     "status": "completed"
    },
    "tags": []
   },
   "outputs": [
    {
     "data": {
      "text/html": [
       "<div>\n",
       "<style scoped>\n",
       "    .dataframe tbody tr th:only-of-type {\n",
       "        vertical-align: middle;\n",
       "    }\n",
       "\n",
       "    .dataframe tbody tr th {\n",
       "        vertical-align: top;\n",
       "    }\n",
       "\n",
       "    .dataframe thead th {\n",
       "        text-align: right;\n",
       "    }\n",
       "</style>\n",
       "<table border=\"1\" class=\"dataframe\">\n",
       "  <thead>\n",
       "    <tr style=\"text-align: right;\">\n",
       "      <th></th>\n",
       "      <th>count</th>\n",
       "      <th>mean</th>\n",
       "      <th>std</th>\n",
       "      <th>min</th>\n",
       "      <th>25%</th>\n",
       "      <th>50%</th>\n",
       "      <th>75%</th>\n",
       "      <th>max</th>\n",
       "    </tr>\n",
       "    <tr>\n",
       "      <th>pub_rec</th>\n",
       "      <th></th>\n",
       "      <th></th>\n",
       "      <th></th>\n",
       "      <th></th>\n",
       "      <th></th>\n",
       "      <th></th>\n",
       "      <th></th>\n",
       "      <th></th>\n",
       "    </tr>\n",
       "  </thead>\n",
       "  <tbody>\n",
       "    <tr>\n",
       "      <th>0</th>\n",
       "      <td>9019.0</td>\n",
       "      <td>0.154673</td>\n",
       "      <td>0.361613</td>\n",
       "      <td>0.0</td>\n",
       "      <td>0.0</td>\n",
       "      <td>0.0</td>\n",
       "      <td>0.0</td>\n",
       "      <td>1.0</td>\n",
       "    </tr>\n",
       "    <tr>\n",
       "      <th>1</th>\n",
       "      <td>533.0</td>\n",
       "      <td>0.255159</td>\n",
       "      <td>0.436360</td>\n",
       "      <td>0.0</td>\n",
       "      <td>0.0</td>\n",
       "      <td>0.0</td>\n",
       "      <td>1.0</td>\n",
       "      <td>1.0</td>\n",
       "    </tr>\n",
       "    <tr>\n",
       "      <th>2</th>\n",
       "      <td>19.0</td>\n",
       "      <td>0.105263</td>\n",
       "      <td>0.315302</td>\n",
       "      <td>0.0</td>\n",
       "      <td>0.0</td>\n",
       "      <td>0.0</td>\n",
       "      <td>0.0</td>\n",
       "      <td>1.0</td>\n",
       "    </tr>\n",
       "    <tr>\n",
       "      <th>3</th>\n",
       "      <td>5.0</td>\n",
       "      <td>0.000000</td>\n",
       "      <td>0.000000</td>\n",
       "      <td>0.0</td>\n",
       "      <td>0.0</td>\n",
       "      <td>0.0</td>\n",
       "      <td>0.0</td>\n",
       "      <td>0.0</td>\n",
       "    </tr>\n",
       "    <tr>\n",
       "      <th>4</th>\n",
       "      <td>1.0</td>\n",
       "      <td>0.000000</td>\n",
       "      <td>NaN</td>\n",
       "      <td>0.0</td>\n",
       "      <td>0.0</td>\n",
       "      <td>0.0</td>\n",
       "      <td>0.0</td>\n",
       "      <td>0.0</td>\n",
       "    </tr>\n",
       "    <tr>\n",
       "      <th>5</th>\n",
       "      <td>1.0</td>\n",
       "      <td>0.000000</td>\n",
       "      <td>NaN</td>\n",
       "      <td>0.0</td>\n",
       "      <td>0.0</td>\n",
       "      <td>0.0</td>\n",
       "      <td>0.0</td>\n",
       "      <td>0.0</td>\n",
       "    </tr>\n",
       "  </tbody>\n",
       "</table>\n",
       "</div>"
      ],
      "text/plain": [
       "          count      mean       std  min  25%  50%  75%  max\n",
       "pub_rec                                                     \n",
       "0        9019.0  0.154673  0.361613  0.0  0.0  0.0  0.0  1.0\n",
       "1         533.0  0.255159  0.436360  0.0  0.0  0.0  1.0  1.0\n",
       "2          19.0  0.105263  0.315302  0.0  0.0  0.0  0.0  1.0\n",
       "3           5.0  0.000000  0.000000  0.0  0.0  0.0  0.0  0.0\n",
       "4           1.0  0.000000       NaN  0.0  0.0  0.0  0.0  0.0\n",
       "5           1.0  0.000000       NaN  0.0  0.0  0.0  0.0  0.0"
      ]
     },
     "execution_count": 15,
     "metadata": {},
     "output_type": "execute_result"
    }
   ],
   "source": [
    "df.groupby(['pub_rec'])['not_fully_paid'].describe()"
   ]
  },
  {
   "cell_type": "code",
   "execution_count": 16,
   "id": "fe1f5088",
   "metadata": {
    "execution": {
     "iopub.execute_input": "2021-09-03T12:25:13.746384Z",
     "iopub.status.busy": "2021-09-03T12:25:13.745761Z",
     "iopub.status.idle": "2021-09-03T12:25:14.175187Z",
     "shell.execute_reply": "2021-09-03T12:25:14.175638Z",
     "shell.execute_reply.started": "2021-09-03T11:40:43.669963Z"
    },
    "papermill": {
     "duration": 0.482628,
     "end_time": "2021-09-03T12:25:14.175825",
     "exception": false,
     "start_time": "2021-09-03T12:25:13.693197",
     "status": "completed"
    },
    "tags": []
   },
   "outputs": [
    {
     "data": {
      "image/png": "[encoded data removed]",
      "text/plain": [
       "<Figure size 720x576 with 2 Axes>"
      ]
     },
     "metadata": {},
     "output_type": "display_data"
    }
   ],
   "source": [
    "# Create correlation matrix and graph it\n",
    "corr = df.corr()\n",
    "#To cover half away the correlation matrix\n",
    "mask = np.zeros_like(corr)\n",
    "mask[np.triu_indices_from(mask)] = True\n",
    "with sns.axes_style('white'):\n",
    "    fig, ax = plt.subplots(figsize = (10,8))\n",
    "    ax = sns.heatmap(corr, mask = mask, vmax = 1, square = True)\n",
    "plt.show()"
   ]
  },
  {
   "cell_type": "markdown",
   "id": "552ebbd5",
   "metadata": {
    "papermill": {
     "duration": 0.049843,
     "end_time": "2021-09-03T12:25:14.274942",
     "exception": false,
     "start_time": "2021-09-03T12:25:14.225099",
     "status": "completed"
    },
    "tags": []
   },
   "source": [
    "From the correlation matrix, we can infer a few things: \n",
    "- There's a strong negative correlation between fico score and interest rate, that is they move in opposite direction. This makes sense because if someone has poor credit score, their interest will be higher and vice versa. We'll graph this below.\n",
    "- There's a strong negative correlation between number of inquiry in the past 6 months and credit policy. As people make more credit inquiries, they'll be less likely to meet underwriting credit criteria. \n",
    "- Strong negative correlation between revolving utility (the amount of credit used over the total credit line available) and fico. For people who overspends their credit limit, this will have negative impact on their fico score. \n",
    "- Moderate positive correlation between natural log of annual income & installment. As people earn more money annually, they will also have a bigger monthly payment (installment) since they have more disposable income to spend. \n",
    "- Interest rate & revolving utility has moderate positive correlation. As people utilizes more of their available credit line, the interest rate for them will go up.\n",
    "- Dti (debt-to-income ratio) and revolving utility has mild positive correlation. As people own more debt, it also means that they're utilizing more of their own available credit line. \n",
    "- Log annual income has mild positive correlation with days with credit line (how long they have had a credit line). "
   ]
  },
  {
   "cell_type": "code",
   "execution_count": 17,
   "id": "ed12be26",
   "metadata": {
    "execution": {
     "iopub.execute_input": "2021-09-03T12:25:14.389493Z",
     "iopub.status.busy": "2021-09-03T12:25:14.388635Z",
     "iopub.status.idle": "2021-09-03T12:25:14.986465Z",
     "shell.execute_reply": "2021-09-03T12:25:14.986945Z",
     "shell.execute_reply.started": "2021-09-03T11:40:44.215691Z"
    },
    "papermill": {
     "duration": 0.663365,
     "end_time": "2021-09-03T12:25:14.987111",
     "exception": false,
     "start_time": "2021-09-03T12:25:14.323746",
     "status": "completed"
    },
    "tags": []
   },
   "outputs": [
    {
     "data": {
      "image/png": "[encoded data removed]",
      "text/plain": [
       "<Figure size 432x432 with 3 Axes>"
      ]
     },
     "metadata": {},
     "output_type": "display_data"
    }
   ],
   "source": [
    "sns.jointplot(x ='fico', y = 'int_rate', data =df)\n",
    "plt.show()"
   ]
  },
  {
   "cell_type": "markdown",
   "id": "db2157f8",
   "metadata": {
    "papermill": {
     "duration": 0.050168,
     "end_time": "2021-09-03T12:25:15.088259",
     "exception": false,
     "start_time": "2021-09-03T12:25:15.038091",
     "status": "completed"
    },
    "tags": []
   },
   "source": [
    "From the graph on top, we can see that interest rate will drop as fico score gets better."
   ]
  },
  {
   "cell_type": "code",
   "execution_count": 18,
   "id": "3cba5246",
   "metadata": {
    "execution": {
     "iopub.execute_input": "2021-09-03T12:25:15.197022Z",
     "iopub.status.busy": "2021-09-03T12:25:15.196111Z",
     "iopub.status.idle": "2021-09-03T12:25:15.802400Z",
     "shell.execute_reply": "2021-09-03T12:25:15.802848Z",
     "shell.execute_reply.started": "2021-09-03T11:40:44.977276Z"
    },
    "papermill": {
     "duration": 0.663774,
     "end_time": "2021-09-03T12:25:15.803035",
     "exception": false,
     "start_time": "2021-09-03T12:25:15.139261",
     "status": "completed"
    },
    "tags": []
   },
   "outputs": [
    {
     "data": {
      "image/png": "[encoded data removed]",
      "text/plain": [
       "<Figure size 432x288 with 1 Axes>"
      ]
     },
     "metadata": {},
     "output_type": "display_data"
    },
    {
     "data": {
      "image/png": "[encoded data removed]",
      "text/plain": [
       "<Figure size 432x288 with 1 Axes>"
      ]
     },
     "metadata": {},
     "output_type": "display_data"
    },
    {
     "data": {
      "image/png": "[encoded data removed]",
      "text/plain": [
       "<Figure size 432x288 with 1 Axes>"
      ]
     },
     "metadata": {},
     "output_type": "display_data"
    },
    {
     "data": {
      "image/png": "[encoded data removed]",
      "text/plain": [
       "<Figure size 432x288 with 1 Axes>"
      ]
     },
     "metadata": {},
     "output_type": "display_data"
    },
    {
     "data": {
      "image/png": "[encoded data removed]",
      "text/plain": [
       "<Figure size 432x288 with 1 Axes>"
      ]
     },
     "metadata": {},
     "output_type": "display_data"
    },
    {
     "data": {
      "image/png": "[encoded data removed]",
      "text/plain": [
       "<Figure size 432x288 with 1 Axes>"
      ]
     },
     "metadata": {},
     "output_type": "display_data"
    }
   ],
   "source": [
    "#Select continous variables (float)\n",
    "cont_var = [c for c in df.columns if df[c].dtype == 'float']\n",
    "\n",
    "#Graph continuous variables to see the distribution\n",
    "for i in cont_var:\n",
    "    sns.boxplot(y = i, palette = 'rainbow', data = df)\n",
    "    plt.show()"
   ]
  },
  {
   "cell_type": "markdown",
   "id": "e3fc0de5",
   "metadata": {
    "papermill": {
     "duration": 0.054639,
     "end_time": "2021-09-03T12:25:15.912282",
     "exception": false,
     "start_time": "2021-09-03T12:25:15.857643",
     "status": "completed"
    },
    "tags": []
   },
   "source": [
    "Next we'll answer the question of when the loan will be paid off assuming that a monthly installment is being made. We'll create a new column for this. Then we'll use pivot table to see what types of loans will take the longest to pay off. "
   ]
  },
  {
   "cell_type": "code",
   "execution_count": 19,
   "id": "8ca73375",
   "metadata": {
    "execution": {
     "iopub.execute_input": "2021-09-03T12:25:16.026851Z",
     "iopub.status.busy": "2021-09-03T12:25:16.026198Z",
     "iopub.status.idle": "2021-09-03T12:25:16.049103Z",
     "shell.execute_reply": "2021-09-03T12:25:16.048641Z",
     "shell.execute_reply.started": "2021-09-03T11:40:45.718132Z"
    },
    "papermill": {
     "duration": 0.082221,
     "end_time": "2021-09-03T12:25:16.049249",
     "exception": false,
     "start_time": "2021-09-03T12:25:15.967028",
     "status": "completed"
    },
    "tags": []
   },
   "outputs": [
    {
     "data": {
      "text/html": [
       "<div>\n",
       "<style scoped>\n",
       "    .dataframe tbody tr th:only-of-type {\n",
       "        vertical-align: middle;\n",
       "    }\n",
       "\n",
       "    .dataframe tbody tr th {\n",
       "        vertical-align: top;\n",
       "    }\n",
       "\n",
       "    .dataframe thead th {\n",
       "        text-align: right;\n",
       "    }\n",
       "</style>\n",
       "<table border=\"1\" class=\"dataframe\">\n",
       "  <thead>\n",
       "    <tr style=\"text-align: right;\">\n",
       "      <th></th>\n",
       "      <th>time_to_paid_off_mths</th>\n",
       "    </tr>\n",
       "    <tr>\n",
       "      <th>purpose</th>\n",
       "      <th></th>\n",
       "    </tr>\n",
       "  </thead>\n",
       "  <tbody>\n",
       "    <tr>\n",
       "      <th>all_other</th>\n",
       "      <td>72.470874</td>\n",
       "    </tr>\n",
       "    <tr>\n",
       "      <th>credit_card</th>\n",
       "      <td>90.090695</td>\n",
       "    </tr>\n",
       "    <tr>\n",
       "      <th>debt_consolidation</th>\n",
       "      <td>56.338013</td>\n",
       "    </tr>\n",
       "    <tr>\n",
       "      <th>educational</th>\n",
       "      <td>71.684185</td>\n",
       "    </tr>\n",
       "    <tr>\n",
       "      <th>home_improvement</th>\n",
       "      <td>95.372521</td>\n",
       "    </tr>\n",
       "    <tr>\n",
       "      <th>major_purchase</th>\n",
       "      <td>42.882616</td>\n",
       "    </tr>\n",
       "    <tr>\n",
       "      <th>small_business</th>\n",
       "      <td>68.357813</td>\n",
       "    </tr>\n",
       "    <tr>\n",
       "      <th>Average across all purposes</th>\n",
       "      <td>67.987446</td>\n",
       "    </tr>\n",
       "  </tbody>\n",
       "</table>\n",
       "</div>"
      ],
      "text/plain": [
       "                             time_to_paid_off_mths\n",
       "purpose                                           \n",
       "all_other                                72.470874\n",
       "credit_card                              90.090695\n",
       "debt_consolidation                       56.338013\n",
       "educational                              71.684185\n",
       "home_improvement                         95.372521\n",
       "major_purchase                           42.882616\n",
       "small_business                           68.357813\n",
       "Average across all purposes              67.987446"
      ]
     },
     "execution_count": 19,
     "metadata": {},
     "output_type": "execute_result"
    }
   ],
   "source": [
    "df['time_to_paid_off_mths'] = df['revol_bal']/df['installment']\n",
    "pd.pivot_table(index = 'purpose', values = 'time_to_paid_off_mths', aggfunc = 'mean', margins = True, \n",
    "               margins_name = 'Average across all purposes', data = df)"
   ]
  },
  {
   "cell_type": "markdown",
   "id": "09524924",
   "metadata": {
    "papermill": {
     "duration": 0.052668,
     "end_time": "2021-09-03T12:25:16.156504",
     "exception": false,
     "start_time": "2021-09-03T12:25:16.103836",
     "status": "completed"
    },
    "tags": []
   },
   "source": [
    "Home improvement seems to take the longest to pay off, at 95 months on average. The category \"major_purchase\" has the shortest paid off time at 42 months."
   ]
  },
  {
   "cell_type": "code",
   "execution_count": 20,
   "id": "f95bfe3f",
   "metadata": {
    "execution": {
     "iopub.execute_input": "2021-09-03T12:25:16.275537Z",
     "iopub.status.busy": "2021-09-03T12:25:16.273361Z",
     "iopub.status.idle": "2021-09-03T12:25:16.293807Z",
     "shell.execute_reply": "2021-09-03T12:25:16.293275Z",
     "shell.execute_reply.started": "2021-09-03T11:40:45.754752Z"
    },
    "papermill": {
     "duration": 0.081508,
     "end_time": "2021-09-03T12:25:16.293944",
     "exception": false,
     "start_time": "2021-09-03T12:25:16.212436",
     "status": "completed"
    },
    "tags": []
   },
   "outputs": [
    {
     "data": {
      "text/html": [
       "<div>\n",
       "<style scoped>\n",
       "    .dataframe tbody tr th:only-of-type {\n",
       "        vertical-align: middle;\n",
       "    }\n",
       "\n",
       "    .dataframe tbody tr th {\n",
       "        vertical-align: top;\n",
       "    }\n",
       "\n",
       "    .dataframe thead th {\n",
       "        text-align: right;\n",
       "    }\n",
       "</style>\n",
       "<table border=\"1\" class=\"dataframe\">\n",
       "  <thead>\n",
       "    <tr style=\"text-align: right;\">\n",
       "      <th></th>\n",
       "      <th>delinq_2yrs</th>\n",
       "      <th>dti</th>\n",
       "      <th>log_annual_inc</th>\n",
       "    </tr>\n",
       "    <tr>\n",
       "      <th>purpose</th>\n",
       "      <th></th>\n",
       "      <th></th>\n",
       "      <th></th>\n",
       "    </tr>\n",
       "  </thead>\n",
       "  <tbody>\n",
       "    <tr>\n",
       "      <th>all_other</th>\n",
       "      <td>2331</td>\n",
       "      <td>11.079498</td>\n",
       "      <td>10.845313</td>\n",
       "    </tr>\n",
       "    <tr>\n",
       "      <th>credit_card</th>\n",
       "      <td>1262</td>\n",
       "      <td>14.099398</td>\n",
       "      <td>11.047230</td>\n",
       "    </tr>\n",
       "    <tr>\n",
       "      <th>debt_consolidation</th>\n",
       "      <td>3957</td>\n",
       "      <td>14.076462</td>\n",
       "      <td>10.912909</td>\n",
       "    </tr>\n",
       "    <tr>\n",
       "      <th>educational</th>\n",
       "      <td>343</td>\n",
       "      <td>11.344927</td>\n",
       "      <td>10.549956</td>\n",
       "    </tr>\n",
       "    <tr>\n",
       "      <th>home_improvement</th>\n",
       "      <td>629</td>\n",
       "      <td>10.197504</td>\n",
       "      <td>11.201979</td>\n",
       "    </tr>\n",
       "    <tr>\n",
       "      <th>major_purchase</th>\n",
       "      <td>437</td>\n",
       "      <td>10.159886</td>\n",
       "      <td>10.844895</td>\n",
       "    </tr>\n",
       "    <tr>\n",
       "      <th>small_business</th>\n",
       "      <td>619</td>\n",
       "      <td>10.793296</td>\n",
       "      <td>11.146216</td>\n",
       "    </tr>\n",
       "  </tbody>\n",
       "</table>\n",
       "</div>"
      ],
      "text/plain": [
       "                    delinq_2yrs        dti  log_annual_inc\n",
       "purpose                                                   \n",
       "all_other                  2331  11.079498       10.845313\n",
       "credit_card                1262  14.099398       11.047230\n",
       "debt_consolidation         3957  14.076462       10.912909\n",
       "educational                 343  11.344927       10.549956\n",
       "home_improvement            629  10.197504       11.201979\n",
       "major_purchase              437  10.159886       10.844895\n",
       "small_business              619  10.793296       11.146216"
      ]
     },
     "execution_count": 20,
     "metadata": {},
     "output_type": "execute_result"
    }
   ],
   "source": [
    "pd.pivot_table(index = 'purpose', values = ['log_annual_inc', 'dti', 'delinq_2yrs'], \n",
    "               aggfunc = {'log_annual_inc':np.mean,'dti':np.mean,\n",
    "                           'delinq_2yrs': 'count'             }, data = df)"
   ]
  },
  {
   "cell_type": "markdown",
   "id": "983cbbbc",
   "metadata": {
    "papermill": {
     "duration": 0.056466,
     "end_time": "2021-09-03T12:25:16.405686",
     "exception": false,
     "start_time": "2021-09-03T12:25:16.349220",
     "status": "completed"
    },
    "tags": []
   },
   "source": [
    "There's not much income variation across different purposes, but we can see that groups with the most number of delinquencies in the past 2 years are \"debt consolidation\" and \"all other\". Debt-to-income ratio is also high in the debt consolidation and credit card groups."
   ]
  },
  {
   "cell_type": "markdown",
   "id": "3d52ad08",
   "metadata": {
    "papermill": {
     "duration": 0.055335,
     "end_time": "2021-09-03T12:25:16.516407",
     "exception": false,
     "start_time": "2021-09-03T12:25:16.461072",
     "status": "completed"
    },
    "tags": []
   },
   "source": [
    "Since income is a log variable, we'll use a special KDE plot to see its distribution."
   ]
  },
  {
   "cell_type": "code",
   "execution_count": 21,
   "id": "bf90c203",
   "metadata": {
    "execution": {
     "iopub.execute_input": "2021-09-03T12:25:16.630671Z",
     "iopub.status.busy": "2021-09-03T12:25:16.630082Z",
     "iopub.status.idle": "2021-09-03T12:25:17.048116Z",
     "shell.execute_reply": "2021-09-03T12:25:17.048593Z",
     "shell.execute_reply.started": "2021-09-03T11:40:45.787760Z"
    },
    "papermill": {
     "duration": 0.477856,
     "end_time": "2021-09-03T12:25:17.048777",
     "exception": false,
     "start_time": "2021-09-03T12:25:16.570921",
     "status": "completed"
    },
    "tags": []
   },
   "outputs": [
    {
     "data": {
      "image/png": "[encoded data removed]",
      "text/plain": [
       "<Figure size 432x288 with 1 Axes>"
      ]
     },
     "metadata": {},
     "output_type": "display_data"
    }
   ],
   "source": [
    "sns.kdeplot(df['log_annual_inc'], hue = df['not_fully_paid'])\n",
    "plt.show()"
   ]
  },
  {
   "cell_type": "markdown",
   "id": "455b48a1",
   "metadata": {
    "papermill": {
     "duration": 0.054607,
     "end_time": "2021-09-03T12:25:17.159404",
     "exception": false,
     "start_time": "2021-09-03T12:25:17.104797",
     "status": "completed"
    },
    "tags": []
   },
   "source": [
    "It has a perfect normal distribution with mean at around 11. There're more people who have fully paid than people who have not fully paid. "
   ]
  },
  {
   "cell_type": "markdown",
   "id": "be4226bf",
   "metadata": {
    "papermill": {
     "duration": 0.054089,
     "end_time": "2021-09-03T12:25:17.268022",
     "exception": false,
     "start_time": "2021-09-03T12:25:17.213933",
     "status": "completed"
    },
    "tags": []
   },
   "source": [
    "We'll turn some variables into PMF functions to be able to more easily visualize them. Let's begin with delinq_2yrs"
   ]
  },
  {
   "cell_type": "code",
   "execution_count": 22,
   "id": "6708083c",
   "metadata": {
    "execution": {
     "iopub.execute_input": "2021-09-03T12:25:17.380273Z",
     "iopub.status.busy": "2021-09-03T12:25:17.379685Z",
     "iopub.status.idle": "2021-09-03T12:25:17.578157Z",
     "shell.execute_reply": "2021-09-03T12:25:17.578665Z",
     "shell.execute_reply.started": "2021-09-03T11:40:46.286955Z"
    },
    "papermill": {
     "duration": 0.25621,
     "end_time": "2021-09-03T12:25:17.578837",
     "exception": false,
     "start_time": "2021-09-03T12:25:17.322627",
     "status": "completed"
    },
    "tags": []
   },
   "outputs": [
    {
     "data": {
      "image/png": "[encoded data removed]",
      "text/plain": [
       "<Figure size 432x288 with 1 Axes>"
      ]
     },
     "metadata": {},
     "output_type": "display_data"
    }
   ],
   "source": [
    "pmf_delinq = Pmf.from_seq(df['delinq_2yrs'], normalize = True)\n",
    "pmf_delinq.bar()\n",
    "plt.xlabel('Number of delinquencies in the past 2 years')\n",
    "plt.ylabel('Probability')\n",
    "plt.show()"
   ]
  },
  {
   "cell_type": "markdown",
   "id": "d05aa631",
   "metadata": {
    "papermill": {
     "duration": 0.060111,
     "end_time": "2021-09-03T12:25:17.694497",
     "exception": false,
     "start_time": "2021-09-03T12:25:17.634386",
     "status": "completed"
    },
    "tags": []
   },
   "source": [
    "Over 85% of people do not have any deliquencies in the past 2 years. There's an insignificant % of people with deliquencies greater than 3. "
   ]
  },
  {
   "cell_type": "code",
   "execution_count": 23,
   "id": "55a8a254",
   "metadata": {
    "execution": {
     "iopub.execute_input": "2021-09-03T12:25:17.807578Z",
     "iopub.status.busy": "2021-09-03T12:25:17.806953Z",
     "iopub.status.idle": "2021-09-03T12:25:17.969754Z",
     "shell.execute_reply": "2021-09-03T12:25:17.969138Z",
     "shell.execute_reply.started": "2021-09-03T11:40:46.536917Z"
    },
    "papermill": {
     "duration": 0.22007,
     "end_time": "2021-09-03T12:25:17.969894",
     "exception": false,
     "start_time": "2021-09-03T12:25:17.749824",
     "status": "completed"
    },
    "tags": []
   },
   "outputs": [
    {
     "data": {
      "image/png": "[encoded data removed]",
      "text/plain": [
       "<Figure size 432x288 with 1 Axes>"
      ]
     },
     "metadata": {},
     "output_type": "display_data"
    }
   ],
   "source": [
    "pmf_pubrec = Pmf.from_seq(df['pub_rec'], normalize = True)\n",
    "pmf_pubrec.bar()\n",
    "plt.xlabel('Number of derogatory public records')\n",
    "plt.ylabel('Probability')\n",
    "plt.show()"
   ]
  },
  {
   "cell_type": "markdown",
   "id": "4507ccb7",
   "metadata": {
    "papermill": {
     "duration": 0.056682,
     "end_time": "2021-09-03T12:25:18.082206",
     "exception": false,
     "start_time": "2021-09-03T12:25:18.025524",
     "status": "completed"
    },
    "tags": []
   },
   "source": [
    "Over 90% have 0 derogatory public records and a few % who have 1 derogatory public record. "
   ]
  },
  {
   "cell_type": "code",
   "execution_count": 24,
   "id": "ffdf2df6",
   "metadata": {
    "execution": {
     "iopub.execute_input": "2021-09-03T12:25:18.201862Z",
     "iopub.status.busy": "2021-09-03T12:25:18.200901Z",
     "iopub.status.idle": "2021-09-03T12:25:18.404450Z",
     "shell.execute_reply": "2021-09-03T12:25:18.404857Z",
     "shell.execute_reply.started": "2021-09-03T11:40:46.753100Z"
    },
    "papermill": {
     "duration": 0.266697,
     "end_time": "2021-09-03T12:25:18.405030",
     "exception": false,
     "start_time": "2021-09-03T12:25:18.138333",
     "status": "completed"
    },
    "tags": []
   },
   "outputs": [
    {
     "data": {
      "image/png": "[encoded data removed]",
      "text/plain": [
       "<Figure size 432x288 with 1 Axes>"
      ]
     },
     "metadata": {},
     "output_type": "display_data"
    }
   ],
   "source": [
    "dti_0 = df[df['not_fully_paid'] == 0]['dti']\n",
    "dti_1 = df[df['not_fully_paid'] == 1]['dti']  \n",
    "cdf_dti_0 = Cdf.from_seq(dti_0, normalize = True)\n",
    "cdf_dti_1 = Cdf.from_seq(dti_1, normalize = True)\n",
    "cdf_dti_0.plot(label = \"Fully paid\")\n",
    "cdf_dti_1.plot(label = \"Not fully paid\")\n",
    "plt.legend()\n",
    "plt.xlabel('Debt-to-income ratio')\n",
    "plt.ylabel('CDF')\n",
    "plt.show()"
   ]
  },
  {
   "cell_type": "markdown",
   "id": "14368429",
   "metadata": {
    "papermill": {
     "duration": 0.056339,
     "end_time": "2021-09-03T12:25:18.517988",
     "exception": false,
     "start_time": "2021-09-03T12:25:18.461649",
     "status": "completed"
    },
    "tags": []
   },
   "source": [
    "Overall, about 82% of the people who have fully paid have debt to income ratio smaller than 20 vs. 80% of people who have not fully paid. "
   ]
  },
  {
   "cell_type": "markdown",
   "id": "3c0ba6c6",
   "metadata": {
    "papermill": {
     "duration": 0.056322,
     "end_time": "2021-09-03T12:25:18.631288",
     "exception": false,
     "start_time": "2021-09-03T12:25:18.574966",
     "status": "completed"
    },
    "tags": []
   },
   "source": [
    "# **Preprocessing**"
   ]
  },
  {
   "cell_type": "markdown",
   "id": "df59c6cb",
   "metadata": {
    "papermill": {
     "duration": 0.056197,
     "end_time": "2021-09-03T12:25:18.743935",
     "exception": false,
     "start_time": "2021-09-03T12:25:18.687738",
     "status": "completed"
    },
    "tags": []
   },
   "source": [
    "Next we'll go into the preprocessing aspect for the variables. First we'll import the necessary libraries. "
   ]
  },
  {
   "cell_type": "code",
   "execution_count": 25,
   "id": "2e6cc852",
   "metadata": {
    "execution": {
     "iopub.execute_input": "2021-09-03T12:25:18.863133Z",
     "iopub.status.busy": "2021-09-03T12:25:18.862317Z",
     "iopub.status.idle": "2021-09-03T12:25:19.849199Z",
     "shell.execute_reply": "2021-09-03T12:25:19.849712Z",
     "shell.execute_reply.started": "2021-09-03T11:40:47.021464Z"
    },
    "papermill": {
     "duration": 1.049762,
     "end_time": "2021-09-03T12:25:19.849886",
     "exception": false,
     "start_time": "2021-09-03T12:25:18.800124",
     "status": "completed"
    },
    "tags": []
   },
   "outputs": [],
   "source": [
    "from sklearn.preprocessing import StandardScaler, MinMaxScaler, OrdinalEncoder, OneHotEncoder\n",
    "from sklearn.compose import ColumnTransformer\n",
    "from sklearn.pipeline import Pipeline\n",
    "import optuna\n",
    "from sklearn.linear_model import LogisticRegression \n",
    "from sklearn.model_selection import StratifiedKFold\n",
    "from sklearn.metrics import classification_report\n",
    "from sklearn.model_selection import train_test_split\n",
    "from sklearn.metrics import plot_confusion_matrix"
   ]
  },
  {
   "cell_type": "code",
   "execution_count": 26,
   "id": "f1bfb958",
   "metadata": {
    "execution": {
     "iopub.execute_input": "2021-09-03T12:25:19.966152Z",
     "iopub.status.busy": "2021-09-03T12:25:19.965254Z",
     "iopub.status.idle": "2021-09-03T12:25:19.973858Z",
     "shell.execute_reply": "2021-09-03T12:25:19.974251Z",
     "shell.execute_reply.started": "2021-09-03T11:40:48.120285Z"
    },
    "papermill": {
     "duration": 0.067873,
     "end_time": "2021-09-03T12:25:19.974440",
     "exception": false,
     "start_time": "2021-09-03T12:25:19.906567",
     "status": "completed"
    },
    "tags": []
   },
   "outputs": [],
   "source": [
    "#Use dummy encoding for purpose\n",
    "df_dummy = pd.get_dummies(df['purpose'], prefix = 'purpose', drop_first = True) #to avoid multicollinearity\n",
    "#Merging dataframes to get the dummy variables\n",
    "df = df.merge(df_dummy, left_index = True, right_index = True)"
   ]
  },
  {
   "cell_type": "code",
   "execution_count": 27,
   "id": "7cdd488a",
   "metadata": {
    "execution": {
     "iopub.execute_input": "2021-09-03T12:25:20.091047Z",
     "iopub.status.busy": "2021-09-03T12:25:20.090136Z",
     "iopub.status.idle": "2021-09-03T12:25:20.098211Z",
     "shell.execute_reply": "2021-09-03T12:25:20.098690Z",
     "shell.execute_reply.started": "2021-09-03T11:40:48.135546Z"
    },
    "papermill": {
     "duration": 0.067961,
     "end_time": "2021-09-03T12:25:20.098860",
     "exception": false,
     "start_time": "2021-09-03T12:25:20.030899",
     "status": "completed"
    },
    "tags": []
   },
   "outputs": [],
   "source": [
    "#Separate 'not_fully_paid' into the target for prediction\n",
    "y = df['not_fully_paid']\n",
    "#Drop the target and old categorical 'purpose' from dataframe\n",
    "X = df\n",
    "X.drop('purpose', axis='columns',inplace = True)\n",
    "X.drop('not_fully_paid', axis = 'columns', inplace = True)"
   ]
  },
  {
   "cell_type": "code",
   "execution_count": 28,
   "id": "14205755",
   "metadata": {
    "execution": {
     "iopub.execute_input": "2021-09-03T12:25:20.214943Z",
     "iopub.status.busy": "2021-09-03T12:25:20.214080Z",
     "iopub.status.idle": "2021-09-03T12:25:20.221545Z",
     "shell.execute_reply": "2021-09-03T12:25:20.221058Z",
     "shell.execute_reply.started": "2021-09-03T11:40:48.148656Z"
    },
    "papermill": {
     "duration": 0.066483,
     "end_time": "2021-09-03T12:25:20.221681",
     "exception": false,
     "start_time": "2021-09-03T12:25:20.155198",
     "status": "completed"
    },
    "tags": []
   },
   "outputs": [],
   "source": [
    "#Cont var will be standardized\n",
    "cont_var = [c for c in df.columns if df[c].dtype == 'float']\n",
    "cont_var.remove('log_annual_inc')\n",
    "cont_var_exc_inc = cont_var\n",
    "\n",
    "int_var = [c for c in df.columns if df[c].dtype == 'int']\n",
    "int_var.remove('credit_policy')\n",
    "int_var_exc_credit_policy = int_var\n",
    "\n",
    "#Standardize the integer variables to improve accuracy except for log_annual_inc\n",
    "standardizeX = StandardScaler()\n",
    "\n",
    "# Initialize column transformer\n",
    "columnTrans = ColumnTransformer(transformers = [\n",
    "    ('cont',standardizeX,cont_var_exc_inc),\n",
    "    ],remainder='passthrough')"
   ]
  },
  {
   "cell_type": "markdown",
   "id": "ed6e9cc4",
   "metadata": {
    "papermill": {
     "duration": 0.055945,
     "end_time": "2021-09-03T12:25:20.333468",
     "exception": false,
     "start_time": "2021-09-03T12:25:20.277523",
     "status": "completed"
    },
    "tags": []
   },
   "source": [
    "# **Hyperparameter tuning**"
   ]
  },
  {
   "cell_type": "markdown",
   "id": "f5d61118",
   "metadata": {
    "papermill": {
     "duration": 0.05576,
     "end_time": "2021-09-03T12:25:20.445791",
     "exception": false,
     "start_time": "2021-09-03T12:25:20.390031",
     "status": "completed"
    },
    "tags": []
   },
   "source": [
    "This section below was only run a few times in order to get the optimized parameters for the logistic regression model."
   ]
  },
  {
   "cell_type": "code",
   "execution_count": 29,
   "id": "7b4dbe8b",
   "metadata": {
    "execution": {
     "iopub.execute_input": "2021-09-03T12:25:20.563868Z",
     "iopub.status.busy": "2021-09-03T12:25:20.563258Z",
     "iopub.status.idle": "2021-09-03T12:25:20.570141Z",
     "shell.execute_reply": "2021-09-03T12:25:20.570722Z",
     "shell.execute_reply.started": "2021-09-03T11:40:18.639356Z"
    },
    "papermill": {
     "duration": 0.067872,
     "end_time": "2021-09-03T12:25:20.570892",
     "exception": false,
     "start_time": "2021-09-03T12:25:20.503020",
     "status": "completed"
    },
    "tags": []
   },
   "outputs": [],
   "source": [
    "#With Optuna for tuning\n",
    "accuracy = []\n",
    "def run(trial):\n",
    "#     penalty = trial.suggest_categorical('penalty',['l1', 'l2', 'elasticnet', 'none'])\n",
    "    tol = trial.suggest_float('tol', 0.0000001, 0.0001, log = True)\n",
    "    C = trial.suggest_float('C', 1.0, 1000)\n",
    "    max_iter = trial.suggest_int('max_iter', 10, 100000)\n",
    "    solver = trial.suggest_categorical('solver', ['saga'])\n",
    "#     l1_ratio = trial.suggest_float('l1_ratio', 0, 1)\n",
    "\n",
    "    #Standardize the continuous variables\n",
    "    # Using regular train_test split to work with Optuna\n",
    "    X_train, X_test, y_train, y_test = train_test_split(X, y, test_size = 0.2)\n",
    "    X_train = columnTrans.fit_transform(X_train)\n",
    "    X_test = columnTrans.transform(X_test)\n",
    "    model1 = LogisticRegression(penalty='l2', tol=0.0001, C=1.0, solver='lbfgs', \n",
    "                                max_iter=100, multi_class='auto', verbose=0, \n",
    "                            warm_start=False, n_jobs=-1, l1_ratio=None, random_state = 0)\n",
    "    #Fiting the model\n",
    "    model1.fit(X_train, y_train)\n",
    "\n",
    "    #Make prediction\n",
    "    preds = model1.predict(X_test)\n",
    "\n",
    "    #Scoring the model\n",
    "    score = model1.score(X_test, y_test)\n",
    "    accuracy.append(score)\n",
    "    print(f'Accuracy score is: {score}')\n",
    "    return score"
   ]
  },
  {
   "cell_type": "code",
   "execution_count": 30,
   "id": "2f7144f9",
   "metadata": {
    "execution": {
     "iopub.execute_input": "2021-09-03T12:25:20.701667Z",
     "iopub.status.busy": "2021-09-03T12:25:20.700613Z",
     "iopub.status.idle": "2021-09-03T12:27:28.012199Z",
     "shell.execute_reply": "2021-09-03T12:27:28.013016Z",
     "shell.execute_reply.started": "2021-09-03T11:40:48.160356Z"
    },
    "papermill": {
     "duration": 127.38607,
     "end_time": "2021-09-03T12:27:28.013335",
     "exception": false,
     "start_time": "2021-09-03T12:25:20.627265",
     "status": "completed"
    },
    "tags": []
   },
   "outputs": [
    {
     "name": "stdout",
     "output_type": "stream",
     "text": [
      "Accuracy score is: 0.8293319415448852\n",
      "Accuracy score is: 0.8423799582463466\n",
      "Accuracy score is: 0.8204592901878914\n",
      "Accuracy score is: 0.8423799582463466\n",
      "Accuracy score is: 0.842901878914405\n",
      "Accuracy score is: 0.8272442588726514\n",
      "Accuracy score is: 0.8502087682672234\n",
      "Accuracy score is: 0.8387265135699373\n",
      "Accuracy score is: 0.8340292275574113\n",
      "Accuracy score is: 0.8376826722338204\n",
      "Accuracy score is: 0.843945720250522\n",
      "Accuracy score is: 0.8517745302713987\n",
      "Accuracy score is: 0.843945720250522\n",
      "Accuracy score is: 0.8345511482254697\n",
      "Accuracy score is: 0.8517745302713987\n",
      "Accuracy score is: 0.8387265135699373\n",
      "Accuracy score is: 0.8408141962421712\n",
      "Accuracy score is: 0.8324634655532359\n",
      "Accuracy score is: 0.8423799582463466\n",
      "Accuracy score is: 0.8376826722338204\n",
      "Accuracy score is: 0.8251565762004175\n",
      "Accuracy score is: 0.8460334029227558\n",
      "Accuracy score is: 0.8408141962421712\n",
      "Accuracy score is: 0.843945720250522\n",
      "Accuracy score is: 0.8329853862212944\n",
      "Accuracy score is: 0.8475991649269311\n",
      "Accuracy score is: 0.8376826722338204\n",
      "Accuracy score is: 0.8298538622129437\n",
      "Accuracy score is: 0.8251565762004175\n",
      "Accuracy score is: 0.8282881002087683\n",
      "Accuracy score is: 0.8413361169102297\n",
      "Accuracy score is: 0.831419624217119\n",
      "Accuracy score is: 0.8345511482254697\n",
      "Accuracy score is: 0.8549060542797495\n",
      "Accuracy score is: 0.8324634655532359\n",
      "Accuracy score is: 0.8345511482254697\n",
      "Accuracy score is: 0.8434237995824635\n",
      "Accuracy score is: 0.8282881002087683\n",
      "Accuracy score is: 0.8282881002087683\n",
      "Accuracy score is: 0.8481210855949896\n",
      "Accuracy score is: 0.842901878914405\n",
      "Accuracy score is: 0.843945720250522\n",
      "Accuracy score is: 0.8423799582463466\n",
      "Accuracy score is: 0.842901878914405\n",
      "Accuracy score is: 0.8361169102296451\n",
      "Accuracy score is: 0.8345511482254697\n",
      "Accuracy score is: 0.8355949895615866\n",
      "Accuracy score is: 0.824634655532359\n",
      "Accuracy score is: 0.8324634655532359\n",
      "Accuracy score is: 0.8465553235908142\n",
      "Accuracy score is: 0.837160751565762\n",
      "Accuracy score is: 0.848643006263048\n",
      "Accuracy score is: 0.8361169102296451\n",
      "Accuracy score is: 0.8475991649269311\n",
      "Accuracy score is: 0.8335073068893528\n",
      "Accuracy score is: 0.8376826722338204\n",
      "Accuracy score is: 0.8470772442588727\n",
      "Accuracy score is: 0.8355949895615866\n",
      "Accuracy score is: 0.8413361169102297\n",
      "Accuracy score is: 0.8387265135699373\n",
      "Accuracy score is: 0.837160751565762\n",
      "Accuracy score is: 0.8392484342379958\n",
      "Accuracy score is: 0.8470772442588727\n",
      "Accuracy score is: 0.8308977035490606\n",
      "Accuracy score is: 0.8178496868475992\n",
      "Accuracy score is: 0.837160751565762\n",
      "Accuracy score is: 0.8470772442588727\n",
      "Accuracy score is: 0.819937369519833\n",
      "Accuracy score is: 0.8423799582463466\n",
      "Accuracy score is: 0.8340292275574113\n",
      "Accuracy score is: 0.8496868475991649\n",
      "Accuracy score is: 0.8350730688935282\n",
      "Accuracy score is: 0.842901878914405\n",
      "Accuracy score is: 0.8366388308977035\n",
      "Accuracy score is: 0.8449895615866388\n",
      "Accuracy score is: 0.860125260960334\n",
      "Accuracy score is: 0.8449895615866388\n",
      "Accuracy score is: 0.837160751565762\n",
      "Accuracy score is: 0.831419624217119\n",
      "Accuracy score is: 0.8308977035490606\n",
      "Accuracy score is: 0.8402922755741128\n",
      "Accuracy score is: 0.8303757828810021\n",
      "Accuracy score is: 0.8288100208768268\n",
      "Accuracy score is: 0.8324634655532359\n",
      "Accuracy score is: 0.8382045929018789\n",
      "Accuracy score is: 0.8376826722338204\n",
      "Accuracy score is: 0.8648225469728601\n",
      "Accuracy score is: 0.8481210855949896\n",
      "Accuracy score is: 0.8376826722338204\n",
      "Accuracy score is: 0.8324634655532359\n",
      "Accuracy score is: 0.8408141962421712\n",
      "Accuracy score is: 0.8272442588726514\n",
      "Accuracy score is: 0.842901878914405\n",
      "Accuracy score is: 0.837160751565762\n",
      "Accuracy score is: 0.8449895615866388\n",
      "Accuracy score is: 0.8397703549060542\n",
      "Accuracy score is: 0.843945720250522\n",
      "Accuracy score is: 0.8293319415448852\n",
      "Accuracy score is: 0.8319415448851775\n",
      "Accuracy score is: 0.8575156576200418\n",
      "Accuracy score is: 0.8303757828810021\n",
      "Accuracy score is: 0.8376826722338204\n",
      "Accuracy score is: 0.8408141962421712\n",
      "Accuracy score is: 0.831419624217119\n",
      "Accuracy score is: 0.8392484342379958\n",
      "Accuracy score is: 0.8423799582463466\n",
      "Accuracy score is: 0.8235908141962421\n",
      "Accuracy score is: 0.837160751565762\n",
      "Accuracy score is: 0.8434237995824635\n",
      "Accuracy score is: 0.8434237995824635\n",
      "Accuracy score is: 0.8397703549060542\n",
      "Accuracy score is: 0.8335073068893528\n",
      "Accuracy score is: 0.8402922755741128\n",
      "Accuracy score is: 0.8361169102296451\n",
      "Accuracy score is: 0.8303757828810021\n",
      "Accuracy score is: 0.8282881002087683\n",
      "Accuracy score is: 0.8303757828810021\n",
      "Accuracy score is: 0.8382045929018789\n",
      "Accuracy score is: 0.837160751565762\n",
      "Accuracy score is: 0.8303757828810021\n",
      "Accuracy score is: 0.843945720250522\n",
      "Accuracy score is: 0.8496868475991649\n",
      "Accuracy score is: 0.8329853862212944\n",
      "Accuracy score is: 0.8423799582463466\n",
      "Accuracy score is: 0.8397703549060542\n",
      "Accuracy score is: 0.8235908141962421\n",
      "Accuracy score is: 0.8324634655532359\n",
      "Accuracy score is: 0.8549060542797495\n",
      "Accuracy score is: 0.8481210855949896\n",
      "Accuracy score is: 0.8528183716075156\n",
      "Accuracy score is: 0.8241127348643006\n",
      "Accuracy score is: 0.8449895615866388\n",
      "Accuracy score is: 0.8387265135699373\n",
      "Accuracy score is: 0.8491649269311065\n",
      "Accuracy score is: 0.8397703549060542\n",
      "Accuracy score is: 0.837160751565762\n",
      "Accuracy score is: 0.8350730688935282\n",
      "Accuracy score is: 0.8366388308977035\n",
      "Accuracy score is: 0.8522964509394572\n",
      "Accuracy score is: 0.8470772442588727\n",
      "Accuracy score is: 0.8376826722338204\n",
      "Accuracy score is: 0.8308977035490606\n",
      "Accuracy score is: 0.8382045929018789\n",
      "Accuracy score is: 0.837160751565762\n",
      "Accuracy score is: 0.8288100208768268\n",
      "Accuracy score is: 0.826722338204593\n",
      "Accuracy score is: 0.8470772442588727\n",
      "Accuracy score is: 0.8340292275574113\n",
      "Accuracy score is: 0.8460334029227558\n",
      "Accuracy score is: 0.8413361169102297\n",
      "Accuracy score is: 0.8444676409185804\n",
      "Accuracy score is: 0.843945720250522\n",
      "Accuracy score is: 0.8382045929018789\n",
      "Accuracy score is: 0.8387265135699373\n",
      "Accuracy score is: 0.8444676409185804\n",
      "Accuracy score is: 0.8303757828810021\n",
      "Accuracy score is: 0.8444676409185804\n",
      "Accuracy score is: 0.8418580375782881\n",
      "Accuracy score is: 0.8434237995824635\n",
      "Accuracy score is: 0.8376826722338204\n",
      "Accuracy score is: 0.8293319415448852\n",
      "Accuracy score is: 0.8350730688935282\n",
      "Accuracy score is: 0.8340292275574113\n",
      "Accuracy score is: 0.8402922755741128\n",
      "Accuracy score is: 0.843945720250522\n",
      "Accuracy score is: 0.8423799582463466\n",
      "Accuracy score is: 0.8413361169102297\n",
      "Accuracy score is: 0.8256784968684759\n",
      "Accuracy score is: 0.8382045929018789\n",
      "Accuracy score is: 0.8408141962421712\n",
      "Accuracy score is: 0.8387265135699373\n",
      "Accuracy score is: 0.8335073068893528\n",
      "Accuracy score is: 0.843945720250522\n",
      "Accuracy score is: 0.8392484342379958\n",
      "Accuracy score is: 0.8397703549060542\n",
      "Accuracy score is: 0.848643006263048\n",
      "Accuracy score is: 0.8382045929018789\n",
      "Accuracy score is: 0.8361169102296451\n",
      "Accuracy score is: 0.8215031315240083\n",
      "Accuracy score is: 0.8434237995824635\n",
      "Accuracy score is: 0.8366388308977035\n",
      "Accuracy score is: 0.8376826722338204\n",
      "Accuracy score is: 0.8449895615866388\n",
      "Accuracy score is: 0.8277661795407099\n",
      "Accuracy score is: 0.8517745302713987\n",
      "Accuracy score is: 0.8444676409185804\n",
      "Accuracy score is: 0.8382045929018789\n",
      "Accuracy score is: 0.8345511482254697\n",
      "Accuracy score is: 0.843945720250522\n",
      "Accuracy score is: 0.8392484342379958\n",
      "Accuracy score is: 0.8340292275574113\n",
      "Accuracy score is: 0.8298538622129437\n",
      "Accuracy score is: 0.8355949895615866\n",
      "Accuracy score is: 0.8444676409185804\n",
      "Accuracy score is: 0.8413361169102297\n",
      "Accuracy score is: 0.8465553235908142\n",
      "Accuracy score is: 0.8319415448851775\n",
      "Accuracy score is: 0.8418580375782881\n",
      "Accuracy score is: 0.8402922755741128\n",
      "Accuracy score is: 0.831419624217119\n"
     ]
    }
   ],
   "source": [
    "#Suppress optuna output\n",
    "optuna.logging.set_verbosity(optuna.logging.WARNING)\n",
    "optuna.samplers.RandomSampler(seed = 0) #Use random sampling\n",
    "study = optuna.create_study(direction = 'maximize')\n",
    "study.optimize(run, n_trials = 200)"
   ]
  },
  {
   "cell_type": "code",
   "execution_count": 31,
   "id": "45147a90",
   "metadata": {
    "execution": {
     "iopub.execute_input": "2021-09-03T12:27:28.282999Z",
     "iopub.status.busy": "2021-09-03T12:27:28.282259Z",
     "iopub.status.idle": "2021-09-03T12:27:28.285990Z",
     "shell.execute_reply": "2021-09-03T12:27:28.286486Z",
     "shell.execute_reply.started": "2021-09-03T11:43:38.617087Z"
    },
    "papermill": {
     "duration": 0.114469,
     "end_time": "2021-09-03T12:27:28.286670",
     "exception": false,
     "start_time": "2021-09-03T12:27:28.172201",
     "status": "completed"
    },
    "tags": []
   },
   "outputs": [
    {
     "data": {
      "text/plain": [
       "{'tol': 1.438029446401391e-06,\n",
       " 'C': 41.24841875288655,\n",
       " 'max_iter': 51624,\n",
       " 'solver': 'saga'}"
      ]
     },
     "execution_count": 31,
     "metadata": {},
     "output_type": "execute_result"
    }
   ],
   "source": [
    "#Get the best parameters for the model\n",
    "study.best_params"
   ]
  },
  {
   "cell_type": "markdown",
   "id": "b3e37193",
   "metadata": {
    "papermill": {
     "duration": 0.102804,
     "end_time": "2021-09-03T12:27:28.491513",
     "exception": false,
     "start_time": "2021-09-03T12:27:28.388709",
     "status": "completed"
    },
    "tags": []
   },
   "source": [
    "# **Model Building**"
   ]
  },
  {
   "cell_type": "markdown",
   "id": "9ae6b92a",
   "metadata": {
    "papermill": {
     "duration": 0.101749,
     "end_time": "2021-09-03T12:27:28.694890",
     "exception": false,
     "start_time": "2021-09-03T12:27:28.593141",
     "status": "completed"
    },
    "tags": []
   },
   "source": [
    "First we'll use logistic regression to predict whether a person has fully paid yet or not. "
   ]
  },
  {
   "cell_type": "code",
   "execution_count": 32,
   "id": "526e91a6",
   "metadata": {
    "execution": {
     "iopub.execute_input": "2021-09-03T12:27:28.906722Z",
     "iopub.status.busy": "2021-09-03T12:27:28.906093Z",
     "iopub.status.idle": "2021-09-03T12:29:58.268546Z",
     "shell.execute_reply": "2021-09-03T12:29:58.267589Z",
     "shell.execute_reply.started": "2021-09-03T11:43:56.033753Z"
    },
    "papermill": {
     "duration": 149.47305,
     "end_time": "2021-09-03T12:29:58.268783",
     "exception": false,
     "start_time": "2021-09-03T12:27:28.795733",
     "status": "completed"
    },
    "tags": []
   },
   "outputs": [
    {
     "name": "stdout",
     "output_type": "stream",
     "text": [
      "Accuracy score for 0th is: 0.8402922755741128\n",
      "Accuracy score for 1th is: 0.8413361169102297\n",
      "Accuracy score for 2th is: 0.8402922755741128\n",
      "Accuracy score for 3th is: 0.8402922755741128\n",
      "Accuracy score for 4th is: 0.8402922755741128\n",
      "Accuracy score for 5th is: 0.8382045929018789\n",
      "Accuracy score for 6th is: 0.8392484342379958\n",
      "Accuracy score for 7th is: 0.8392484342379958\n",
      "Accuracy score for 8th is: 0.8401253918495298\n",
      "Accuracy score for 9th is: 0.8401253918495298\n",
      "The average score across all 10 folds is 0.8399457464283611\n"
     ]
    }
   ],
   "source": [
    "#Plugged in with tuned parameters from Optuna 200 trials\n",
    "best_params = {'tol': 7.651638057784127e-06,\n",
    "             'C': 952.0477857994174,\n",
    "             'max_iter': 95461,\n",
    "             'solver': 'saga'}\n",
    "model1 = LogisticRegression(random_state = 0,**best_params)\n",
    "\n",
    "#to hold results\n",
    "accuracy = []\n",
    "coef = np.zeros((1,19))\n",
    "intercept = np.zeros((1,1))\n",
    "\n",
    "#Establish stratified Kfold with 10 splits\n",
    "skf = StratifiedKFold(n_splits = 10, shuffle = True)\n",
    "\n",
    "for fold, (train_index,test_index) in enumerate(skf.split(X, y)):\n",
    "    X_train, X_test = X.iloc[train_index], X.iloc[test_index]\n",
    "    y_train, y_test = y.iloc[train_index], y.iloc[test_index]\n",
    "\n",
    "    #Standardize the continuous variables\n",
    "    X_train = columnTrans.fit_transform(X_train)\n",
    "    X_test = columnTrans.transform(X_test)\n",
    "\n",
    "    #Fiting the model\n",
    "    model1.fit(X_train, y_train)\n",
    "\n",
    "    #Make prediction\n",
    "    preds = model1.predict(X_test)\n",
    "\n",
    "    #Scoring the model\n",
    "    score = model1.score(X_test, y_test)\n",
    "    accuracy.append(score)\n",
    "    coef += model1.coef_\n",
    "    intercept += model1.intercept_\n",
    "    print(f'Accuracy score for {fold}th is: {score}')\n",
    "\n",
    "print(f'The average score across all 10 folds is {np.mean(accuracy)}')"
   ]
  },
  {
   "cell_type": "markdown",
   "id": "42b2bbb5",
   "metadata": {
    "papermill": {
     "duration": 0.104333,
     "end_time": "2021-09-03T12:29:58.531991",
     "exception": false,
     "start_time": "2021-09-03T12:29:58.427658",
     "status": "completed"
    },
    "tags": []
   },
   "source": [
    "We can see that this logistic regression model has an **average accuracy of roughly 84%** across 10 folds in predicting who will be most likely to pay back the loan."
   ]
  },
  {
   "cell_type": "markdown",
   "id": "8b36e4a2",
   "metadata": {
    "papermill": {
     "duration": 0.102921,
     "end_time": "2021-09-03T12:29:58.738742",
     "exception": false,
     "start_time": "2021-09-03T12:29:58.635821",
     "status": "completed"
    },
    "tags": []
   },
   "source": [
    "Then we'll analyze the relationship between X and y of each independent variables have on not_fully_paid"
   ]
  },
  {
   "cell_type": "code",
   "execution_count": 33,
   "id": "ef2870a2",
   "metadata": {
    "execution": {
     "iopub.execute_input": "2021-09-03T12:29:58.952050Z",
     "iopub.status.busy": "2021-09-03T12:29:58.951123Z",
     "iopub.status.idle": "2021-09-03T12:29:58.953919Z",
     "shell.execute_reply": "2021-09-03T12:29:58.953496Z"
    },
    "papermill": {
     "duration": 0.111805,
     "end_time": "2021-09-03T12:29:58.954060",
     "exception": false,
     "start_time": "2021-09-03T12:29:58.842255",
     "status": "completed"
    },
    "tags": []
   },
   "outputs": [],
   "source": [
    "#Divide by the number of folds to get the average coefficients and intercept\n",
    "coef = coef/10\n",
    "intercept = intercept/10\n",
    "coef = coef[0]\n",
    "intercept = intercept[0]"
   ]
  },
  {
   "cell_type": "code",
   "execution_count": 34,
   "id": "5284e87d",
   "metadata": {
    "execution": {
     "iopub.execute_input": "2021-09-03T12:29:59.173151Z",
     "iopub.status.busy": "2021-09-03T12:29:59.172537Z",
     "iopub.status.idle": "2021-09-03T12:29:59.179209Z",
     "shell.execute_reply": "2021-09-03T12:29:59.179631Z"
    },
    "papermill": {
     "duration": 0.122106,
     "end_time": "2021-09-03T12:29:59.179811",
     "exception": false,
     "start_time": "2021-09-03T12:29:59.057705",
     "status": "completed"
    },
    "tags": []
   },
   "outputs": [
    {
     "name": "stdout",
     "output_type": "stream",
     "text": [
      "The default person with 0 across all variables has a probability of having not fully paid equals to: [-3.22465195e-06]\n",
      "The bigger these variables below get, it means the more likely that the person has not fully paid\n",
      "{'credit_policy': 4.0940094635120494e-06,\n",
      " 'delinq_2yrs': 4.1084156434496055e-06,\n",
      " 'dti': 2.1395652293680093e-06,\n",
      " 'fico': 4.095509357546989e-07,\n",
      " 'inq_last_6mths': 3.4630863805347515e-06,\n",
      " 'installment': 1.05043327735216e-06,\n",
      " 'int_rate': 1.6897548338717867e-06,\n",
      " 'purpose_small_business': 4.096558998829987e-07,\n",
      " 'time_to_paid_off_mths': 1.325097910721083e-07}\n",
      "The bigger these variables below get, it means the more likely that the person has fully paid\n",
      "{'days_with_cr_line': -4.298105818696834e-06,\n",
      " 'log_annual_inc': -4.842795810739065e-07,\n",
      " 'pub_rec': -5.045222273822078e-07,\n",
      " 'purpose_credit_card': -8.6492211155562e-07,\n",
      " 'purpose_debt_consolidation': -1.621597324223077e-06,\n",
      " 'purpose_educational': -6.91477898643966e-09,\n",
      " 'purpose_home_improvement': -1.397404161427742e-07,\n",
      " 'purpose_major_purchase': -3.198164425848188e-07,\n",
      " 'revol_bal': -3.5665348534622744e-05,\n",
      " 'revol_util': -0.002426376732909592}\n"
     ]
    }
   ],
   "source": [
    "import pprint #to print dictionary output nicely\n",
    "pos_coef_list = []\n",
    "neg_coef_list = []\n",
    "pos_coef = {} #for positive coefficients var\n",
    "neg_coef = {} #for negative coefficients var\n",
    "for i,c in enumerate(X.columns): \n",
    "    if coef[i] > 0:\n",
    "        pos_coef[c] = coef[i]\n",
    "        pos_coef_list.append(coef[i])\n",
    "    else:\n",
    "        neg_coef[c] = coef[i]\n",
    "        neg_coef_list.append(coef[i])\n",
    "print('The default person with 0 across all variables has a probability of having not fully paid equals to:', intercept)\n",
    "print('The bigger these variables below get, it means the more likely that the person has not fully paid')\n",
    "pprint.pprint(pos_coef)\n",
    "print(\"The bigger these variables below get, it means the more likely that the person has fully paid\")\n",
    "pprint.pprint(neg_coef)"
   ]
  }
 ],
 "metadata": {
  "kernelspec": {
   "display_name": "Python 3",
   "language": "python",
   "name": "python3"
  },
  "language_info": {
   "codemirror_mode": {
    "name": "ipython",
    "version": 3
   },
   "file_extension": ".py",
   "mimetype": "text/x-python",
   "name": "python",
   "nbconvert_exporter": "python",
   "pygments_lexer": "ipython3",
   "version": "3.7.10"
  },
  "papermill": {
   "default_parameters": {},
   "duration": 311.618846,
   "end_time": "2021-09-03T12:30:00.196467",
   "environment_variables": {},
   "exception": null,
   "input_path": "__notebook__.ipynb",
   "output_path": "__notebook__.ipynb",
   "parameters": {},
   "start_time": "2021-09-03T12:24:48.577621",
   "version": "2.3.3"
  }
 },
 "nbformat": 4,
 "nbformat_minor": 5
}
